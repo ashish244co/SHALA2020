{
  "nbformat": 4,
  "nbformat_minor": 0,
  "metadata": {
    "colab": {
      "name": "Ashish_Kashav_assignment_segmentation_SHALA.ipynb",
      "provenance": [],
      "collapsed_sections": [],
      "toc_visible": true,
      "include_colab_link": true
    },
    "kernelspec": {
      "name": "python3",
      "display_name": "Python 3"
    },
    "accelerator": "GPU",
    "widgets": {
      "application/vnd.jupyter.widget-state+json": {
        "ff6b282a03d04685a197a109642dca99": {
          "model_module": "@jupyter-widgets/controls",
          "model_name": "HBoxModel",
          "state": {
            "_view_name": "HBoxView",
            "_dom_classes": [],
            "_model_name": "HBoxModel",
            "_view_module": "@jupyter-widgets/controls",
            "_model_module_version": "1.5.0",
            "_view_count": null,
            "_view_module_version": "1.5.0",
            "box_style": "",
            "layout": "IPY_MODEL_cff17d6fdc924373b37a35381d6f13ae",
            "_model_module": "@jupyter-widgets/controls",
            "children": [
              "IPY_MODEL_32d86049b0dc4b1da99efedf46d87ae3",
              "IPY_MODEL_5f5f9eddb15641439fd009ef3dd86146"
            ]
          }
        },
        "cff17d6fdc924373b37a35381d6f13ae": {
          "model_module": "@jupyter-widgets/base",
          "model_name": "LayoutModel",
          "state": {
            "_view_name": "LayoutView",
            "grid_template_rows": null,
            "right": null,
            "justify_content": null,
            "_view_module": "@jupyter-widgets/base",
            "overflow": null,
            "_model_module_version": "1.2.0",
            "_view_count": null,
            "flex_flow": null,
            "width": null,
            "min_width": null,
            "border": null,
            "align_items": null,
            "bottom": null,
            "_model_module": "@jupyter-widgets/base",
            "top": null,
            "grid_column": null,
            "overflow_y": null,
            "overflow_x": null,
            "grid_auto_flow": null,
            "grid_area": null,
            "grid_template_columns": null,
            "flex": null,
            "_model_name": "LayoutModel",
            "justify_items": null,
            "grid_row": null,
            "max_height": null,
            "align_content": null,
            "visibility": null,
            "align_self": null,
            "height": null,
            "min_height": null,
            "padding": null,
            "grid_auto_rows": null,
            "grid_gap": null,
            "max_width": null,
            "order": null,
            "_view_module_version": "1.2.0",
            "grid_template_areas": null,
            "object_position": null,
            "object_fit": null,
            "grid_auto_columns": null,
            "margin": null,
            "display": null,
            "left": null
          }
        },
        "32d86049b0dc4b1da99efedf46d87ae3": {
          "model_module": "@jupyter-widgets/controls",
          "model_name": "FloatProgressModel",
          "state": {
            "_view_name": "ProgressView",
            "style": "IPY_MODEL_73c359190bcd4141ad07e0ec3a6ac21d",
            "_dom_classes": [],
            "description": "100%",
            "_model_name": "FloatProgressModel",
            "bar_style": "success",
            "max": 87306240,
            "_view_module": "@jupyter-widgets/controls",
            "_model_module_version": "1.5.0",
            "value": 87306240,
            "_view_count": null,
            "_view_module_version": "1.5.0",
            "orientation": "horizontal",
            "min": 0,
            "description_tooltip": null,
            "_model_module": "@jupyter-widgets/controls",
            "layout": "IPY_MODEL_9fd28530af6c4d699bc29221ef0d20f5"
          }
        },
        "5f5f9eddb15641439fd009ef3dd86146": {
          "model_module": "@jupyter-widgets/controls",
          "model_name": "HTMLModel",
          "state": {
            "_view_name": "HTMLView",
            "style": "IPY_MODEL_b1a38c1608ca418fbdf3823103fa8d8a",
            "_dom_classes": [],
            "description": "",
            "_model_name": "HTMLModel",
            "placeholder": "​",
            "_view_module": "@jupyter-widgets/controls",
            "_model_module_version": "1.5.0",
            "value": " 83.3M/83.3M [00:17&lt;00:00, 5.08MB/s]",
            "_view_count": null,
            "_view_module_version": "1.5.0",
            "description_tooltip": null,
            "_model_module": "@jupyter-widgets/controls",
            "layout": "IPY_MODEL_29ac5a315cdd40379dfe0fcf64c88236"
          }
        },
        "73c359190bcd4141ad07e0ec3a6ac21d": {
          "model_module": "@jupyter-widgets/controls",
          "model_name": "ProgressStyleModel",
          "state": {
            "_view_name": "StyleView",
            "_model_name": "ProgressStyleModel",
            "description_width": "initial",
            "_view_module": "@jupyter-widgets/base",
            "_model_module_version": "1.5.0",
            "_view_count": null,
            "_view_module_version": "1.2.0",
            "bar_color": null,
            "_model_module": "@jupyter-widgets/controls"
          }
        },
        "9fd28530af6c4d699bc29221ef0d20f5": {
          "model_module": "@jupyter-widgets/base",
          "model_name": "LayoutModel",
          "state": {
            "_view_name": "LayoutView",
            "grid_template_rows": null,
            "right": null,
            "justify_content": null,
            "_view_module": "@jupyter-widgets/base",
            "overflow": null,
            "_model_module_version": "1.2.0",
            "_view_count": null,
            "flex_flow": null,
            "width": null,
            "min_width": null,
            "border": null,
            "align_items": null,
            "bottom": null,
            "_model_module": "@jupyter-widgets/base",
            "top": null,
            "grid_column": null,
            "overflow_y": null,
            "overflow_x": null,
            "grid_auto_flow": null,
            "grid_area": null,
            "grid_template_columns": null,
            "flex": null,
            "_model_name": "LayoutModel",
            "justify_items": null,
            "grid_row": null,
            "max_height": null,
            "align_content": null,
            "visibility": null,
            "align_self": null,
            "height": null,
            "min_height": null,
            "padding": null,
            "grid_auto_rows": null,
            "grid_gap": null,
            "max_width": null,
            "order": null,
            "_view_module_version": "1.2.0",
            "grid_template_areas": null,
            "object_position": null,
            "object_fit": null,
            "grid_auto_columns": null,
            "margin": null,
            "display": null,
            "left": null
          }
        },
        "b1a38c1608ca418fbdf3823103fa8d8a": {
          "model_module": "@jupyter-widgets/controls",
          "model_name": "DescriptionStyleModel",
          "state": {
            "_view_name": "StyleView",
            "_model_name": "DescriptionStyleModel",
            "description_width": "",
            "_view_module": "@jupyter-widgets/base",
            "_model_module_version": "1.5.0",
            "_view_count": null,
            "_view_module_version": "1.2.0",
            "_model_module": "@jupyter-widgets/controls"
          }
        },
        "29ac5a315cdd40379dfe0fcf64c88236": {
          "model_module": "@jupyter-widgets/base",
          "model_name": "LayoutModel",
          "state": {
            "_view_name": "LayoutView",
            "grid_template_rows": null,
            "right": null,
            "justify_content": null,
            "_view_module": "@jupyter-widgets/base",
            "overflow": null,
            "_model_module_version": "1.2.0",
            "_view_count": null,
            "flex_flow": null,
            "width": null,
            "min_width": null,
            "border": null,
            "align_items": null,
            "bottom": null,
            "_model_module": "@jupyter-widgets/base",
            "top": null,
            "grid_column": null,
            "overflow_y": null,
            "overflow_x": null,
            "grid_auto_flow": null,
            "grid_area": null,
            "grid_template_columns": null,
            "flex": null,
            "_model_name": "LayoutModel",
            "justify_items": null,
            "grid_row": null,
            "max_height": null,
            "align_content": null,
            "visibility": null,
            "align_self": null,
            "height": null,
            "min_height": null,
            "padding": null,
            "grid_auto_rows": null,
            "grid_gap": null,
            "max_width": null,
            "order": null,
            "_view_module_version": "1.2.0",
            "grid_template_areas": null,
            "object_position": null,
            "object_fit": null,
            "grid_auto_columns": null,
            "margin": null,
            "display": null,
            "left": null
          }
        }
      }
    }
  },
  "cells": [
    {
      "cell_type": "markdown",
      "metadata": {
        "id": "view-in-github",
        "colab_type": "text"
      },
      "source": [
        "<a href=\"https://colab.research.google.com/github/ashish244co/SHALA2020/blob/master/Ashish_Kashav_assignment_segmentation_SHALA.ipynb\" target=\"_parent\"><img src=\"https://colab.research.google.com/assets/colab-badge.svg\" alt=\"Open In Colab\"/></a>"
      ]
    },
    {
      "cell_type": "code",
      "metadata": {
        "id": "8kUcGkX1fI3d",
        "colab_type": "code",
        "colab": {
          "base_uri": "https://localhost:8080/",
          "height": 51
        },
        "outputId": "2aff6601-37bb-4831-bb58-e27bbd7ae098"
      },
      "source": [
        "import os\n",
        "\n",
        "DATA_DIR = './data/CamVid/'\n",
        "\n",
        "if not os.path.exists(DATA_DIR):\n",
        "    print('Loading data...')\n",
        "    os.system('git clone https://github.com/alexgkendall/SegNet-Tutorial ./data')\n",
        "    print('Done!')\n",
        "    \n",
        "CLASS_NAMES = ['sky', 'building', 'pole', 'road', 'pavement',\n",
        "               'tree', 'signsymbol', 'fence', 'car',\n",
        "               'pedestrian', 'bicyclist', 'unlabelled']\n",
        "\n",
        "CLASS_COLORS = [(128, 128, 128), (128, 0, 0), (192, 192, 128), (128, 64, 128), (0, 0, 192),\n",
        "                (128, 128, 0), (192, 128, 128), (64, 64, 128), (64, 0, 128),\n",
        "                (64, 64, 0), (0, 128, 192), (0, 0, 0)]"
      ],
      "execution_count": 1,
      "outputs": [
        {
          "output_type": "stream",
          "text": [
            "Loading data...\n",
            "Done!\n"
          ],
          "name": "stdout"
        }
      ]
    },
    {
      "cell_type": "code",
      "metadata": {
        "id": "Yc4JIbkTdclm",
        "colab_type": "code",
        "outputId": "b0f8615f-e291-43b6-c1cb-d5ec6bb09260",
        "colab": {
          "base_uri": "https://localhost:8080/",
          "height": 1000
        }
      },
      "source": [
        "!pip install -U catalyst"
      ],
      "execution_count": 2,
      "outputs": [
        {
          "output_type": "stream",
          "text": [
            "Collecting catalyst\n",
            "\u001b[?25l  Downloading https://files.pythonhosted.org/packages/03/12/24661ef093301faa86950cb05f722db5cf669f8139a88cd3317616234200/catalyst-20.6-py2.py3-none-any.whl (368kB)\n",
            "\u001b[K     |████████████████████████████████| 368kB 4.7MB/s \n",
            "\u001b[?25hRequirement already satisfied, skipping upgrade: tqdm>=4.33.0 in /usr/local/lib/python3.6/dist-packages (from catalyst) (4.41.1)\n",
            "Requirement already satisfied, skipping upgrade: ipython in /usr/local/lib/python3.6/dist-packages (from catalyst) (5.5.0)\n",
            "Requirement already satisfied, skipping upgrade: PyYAML in /usr/local/lib/python3.6/dist-packages (from catalyst) (3.13)\n",
            "Requirement already satisfied, skipping upgrade: tensorboard>=1.14.0 in /usr/local/lib/python3.6/dist-packages (from catalyst) (2.2.2)\n",
            "Collecting tensorboardX\n",
            "\u001b[?25l  Downloading https://files.pythonhosted.org/packages/35/f1/5843425495765c8c2dd0784a851a93ef204d314fc87bcc2bbb9f662a3ad1/tensorboardX-2.0-py2.py3-none-any.whl (195kB)\n",
            "\u001b[K     |████████████████████████████████| 204kB 10.5MB/s \n",
            "\u001b[?25hRequirement already satisfied, skipping upgrade: scikit-learn>=0.20 in /usr/local/lib/python3.6/dist-packages (from catalyst) (0.22.2.post1)\n",
            "Collecting GitPython>=3.1.1\n",
            "\u001b[?25l  Downloading https://files.pythonhosted.org/packages/8c/f9/c315aa88e51fabdc08e91b333cfefb255aff04a2ee96d632c32cb19180c9/GitPython-3.1.3-py3-none-any.whl (451kB)\n",
            "\u001b[K     |████████████████████████████████| 460kB 11.7MB/s \n",
            "\u001b[?25hCollecting crc32c>=1.7\n",
            "  Downloading https://files.pythonhosted.org/packages/ab/82/f60248c01a8a23ae07bd4c43d78d69b20ffe324311db3b0785e391aa09d2/crc32c-2.0-cp36-cp36m-manylinux1_x86_64.whl\n",
            "Collecting deprecation\n",
            "  Downloading https://files.pythonhosted.org/packages/02/c3/253a89ee03fc9b9682f1541728eb66db7db22148cd94f89ab22528cd1e1b/deprecation-2.1.0-py2.py3-none-any.whl\n",
            "Requirement already satisfied, skipping upgrade: pandas>=0.22 in /usr/local/lib/python3.6/dist-packages (from catalyst) (1.0.4)\n",
            "Requirement already satisfied, skipping upgrade: plotly>=4.1.0 in /usr/local/lib/python3.6/dist-packages (from catalyst) (4.4.1)\n",
            "Requirement already satisfied, skipping upgrade: torch>=1.1.0 in /usr/local/lib/python3.6/dist-packages (from catalyst) (1.5.0+cu101)\n",
            "Requirement already satisfied, skipping upgrade: numpy>=1.16.4 in /usr/local/lib/python3.6/dist-packages (from catalyst) (1.18.5)\n",
            "Requirement already satisfied, skipping upgrade: packaging in /usr/local/lib/python3.6/dist-packages (from catalyst) (20.4)\n",
            "Requirement already satisfied, skipping upgrade: matplotlib in /usr/local/lib/python3.6/dist-packages (from catalyst) (3.2.1)\n",
            "Requirement already satisfied, skipping upgrade: prompt-toolkit<2.0.0,>=1.0.4 in /usr/local/lib/python3.6/dist-packages (from ipython->catalyst) (1.0.18)\n",
            "Requirement already satisfied, skipping upgrade: setuptools>=18.5 in /usr/local/lib/python3.6/dist-packages (from ipython->catalyst) (47.1.1)\n",
            "Requirement already satisfied, skipping upgrade: decorator in /usr/local/lib/python3.6/dist-packages (from ipython->catalyst) (4.4.2)\n",
            "Requirement already satisfied, skipping upgrade: pickleshare in /usr/local/lib/python3.6/dist-packages (from ipython->catalyst) (0.7.5)\n",
            "Requirement already satisfied, skipping upgrade: pexpect; sys_platform != \"win32\" in /usr/local/lib/python3.6/dist-packages (from ipython->catalyst) (4.8.0)\n",
            "Requirement already satisfied, skipping upgrade: simplegeneric>0.8 in /usr/local/lib/python3.6/dist-packages (from ipython->catalyst) (0.8.1)\n",
            "Requirement already satisfied, skipping upgrade: traitlets>=4.2 in /usr/local/lib/python3.6/dist-packages (from ipython->catalyst) (4.3.3)\n",
            "Requirement already satisfied, skipping upgrade: pygments in /usr/local/lib/python3.6/dist-packages (from ipython->catalyst) (2.1.3)\n",
            "Requirement already satisfied, skipping upgrade: six>=1.10.0 in /usr/local/lib/python3.6/dist-packages (from tensorboard>=1.14.0->catalyst) (1.12.0)\n",
            "Requirement already satisfied, skipping upgrade: werkzeug>=0.11.15 in /usr/local/lib/python3.6/dist-packages (from tensorboard>=1.14.0->catalyst) (1.0.1)\n",
            "Requirement already satisfied, skipping upgrade: wheel>=0.26; python_version >= \"3\" in /usr/local/lib/python3.6/dist-packages (from tensorboard>=1.14.0->catalyst) (0.34.2)\n",
            "Requirement already satisfied, skipping upgrade: tensorboard-plugin-wit>=1.6.0 in /usr/local/lib/python3.6/dist-packages (from tensorboard>=1.14.0->catalyst) (1.6.0.post3)\n",
            "Requirement already satisfied, skipping upgrade: google-auth-oauthlib<0.5,>=0.4.1 in /usr/local/lib/python3.6/dist-packages (from tensorboard>=1.14.0->catalyst) (0.4.1)\n",
            "Requirement already satisfied, skipping upgrade: markdown>=2.6.8 in /usr/local/lib/python3.6/dist-packages (from tensorboard>=1.14.0->catalyst) (3.2.2)\n",
            "Requirement already satisfied, skipping upgrade: absl-py>=0.4 in /usr/local/lib/python3.6/dist-packages (from tensorboard>=1.14.0->catalyst) (0.9.0)\n",
            "Requirement already satisfied, skipping upgrade: requests<3,>=2.21.0 in /usr/local/lib/python3.6/dist-packages (from tensorboard>=1.14.0->catalyst) (2.23.0)\n",
            "Requirement already satisfied, skipping upgrade: google-auth<2,>=1.6.3 in /usr/local/lib/python3.6/dist-packages (from tensorboard>=1.14.0->catalyst) (1.7.2)\n",
            "Requirement already satisfied, skipping upgrade: protobuf>=3.6.0 in /usr/local/lib/python3.6/dist-packages (from tensorboard>=1.14.0->catalyst) (3.10.0)\n",
            "Requirement already satisfied, skipping upgrade: grpcio>=1.24.3 in /usr/local/lib/python3.6/dist-packages (from tensorboard>=1.14.0->catalyst) (1.29.0)\n",
            "Requirement already satisfied, skipping upgrade: scipy>=0.17.0 in /usr/local/lib/python3.6/dist-packages (from scikit-learn>=0.20->catalyst) (1.4.1)\n",
            "Requirement already satisfied, skipping upgrade: joblib>=0.11 in /usr/local/lib/python3.6/dist-packages (from scikit-learn>=0.20->catalyst) (0.15.1)\n",
            "Collecting gitdb<5,>=4.0.1\n",
            "\u001b[?25l  Downloading https://files.pythonhosted.org/packages/48/11/d1800bca0a3bae820b84b7d813ad1eff15a48a64caea9c823fc8c1b119e8/gitdb-4.0.5-py3-none-any.whl (63kB)\n",
            "\u001b[K     |████████████████████████████████| 71kB 6.8MB/s \n",
            "\u001b[?25hRequirement already satisfied, skipping upgrade: python-dateutil>=2.6.1 in /usr/local/lib/python3.6/dist-packages (from pandas>=0.22->catalyst) (2.8.1)\n",
            "Requirement already satisfied, skipping upgrade: pytz>=2017.2 in /usr/local/lib/python3.6/dist-packages (from pandas>=0.22->catalyst) (2018.9)\n",
            "Requirement already satisfied, skipping upgrade: retrying>=1.3.3 in /usr/local/lib/python3.6/dist-packages (from plotly>=4.1.0->catalyst) (1.3.3)\n",
            "Requirement already satisfied, skipping upgrade: future in /usr/local/lib/python3.6/dist-packages (from torch>=1.1.0->catalyst) (0.16.0)\n",
            "Requirement already satisfied, skipping upgrade: pyparsing>=2.0.2 in /usr/local/lib/python3.6/dist-packages (from packaging->catalyst) (2.4.7)\n",
            "Requirement already satisfied, skipping upgrade: kiwisolver>=1.0.1 in /usr/local/lib/python3.6/dist-packages (from matplotlib->catalyst) (1.2.0)\n",
            "Requirement already satisfied, skipping upgrade: cycler>=0.10 in /usr/local/lib/python3.6/dist-packages (from matplotlib->catalyst) (0.10.0)\n",
            "Requirement already satisfied, skipping upgrade: wcwidth in /usr/local/lib/python3.6/dist-packages (from prompt-toolkit<2.0.0,>=1.0.4->ipython->catalyst) (0.2.3)\n",
            "Requirement already satisfied, skipping upgrade: ptyprocess>=0.5 in /usr/local/lib/python3.6/dist-packages (from pexpect; sys_platform != \"win32\"->ipython->catalyst) (0.6.0)\n",
            "Requirement already satisfied, skipping upgrade: ipython-genutils in /usr/local/lib/python3.6/dist-packages (from traitlets>=4.2->ipython->catalyst) (0.2.0)\n",
            "Requirement already satisfied, skipping upgrade: requests-oauthlib>=0.7.0 in /usr/local/lib/python3.6/dist-packages (from google-auth-oauthlib<0.5,>=0.4.1->tensorboard>=1.14.0->catalyst) (1.3.0)\n",
            "Requirement already satisfied, skipping upgrade: importlib-metadata; python_version < \"3.8\" in /usr/local/lib/python3.6/dist-packages (from markdown>=2.6.8->tensorboard>=1.14.0->catalyst) (1.6.0)\n",
            "Requirement already satisfied, skipping upgrade: urllib3!=1.25.0,!=1.25.1,<1.26,>=1.21.1 in /usr/local/lib/python3.6/dist-packages (from requests<3,>=2.21.0->tensorboard>=1.14.0->catalyst) (1.24.3)\n",
            "Requirement already satisfied, skipping upgrade: certifi>=2017.4.17 in /usr/local/lib/python3.6/dist-packages (from requests<3,>=2.21.0->tensorboard>=1.14.0->catalyst) (2020.4.5.1)\n",
            "Requirement already satisfied, skipping upgrade: idna<3,>=2.5 in /usr/local/lib/python3.6/dist-packages (from requests<3,>=2.21.0->tensorboard>=1.14.0->catalyst) (2.9)\n",
            "Requirement already satisfied, skipping upgrade: chardet<4,>=3.0.2 in /usr/local/lib/python3.6/dist-packages (from requests<3,>=2.21.0->tensorboard>=1.14.0->catalyst) (3.0.4)\n",
            "Requirement already satisfied, skipping upgrade: pyasn1-modules>=0.2.1 in /usr/local/lib/python3.6/dist-packages (from google-auth<2,>=1.6.3->tensorboard>=1.14.0->catalyst) (0.2.8)\n",
            "Requirement already satisfied, skipping upgrade: rsa<4.1,>=3.1.4 in /usr/local/lib/python3.6/dist-packages (from google-auth<2,>=1.6.3->tensorboard>=1.14.0->catalyst) (4.0)\n",
            "Requirement already satisfied, skipping upgrade: cachetools<3.2,>=2.0.0 in /usr/local/lib/python3.6/dist-packages (from google-auth<2,>=1.6.3->tensorboard>=1.14.0->catalyst) (3.1.1)\n",
            "Collecting smmap<4,>=3.0.1\n",
            "  Downloading https://files.pythonhosted.org/packages/b0/9a/4d409a6234eb940e6a78dfdfc66156e7522262f5f2fecca07dc55915952d/smmap-3.0.4-py2.py3-none-any.whl\n",
            "Requirement already satisfied, skipping upgrade: oauthlib>=3.0.0 in /usr/local/lib/python3.6/dist-packages (from requests-oauthlib>=0.7.0->google-auth-oauthlib<0.5,>=0.4.1->tensorboard>=1.14.0->catalyst) (3.1.0)\n",
            "Requirement already satisfied, skipping upgrade: zipp>=0.5 in /usr/local/lib/python3.6/dist-packages (from importlib-metadata; python_version < \"3.8\"->markdown>=2.6.8->tensorboard>=1.14.0->catalyst) (3.1.0)\n",
            "Requirement already satisfied, skipping upgrade: pyasn1<0.5.0,>=0.4.6 in /usr/local/lib/python3.6/dist-packages (from pyasn1-modules>=0.2.1->google-auth<2,>=1.6.3->tensorboard>=1.14.0->catalyst) (0.4.8)\n",
            "Installing collected packages: tensorboardX, smmap, gitdb, GitPython, crc32c, deprecation, catalyst\n",
            "Successfully installed GitPython-3.1.3 catalyst-20.6 crc32c-2.0 deprecation-2.1.0 gitdb-4.0.5 smmap-3.0.4 tensorboardX-2.0\n"
          ],
          "name": "stdout"
        }
      ]
    },
    {
      "cell_type": "code",
      "metadata": {
        "id": "ntQV08g7Ccbc",
        "colab_type": "code",
        "colab": {}
      },
      "source": [
        "import os\n",
        "from collections import OrderedDict\n",
        "from functools import partial\n",
        "import numpy as np\n",
        "import torch\n",
        "import torch.nn as nn\n",
        "import cv2\n",
        "from torch.optim import Adam, SGD, ASGD, RMSprop, LBFGS\n",
        "from torch.utils.data import Dataset, DataLoader, WeightedRandomSampler\n",
        "from torchvision.models import resnet34\n",
        "from datetime import datetime"
      ],
      "execution_count": 0,
      "outputs": []
    },
    {
      "cell_type": "code",
      "metadata": {
        "id": "QowbwpZ8ckcN",
        "colab_type": "code",
        "colab": {}
      },
      "source": [
        "import torchvision"
      ],
      "execution_count": 0,
      "outputs": []
    },
    {
      "cell_type": "code",
      "metadata": {
        "id": "9oCtD-bGm3NW",
        "colab_type": "code",
        "colab": {
          "base_uri": "https://localhost:8080/",
          "height": 68
        },
        "outputId": "679f5e4e-02e9-476c-d6ce-152ce55804ef"
      },
      "source": [
        "! pip install --quiet git+https://github.com/albu/albumentations"
      ],
      "execution_count": 5,
      "outputs": [
        {
          "output_type": "stream",
          "text": [
            "\u001b[?25l\r\u001b[K     |▌                               | 10kB 24.9MB/s eta 0:00:01\r\u001b[K     |█                               | 20kB 3.0MB/s eta 0:00:01\r\u001b[K     |█▋                              | 30kB 3.9MB/s eta 0:00:01\r\u001b[K     |██                              | 40kB 4.2MB/s eta 0:00:01\r\u001b[K     |██▋                             | 51kB 3.4MB/s eta 0:00:01\r\u001b[K     |███▏                            | 61kB 3.9MB/s eta 0:00:01\r\u001b[K     |███▋                            | 71kB 4.1MB/s eta 0:00:01\r\u001b[K     |████▏                           | 81kB 4.5MB/s eta 0:00:01\r\u001b[K     |████▊                           | 92kB 4.9MB/s eta 0:00:01\r\u001b[K     |█████▏                          | 102kB 4.6MB/s eta 0:00:01\r\u001b[K     |█████▊                          | 112kB 4.6MB/s eta 0:00:01\r\u001b[K     |██████▎                         | 122kB 4.6MB/s eta 0:00:01\r\u001b[K     |██████▊                         | 133kB 4.6MB/s eta 0:00:01\r\u001b[K     |███████▎                        | 143kB 4.6MB/s eta 0:00:01\r\u001b[K     |███████▉                        | 153kB 4.6MB/s eta 0:00:01\r\u001b[K     |████████▎                       | 163kB 4.6MB/s eta 0:00:01\r\u001b[K     |████████▉                       | 174kB 4.6MB/s eta 0:00:01\r\u001b[K     |█████████▍                      | 184kB 4.6MB/s eta 0:00:01\r\u001b[K     |█████████▉                      | 194kB 4.6MB/s eta 0:00:01\r\u001b[K     |██████████▍                     | 204kB 4.6MB/s eta 0:00:01\r\u001b[K     |███████████                     | 215kB 4.6MB/s eta 0:00:01\r\u001b[K     |███████████▍                    | 225kB 4.6MB/s eta 0:00:01\r\u001b[K     |████████████                    | 235kB 4.6MB/s eta 0:00:01\r\u001b[K     |████████████▌                   | 245kB 4.6MB/s eta 0:00:01\r\u001b[K     |█████████████                   | 256kB 4.6MB/s eta 0:00:01\r\u001b[K     |█████████████▌                  | 266kB 4.6MB/s eta 0:00:01\r\u001b[K     |██████████████                  | 276kB 4.6MB/s eta 0:00:01\r\u001b[K     |██████████████▌                 | 286kB 4.6MB/s eta 0:00:01\r\u001b[K     |███████████████                 | 296kB 4.6MB/s eta 0:00:01\r\u001b[K     |███████████████▋                | 307kB 4.6MB/s eta 0:00:01\r\u001b[K     |████████████████                | 317kB 4.6MB/s eta 0:00:01\r\u001b[K     |████████████████▋               | 327kB 4.6MB/s eta 0:00:01\r\u001b[K     |█████████████████▏              | 337kB 4.6MB/s eta 0:00:01\r\u001b[K     |█████████████████▋              | 348kB 4.6MB/s eta 0:00:01\r\u001b[K     |██████████████████▏             | 358kB 4.6MB/s eta 0:00:01\r\u001b[K     |██████████████████▊             | 368kB 4.6MB/s eta 0:00:01\r\u001b[K     |███████████████████▏            | 378kB 4.6MB/s eta 0:00:01\r\u001b[K     |███████████████████▊            | 389kB 4.6MB/s eta 0:00:01\r\u001b[K     |████████████████████▎           | 399kB 4.6MB/s eta 0:00:01\r\u001b[K     |████████████████████▊           | 409kB 4.6MB/s eta 0:00:01\r\u001b[K     |█████████████████████▎          | 419kB 4.6MB/s eta 0:00:01\r\u001b[K     |█████████████████████▉          | 430kB 4.6MB/s eta 0:00:01\r\u001b[K     |██████████████████████▎         | 440kB 4.6MB/s eta 0:00:01\r\u001b[K     |██████████████████████▉         | 450kB 4.6MB/s eta 0:00:01\r\u001b[K     |███████████████████████▍        | 460kB 4.6MB/s eta 0:00:01\r\u001b[K     |███████████████████████▉        | 471kB 4.6MB/s eta 0:00:01\r\u001b[K     |████████████████████████▍       | 481kB 4.6MB/s eta 0:00:01\r\u001b[K     |█████████████████████████       | 491kB 4.6MB/s eta 0:00:01\r\u001b[K     |█████████████████████████▍      | 501kB 4.6MB/s eta 0:00:01\r\u001b[K     |██████████████████████████      | 512kB 4.6MB/s eta 0:00:01\r\u001b[K     |██████████████████████████▌     | 522kB 4.6MB/s eta 0:00:01\r\u001b[K     |███████████████████████████     | 532kB 4.6MB/s eta 0:00:01\r\u001b[K     |███████████████████████████▌    | 542kB 4.6MB/s eta 0:00:01\r\u001b[K     |████████████████████████████    | 552kB 4.6MB/s eta 0:00:01\r\u001b[K     |████████████████████████████▌   | 563kB 4.6MB/s eta 0:00:01\r\u001b[K     |█████████████████████████████   | 573kB 4.6MB/s eta 0:00:01\r\u001b[K     |█████████████████████████████▋  | 583kB 4.6MB/s eta 0:00:01\r\u001b[K     |██████████████████████████████  | 593kB 4.6MB/s eta 0:00:01\r\u001b[K     |██████████████████████████████▋ | 604kB 4.6MB/s eta 0:00:01\r\u001b[K     |███████████████████████████████▏| 614kB 4.6MB/s eta 0:00:01\r\u001b[K     |███████████████████████████████▋| 624kB 4.6MB/s eta 0:00:01\r\u001b[K     |████████████████████████████████| 634kB 4.6MB/s \n",
            "\u001b[?25h  Building wheel for albumentations (setup.py) ... \u001b[?25l\u001b[?25hdone\n",
            "  Building wheel for imgaug (setup.py) ... \u001b[?25l\u001b[?25hdone\n"
          ],
          "name": "stdout"
        }
      ]
    },
    {
      "cell_type": "code",
      "metadata": {
        "id": "wuFKSVSPEPaA",
        "colab_type": "code",
        "colab": {}
      },
      "source": [
        "import albumentations as A"
      ],
      "execution_count": 0,
      "outputs": []
    },
    {
      "cell_type": "code",
      "metadata": {
        "id": "1T8ahEGzbyzv",
        "colab_type": "code",
        "colab": {}
      },
      "source": [
        "class CamVidDataset(Dataset):\n",
        "\n",
        "\n",
        "    def __init__(\n",
        "            self,\n",
        "            images_dir,\n",
        "            masks_dir,\n",
        "            transform=A.Normalize()\n",
        "    ):\n",
        "        self.ids = os.listdir(images_dir)\n",
        "        self.images_fps = [os.path.join(images_dir, image_id) for image_id in self.ids]\n",
        "        self.masks_fps = [os.path.join(masks_dir, image_id) for image_id in self.ids]\n",
        "        self.transform = transform\n",
        "\n",
        "\n",
        "    def __getitem__(self, i):\n",
        "        # read data\n",
        "        image = cv2.imread(self.images_fps[i])\n",
        "        mask = cv2.imread(self.masks_fps[i],cv2.IMREAD_GRAYSCALE)\n",
        "        \n",
        "        # apply augmentations\n",
        "\n",
        "        \n",
        "\n",
        "        sample = self.transform(image=image, mask=mask)\n",
        "        image, mask = sample['image'], sample['mask']\n",
        "        image = np.moveaxis(image, -1, 0)\n",
        "        image = np.ascontiguousarray(image)\n",
        "        image = torch.from_numpy(image)\n",
        "\n",
        "        return {\n",
        "            \"features\": image,\n",
        "            \"targets\": torch.from_numpy(mask).long()\n",
        "        }\n",
        "\n",
        "    def __len__(self):\n",
        "        return len(self.ids)"
      ],
      "execution_count": 0,
      "outputs": []
    },
    {
      "cell_type": "code",
      "metadata": {
        "id": "NQbHK9R5c6k_",
        "colab_type": "code",
        "colab": {}
      },
      "source": [
        "x_train_dir = os.path.join(DATA_DIR, 'train')\n",
        "y_train_dir = os.path.join(DATA_DIR, 'trainannot')\n",
        "\n",
        "x_valid_dir = os.path.join(DATA_DIR, 'val')\n",
        "y_valid_dir = os.path.join(DATA_DIR, 'valannot')\n",
        "\n",
        "x_test_dir = os.path.join(DATA_DIR, 'test')\n",
        "y_test_dir = os.path.join(DATA_DIR, 'testannot')"
      ],
      "execution_count": 0,
      "outputs": []
    },
    {
      "cell_type": "code",
      "metadata": {
        "id": "xwIqDSr9mLPU",
        "colab_type": "code",
        "colab": {}
      },
      "source": [
        "def get_training_augmentation(blur=True, weather=True):\n",
        "    return A.Compose([\n",
        "        A.PadIfNeeded(384, 384, border_mode=cv2.BORDER_CONSTANT, value=0, mask_value=11),\n",
        "        A.Normalize()\n",
        "    ])\n",
        "\n",
        "\n",
        "def get_validation_augmentation():\n",
        "    return A.Compose([\n",
        "        A.PadIfNeeded(384, 384, border_mode=cv2.BORDER_CONSTANT, value=0, mask_value=11),\n",
        "        A.Normalize()\n",
        "    ])"
      ],
      "execution_count": 0,
      "outputs": []
    },
    {
      "cell_type": "code",
      "metadata": {
        "id": "VnSxhYRJcvhP",
        "colab_type": "code",
        "outputId": "d9c53dcc-ac96-408a-b94c-f2892327091e",
        "colab": {
          "base_uri": "https://localhost:8080/",
          "height": 51
        }
      },
      "source": [
        "train_ds = CamVidDataset(x_train_dir, y_train_dir, transform=get_training_augmentation())\n",
        "valid_ds = CamVidDataset(x_valid_dir, y_valid_dir, transform=get_validation_augmentation())\n",
        "\n",
        "print('Train dataset size', len(train_ds))\n",
        "print('Valid dataset size', len(valid_ds))"
      ],
      "execution_count": 10,
      "outputs": [
        {
          "output_type": "stream",
          "text": [
            "Train dataset size 367\n",
            "Valid dataset size 101\n"
          ],
          "name": "stdout"
        }
      ]
    },
    {
      "cell_type": "code",
      "metadata": {
        "id": "SzN4sbbOfg-_",
        "colab_type": "code",
        "colab": {}
      },
      "source": [
        "import matplotlib.pyplot as plt"
      ],
      "execution_count": 0,
      "outputs": []
    },
    {
      "cell_type": "code",
      "metadata": {
        "id": "iURUAmsS5KC3",
        "colab_type": "code",
        "colab": {
          "base_uri": "https://localhost:8080/",
          "height": 323
        },
        "outputId": "871991dd-3378-4aae-e937-9580da1a7801"
      },
      "source": [
        "plt.imshow(np.transpose(train_ds[1]['features'].cpu().detach().numpy(), (1, 2, 0)))"
      ],
      "execution_count": 12,
      "outputs": [
        {
          "output_type": "stream",
          "text": [
            "Clipping input data to the valid range for imshow with RGB data ([0..1] for floats or [0..255] for integers).\n"
          ],
          "name": "stderr"
        },
        {
          "output_type": "execute_result",
          "data": {
            "text/plain": [
              "<matplotlib.image.AxesImage at 0x7f9b400a8ba8>"
            ]
          },
          "metadata": {
            "tags": []
          },
          "execution_count": 12
        },
        {
          "output_type": "display_data",
          "data": {
            "image/png": "[encoded data removed]",
            "text/plain": [
              "<Figure size 432x288 with 1 Axes>"
            ]
          },
          "metadata": {
            "tags": [],
            "needs_background": "light"
          }
        }
      ]
    },
    {
      "cell_type": "code",
      "metadata": {
        "id": "egYQpuiGjSaT",
        "colab_type": "code",
        "colab": {
          "base_uri": "https://localhost:8080/",
          "height": 34
        },
        "outputId": "b3b91dc0-3ff3-48ee-ee57-4f504575facc"
      },
      "source": [
        "np.transpose(train_ds[1]['features'].cpu().detach().numpy(), (1, 2, 0)).shape"
      ],
      "execution_count": 13,
      "outputs": [
        {
          "output_type": "execute_result",
          "data": {
            "text/plain": [
              "(384, 480, 3)"
            ]
          },
          "metadata": {
            "tags": []
          },
          "execution_count": 13
        }
      ]
    },
    {
      "cell_type": "code",
      "metadata": {
        "id": "xkxfoQQ4g-7b",
        "colab_type": "code",
        "outputId": "64bd832c-cac0-491f-f6b8-d6fe8974923b",
        "colab": {
          "base_uri": "https://localhost:8080/",
          "height": 286
        }
      },
      "source": [
        "plt.imshow(train_ds[1]['targets'])"
      ],
      "execution_count": 14,
      "outputs": [
        {
          "output_type": "execute_result",
          "data": {
            "text/plain": [
              "<matplotlib.image.AxesImage at 0x7f9b3fb84828>"
            ]
          },
          "metadata": {
            "tags": []
          },
          "execution_count": 14
        },
        {
          "output_type": "display_data",
          "data": {
            "image/png": "[encoded data removed]",
            "text/plain": [
              "<Figure size 432x288 with 1 Axes>"
            ]
          },
          "metadata": {
            "tags": [],
            "needs_background": "light"
          }
        }
      ]
    },
    {
      "cell_type": "code",
      "metadata": {
        "id": "4cLVWY-MhtOS",
        "colab_type": "code",
        "colab": {}
      },
      "source": [
        "def dice_score(y_pred: torch.Tensor, y_true: torch.Tensor, smooth=0, eps=1e-7, dims=None) -> torch.Tensor:\n",
        "   \n",
        "    if dims is not None:\n",
        "        intersection = torch.sum(y_pred * y_true, dim=dims)\n",
        "        cardinality = torch.sum(y_pred + y_true, dim=dims)\n",
        "    else:\n",
        "        intersection = torch.sum(y_pred * y_true)\n",
        "        cardinality = torch.sum(y_pred + y_true)\n",
        "    dice_score = (2.0 * intersection) / (cardinality+ eps)\n",
        "    return dice_score"
      ],
      "execution_count": 0,
      "outputs": []
    },
    {
      "cell_type": "code",
      "metadata": {
        "id": "bQgNotjTnj4b",
        "colab_type": "code",
        "colab": {
          "base_uri": "https://localhost:8080/",
          "height": 54
        },
        "outputId": "e0e02f22-85a5-4012-a7be-c06319ac22eb"
      },
      "source": [
        "A.PadIfNeeded(384, 384, border_mode=cv2.BORDER_CONSTANT, value=0, mask_value=11)"
      ],
      "execution_count": 16,
      "outputs": [
        {
          "output_type": "execute_result",
          "data": {
            "text/plain": [
              "PadIfNeeded(always_apply=False, p=1.0, min_height=384, min_width=384, border_mode=0, value=0, mask_value=11)"
            ]
          },
          "metadata": {
            "tags": []
          },
          "execution_count": 16
        }
      ]
    },
    {
      "cell_type": "code",
      "metadata": {
        "id": "_-7iTqX8jYSt",
        "colab_type": "code",
        "colab": {
          "base_uri": "https://localhost:8080/",
          "height": 34
        },
        "outputId": "7abeec1d-fb5c-4d39-9dac-a6171dd61514"
      },
      "source": [
        "(360, 480, 3)"
      ],
      "execution_count": 17,
      "outputs": [
        {
          "output_type": "execute_result",
          "data": {
            "text/plain": [
              "(360, 480, 3)"
            ]
          },
          "metadata": {
            "tags": []
          },
          "execution_count": 17
        }
      ]
    },
    {
      "cell_type": "code",
      "metadata": {
        "id": "ep79llYukmrP",
        "colab_type": "code",
        "colab": {}
      },
      "source": [
        "class DecoderBlockLinkNet(nn.Module):\n",
        "    def __init__(self, in_channels, n_filters):\n",
        "        super().__init__()\n",
        "\n",
        "        self.relu = nn.ReLU(inplace=True)\n",
        "\n",
        "        # B, C, H, W -> B, C/4, H, W\n",
        "        self.conv1 = nn.Conv2d(in_channels, in_channels // 4, 1)\n",
        "        self.norm1 = nn.BatchNorm2d(in_channels // 4)\n",
        "\n",
        "        # B, C/4, H, W -> B, C/4, 2 * H, 2 * W\n",
        "        self.deconv2 = nn.ConvTranspose2d(in_channels // 4, in_channels // 4, kernel_size=4,stride=2, padding=1, output_padding=0)\n",
        "        self.norm2 = nn.BatchNorm2d(in_channels // 4)\n",
        "\n",
        "        # B, C/4, H, W -> B, C, H, W\n",
        "        self.conv3 = nn.Conv2d(in_channels // 4, n_filters, 1)\n",
        "        self.norm3 = nn.BatchNorm2d(n_filters)\n",
        "\n",
        "    def forward(self, x):\n",
        "        x = self.conv1(x)\n",
        "        x = self.norm1(x)\n",
        "        x = self.relu(x)\n",
        "        x = self.deconv2(x)\n",
        "        x = self.norm2(x)\n",
        "        x = self.relu(x)\n",
        "        x = self.conv3(x)\n",
        "        x = self.norm3(x)\n",
        "        x = self.relu(x)\n",
        "        return x\n",
        "\n",
        "\n",
        "class LinkNet34(nn.Module):\n",
        "    def __init__(self, num_classes=1, num_channels=3, pretrained=True,link=1):\n",
        "        super().__init__()\n",
        "        assert num_channels == 3\n",
        "        self.num_classes = num_classes\n",
        "        filters = [64, 128, 256, 512]\n",
        "        resnet = resnet34(pretrained=pretrained)\n",
        "        self.link=link\n",
        "\n",
        "        self.firstconv = resnet.conv1\n",
        "        self.firstbn = resnet.bn1\n",
        "        self.firstrelu = resnet.relu\n",
        "        self.firstmaxpool = resnet.maxpool\n",
        "        self.encoder1 = resnet.layer1\n",
        "        self.encoder2 = resnet.layer2\n",
        "        self.encoder3 = resnet.layer3\n",
        "        self.encoder4 = resnet.layer4\n",
        "\n",
        "        # Decoder\n",
        "        self.decoder4 = DecoderBlockLinkNet(filters[3], filters[2])\n",
        "        self.decoder3 = DecoderBlockLinkNet(filters[2], filters[1])\n",
        "        self.decoder2 = DecoderBlockLinkNet(filters[1], filters[0])\n",
        "        self.decoder1 = DecoderBlockLinkNet(filters[0], filters[0])\n",
        "\n",
        "        # Final Classifier\n",
        "        self.finaldeconv1 = nn.ConvTranspose2d(filters[0], 32, 3, stride=2)\n",
        "        self.finalrelu1 = nn.ReLU(inplace=True)\n",
        "        self.finalconv2 = nn.Conv2d(32, 32, 3)\n",
        "        self.finalrelu2 = nn.ReLU(inplace=True)\n",
        "        self.finalconv3 = nn.Conv2d(32, num_classes, 2, padding=1)\n",
        "\n",
        "    def forward(self, x):\n",
        "      \n",
        "        # Encoder\n",
        "        x = self.firstconv(x)\n",
        "        x = self.firstbn(x)\n",
        "        x = self.firstrelu(x)\n",
        "        x = self.firstmaxpool(x)\n",
        "        e1 = self.encoder1(x)\n",
        "        e2 = self.encoder2(e1)\n",
        "        e3 = self.encoder3(e2)\n",
        "        e4 = self.encoder4(e3)\n",
        "        # Decoder with Skip Connections\n",
        "        if(self.link==1):\n",
        "          d4 = self.decoder4(e4) + e3\n",
        "          d3 = self.decoder3(d4) + e2\n",
        "          d2 = self.decoder2(d3) + e1\n",
        "          d1 = self.decoder1(d2)\n",
        "        else:\n",
        "          d4 = torch.cat([self.decoder4(e4),e3],dim=1)\n",
        "          d3 = torch.cat([self.decoder3(d4), e3],dim=1)\n",
        "          d2 = torch.cat([self.decoder2(d3), e2],dim=1)\n",
        "          d1 = self.decoder1(d2)\n",
        "\n",
        "        # Final Classification\n",
        "        f1 = self.finaldeconv1(d1)\n",
        "        f2 = self.finalrelu1(f1)\n",
        "        f3 = self.finalconv2(f2)\n",
        "        f4 = self.finalrelu2(f3)\n",
        "        f5 = self.finalconv3(f4)\n",
        "        \n",
        "        return f5 "
      ],
      "execution_count": 0,
      "outputs": []
    },
    {
      "cell_type": "code",
      "metadata": {
        "id": "9DcWGpEhZBJO",
        "colab_type": "code",
        "colab": {}
      },
      "source": [
        "num_classes = len(CLASS_NAMES)"
      ],
      "execution_count": 0,
      "outputs": []
    },
    {
      "cell_type": "code",
      "metadata": {
        "id": "rSRCwHtwbK7K",
        "colab_type": "code",
        "colab": {
          "base_uri": "https://localhost:8080/",
          "height": 34
        },
        "outputId": "264e5763-1f37-4068-f048-5c4b8a94337e"
      },
      "source": [
        "num_classes"
      ],
      "execution_count": 20,
      "outputs": [
        {
          "output_type": "execute_result",
          "data": {
            "text/plain": [
              "12"
            ]
          },
          "metadata": {
            "tags": []
          },
          "execution_count": 20
        }
      ]
    },
    {
      "cell_type": "code",
      "metadata": {
        "id": "5X_CLlimpYIC",
        "colab_type": "code",
        "colab": {
          "base_uri": "https://localhost:8080/",
          "height": 103,
          "referenced_widgets": [
            "ff6b282a03d04685a197a109642dca99",
            "cff17d6fdc924373b37a35381d6f13ae",
            "32d86049b0dc4b1da99efedf46d87ae3",
            "5f5f9eddb15641439fd009ef3dd86146",
            "73c359190bcd4141ad07e0ec3a6ac21d",
            "9fd28530af6c4d699bc29221ef0d20f5",
            "b1a38c1608ca418fbdf3823103fa8d8a",
            "29ac5a315cdd40379dfe0fcf64c88236"
          ]
        },
        "outputId": "2096b794-1997-43df-9529-785b2485fec8"
      },
      "source": [
        "net=LinkNet34(num_classes,link=1).cuda()"
      ],
      "execution_count": 21,
      "outputs": [
        {
          "output_type": "stream",
          "text": [
            "Downloading: \"https://download.pytorch.org/models/resnet34-333f7ec4.pth\" to /root/.cache/torch/checkpoints/resnet34-333f7ec4.pth\n"
          ],
          "name": "stderr"
        },
        {
          "output_type": "display_data",
          "data": {
            "application/vnd.jupyter.widget-view+json": {
              "model_id": "ff6b282a03d04685a197a109642dca99",
              "version_minor": 0,
              "version_major": 2
            },
            "text/plain": [
              "HBox(children=(FloatProgress(value=0.0, max=87306240.0), HTML(value='')))"
            ]
          },
          "metadata": {
            "tags": []
          }
        },
        {
          "output_type": "stream",
          "text": [
            "\n"
          ],
          "name": "stdout"
        }
      ]
    },
    {
      "cell_type": "code",
      "metadata": {
        "id": "ryg4klCbpsQ9",
        "colab_type": "code",
        "colab": {}
      },
      "source": [
        "from tqdm import tqdm_notebook as tqdm\n",
        "import warnings\n",
        "warnings.filterwarnings(\"ignore\")"
      ],
      "execution_count": 0,
      "outputs": []
    },
    {
      "cell_type": "code",
      "metadata": {
        "id": "-yQHOXhzmwQv",
        "colab_type": "code",
        "colab": {}
      },
      "source": [
        "loss_fn = nn.CrossEntropyLoss()\n",
        "opt = Adam(net.parameters(),weight_decay=1e-3)"
      ],
      "execution_count": 0,
      "outputs": []
    },
    {
      "cell_type": "code",
      "metadata": {
        "id": "GGJFXMHGp8_j",
        "colab_type": "code",
        "colab": {}
      },
      "source": [
        "data_loaders = {}\n",
        "data_loaders['train'] = DataLoader(train_ds, batch_size=16, pin_memory=True)\n",
        "data_loaders['valid'] = DataLoader(valid_ds, batch_size=16, pin_memory=True)"
      ],
      "execution_count": 0,
      "outputs": []
    },
    {
      "cell_type": "code",
      "metadata": {
        "id": "iiW0K7G0By1n",
        "colab_type": "code",
        "colab": {}
      },
      "source": [
        "dataloader_iterator = iter(data_loaders['train'])"
      ],
      "execution_count": 0,
      "outputs": []
    },
    {
      "cell_type": "code",
      "metadata": {
        "id": "UNpLsVFLJJse",
        "colab_type": "code",
        "colab": {
          "base_uri": "https://localhost:8080/",
          "height": 34
        },
        "outputId": "7d8c147e-7a59-4bd8-b1ac-c20e46ab9d8c"
      },
      "source": [
        "next(dataloader_iterator)['features'].shape[0]"
      ],
      "execution_count": 26,
      "outputs": [
        {
          "output_type": "execute_result",
          "data": {
            "text/plain": [
              "16"
            ]
          },
          "metadata": {
            "tags": []
          },
          "execution_count": 26
        }
      ]
    },
    {
      "cell_type": "code",
      "metadata": {
        "id": "szjYkR6KG4Hb",
        "colab_type": "code",
        "colab": {
          "base_uri": "https://localhost:8080/",
          "height": 241
        },
        "outputId": "fa70c719-6b78-4635-a18f-6dfbce524540"
      },
      "source": [
        "from catalyst.dl import SupervisedRunner"
      ],
      "execution_count": 27,
      "outputs": [
        {
          "output_type": "stream",
          "text": [
            "/usr/lib/python3.6/importlib/_bootstrap.py:219: RuntimeWarning:\n",
            "\n",
            "numpy.ufunc size changed, may indicate binary incompatibility. Expected 192 from C header, got 216 from PyObject\n",
            "\n",
            "/usr/lib/python3.6/importlib/_bootstrap.py:219: RuntimeWarning:\n",
            "\n",
            "numpy.ufunc size changed, may indicate binary incompatibility. Expected 192 from C header, got 216 from PyObject\n",
            "\n",
            "/usr/lib/python3.6/importlib/_bootstrap.py:219: RuntimeWarning:\n",
            "\n",
            "numpy.ufunc size changed, may indicate binary incompatibility. Expected 192 from C header, got 216 from PyObject\n",
            "\n"
          ],
          "name": "stderr"
        }
      ]
    },
    {
      "cell_type": "code",
      "metadata": {
        "id": "xu8Zhm-nq06I",
        "colab_type": "code",
        "outputId": "6827bf55-0aa4-4549-c2d9-cb96638a520c",
        "colab": {
          "base_uri": "https://localhost:8080/",
          "height": 612
        }
      },
      "source": [
        "runner = SupervisedRunner()\n",
        "runner.train(\n",
        "    model=net,\n",
        "    criterion=loss_fn,\n",
        "    optimizer=opt,\n",
        "    loaders=data_loaders,\n",
        "    num_epochs=5,\n",
        "    verbose=False\n",
        ")"
      ],
      "execution_count": 28,
      "outputs": [
        {
          "output_type": "stream",
          "text": [
            "/usr/lib/python3.6/importlib/_bootstrap.py:219: RuntimeWarning:\n",
            "\n",
            "numpy.ufunc size changed, may indicate binary incompatibility. Expected 216, got 192\n",
            "\n",
            "/usr/lib/python3.6/importlib/_bootstrap.py:219: ImportWarning:\n",
            "\n",
            "can't resolve package from __spec__ or __package__, falling back on __name__ and __path__\n",
            "\n",
            "/pytorch/torch/csrc/utils/python_arg_parser.cpp:756: UserWarning:\n",
            "\n",
            "This overload of add is deprecated:\n",
            "\tadd(Number alpha, Tensor other)\n",
            "Consider using one of the following signatures instead:\n",
            "\tadd(Tensor other, *, Number alpha)\n",
            "\n"
          ],
          "name": "stderr"
        },
        {
          "output_type": "stream",
          "text": [
            "[2020-06-13 19:13:47,243] \n",
            "1/5 * Epoch 1 (_base): lr=0.0010 | momentum=0.9000\n",
            "1/5 * Epoch 1 (train): loss=1.8590\n",
            "1/5 * Epoch 1 (valid): loss=1.7032\n",
            "[2020-06-13 19:14:26,478] \n",
            "2/5 * Epoch 2 (_base): lr=0.0010 | momentum=0.9000\n",
            "2/5 * Epoch 2 (train): loss=1.0741\n",
            "2/5 * Epoch 2 (valid): loss=1.1797\n",
            "[2020-06-13 19:15:05,921] \n",
            "3/5 * Epoch 3 (_base): lr=0.0010 | momentum=0.9000\n",
            "3/5 * Epoch 3 (train): loss=0.7623\n",
            "3/5 * Epoch 3 (valid): loss=0.8902\n",
            "[2020-06-13 19:15:45,308] \n",
            "4/5 * Epoch 4 (_base): lr=0.0010 | momentum=0.9000\n",
            "4/5 * Epoch 4 (train): loss=0.5795\n",
            "4/5 * Epoch 4 (valid): loss=0.7929\n",
            "[2020-06-13 19:16:24,613] \n",
            "5/5 * Epoch 5 (_base): lr=0.0010 | momentum=0.9000\n",
            "5/5 * Epoch 5 (train): loss=0.4847\n",
            "5/5 * Epoch 5 (valid): loss=0.6180\n"
          ],
          "name": "stdout"
        }
      ]
    },
    {
      "cell_type": "code",
      "metadata": {
        "id": "GGGhIFKILucU",
        "colab_type": "code",
        "colab": {
          "base_uri": "https://localhost:8080/",
          "height": 34
        },
        "outputId": "03a95d12-1685-49f0-8041-750e42fbad1e"
      },
      "source": [
        "valid_ds[1]['features'].size()"
      ],
      "execution_count": 66,
      "outputs": [
        {
          "output_type": "execute_result",
          "data": {
            "text/plain": [
              "torch.Size([3, 384, 480])"
            ]
          },
          "metadata": {
            "tags": []
          },
          "execution_count": 66
        }
      ]
    },
    {
      "cell_type": "code",
      "metadata": {
        "id": "BiyVEiy0L5m8",
        "colab_type": "code",
        "colab": {
          "base_uri": "https://localhost:8080/",
          "height": 323
        },
        "outputId": "385bcaa4-26ec-495b-e92c-01d78134a604"
      },
      "source": [
        "plt.imshow(np.transpose((valid_ds[1]['features']).cpu().detach().numpy(), (1, 2, 0)))"
      ],
      "execution_count": 72,
      "outputs": [
        {
          "output_type": "stream",
          "text": [
            "Clipping input data to the valid range for imshow with RGB data ([0..1] for floats or [0..255] for integers).\n"
          ],
          "name": "stderr"
        },
        {
          "output_type": "execute_result",
          "data": {
            "text/plain": [
              "<matplotlib.image.AxesImage at 0x7f9ae6e8c438>"
            ]
          },
          "metadata": {
            "tags": []
          },
          "execution_count": 72
        },
        {
          "output_type": "display_data",
          "data": {
            "image/png": "[encoded data removed]",
            "text/plain": [
              "<Figure size 432x288 with 1 Axes>"
            ]
          },
          "metadata": {
            "tags": [],
            "needs_background": "light"
          }
        }
      ]
    },
    {
      "cell_type": "code",
      "metadata": {
        "id": "zvZlMXzIKgT7",
        "colab_type": "code",
        "colab": {}
      },
      "source": [
        "pred=net(valid_ds[1]['features'].cuda().view(1,3,384,480))"
      ],
      "execution_count": 0,
      "outputs": []
    },
    {
      "cell_type": "code",
      "metadata": {
        "id": "ydI-GjHmK0po",
        "colab_type": "code",
        "colab": {}
      },
      "source": [
        "torch.argmax(pred, dim=1).size()"
      ],
      "execution_count": 0,
      "outputs": []
    },
    {
      "cell_type": "code",
      "metadata": {
        "id": "Iqnn7ofqJuW-",
        "colab_type": "code",
        "colab": {
          "base_uri": "https://localhost:8080/",
          "height": 286
        },
        "outputId": "dc5b69e4-5562-492e-e11a-f95df0b0b070"
      },
      "source": [
        "plt.imshow(torch.argmax(pred, dim=1).cpu().detach().numpy().reshape(384, 480))"
      ],
      "execution_count": 63,
      "outputs": [
        {
          "output_type": "execute_result",
          "data": {
            "text/plain": [
              "<matplotlib.image.AxesImage at 0x7f9ae703eeb8>"
            ]
          },
          "metadata": {
            "tags": []
          },
          "execution_count": 63
        },
        {
          "output_type": "display_data",
          "data": {
            "image/png": "[encoded data removed]",
            "text/plain": [
              "<Figure size 432x288 with 1 Axes>"
            ]
          },
          "metadata": {
            "tags": [],
            "needs_background": "light"
          }
        }
      ]
    }
  ]
}
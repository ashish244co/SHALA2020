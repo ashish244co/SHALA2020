{
  "nbformat": 4,
  "nbformat_minor": 0,
  "metadata": {
    "colab": {
      "name": "Ashish_Kashav_assignment_segmentation_SHALA.ipynb",
      "provenance": [],
      "collapsed_sections": [],
      "toc_visible": true,
      "include_colab_link": true
    },
    "kernelspec": {
      "name": "python3",
      "display_name": "Python 3"
    },
    "accelerator": "GPU",
    "widgets": {
      "application/vnd.jupyter.widget-state+json": {
        "77193ce53d1a433a88a349a742275369": {
          "model_module": "@jupyter-widgets/controls",
          "model_name": "HBoxModel",
          "state": {
            "_view_name": "HBoxView",
            "_dom_classes": [],
            "_model_name": "HBoxModel",
            "_view_module": "@jupyter-widgets/controls",
            "_model_module_version": "1.5.0",
            "_view_count": null,
            "_view_module_version": "1.5.0",
            "box_style": "",
            "layout": "IPY_MODEL_4809d0aff11840ce8b3f3196c120f946",
            "_model_module": "@jupyter-widgets/controls",
            "children": [
              "IPY_MODEL_2b6c8db7373d4ed0bd8df8268d6b8e84",
              "IPY_MODEL_e79f5f87772f448ea93f7c73252659fb"
            ]
          }
        },
        "4809d0aff11840ce8b3f3196c120f946": {
          "model_module": "@jupyter-widgets/base",
          "model_name": "LayoutModel",
          "state": {
            "_view_name": "LayoutView",
            "grid_template_rows": null,
            "right": null,
            "justify_content": null,
            "_view_module": "@jupyter-widgets/base",
            "overflow": null,
            "_model_module_version": "1.2.0",
            "_view_count": null,
            "flex_flow": null,
            "width": null,
            "min_width": null,
            "border": null,
            "align_items": null,
            "bottom": null,
            "_model_module": "@jupyter-widgets/base",
            "top": null,
            "grid_column": null,
            "overflow_y": null,
            "overflow_x": null,
            "grid_auto_flow": null,
            "grid_area": null,
            "grid_template_columns": null,
            "flex": null,
            "_model_name": "LayoutModel",
            "justify_items": null,
            "grid_row": null,
            "max_height": null,
            "align_content": null,
            "visibility": null,
            "align_self": null,
            "height": null,
            "min_height": null,
            "padding": null,
            "grid_auto_rows": null,
            "grid_gap": null,
            "max_width": null,
            "order": null,
            "_view_module_version": "1.2.0",
            "grid_template_areas": null,
            "object_position": null,
            "object_fit": null,
            "grid_auto_columns": null,
            "margin": null,
            "display": null,
            "left": null
          }
        },
        "2b6c8db7373d4ed0bd8df8268d6b8e84": {
          "model_module": "@jupyter-widgets/controls",
          "model_name": "FloatProgressModel",
          "state": {
            "_view_name": "ProgressView",
            "style": "IPY_MODEL_ebecee31543948dc976023ac817630c8",
            "_dom_classes": [],
            "description": "100%",
            "_model_name": "FloatProgressModel",
            "bar_style": "success",
            "max": 87306240,
            "_view_module": "@jupyter-widgets/controls",
            "_model_module_version": "1.5.0",
            "value": 87306240,
            "_view_count": null,
            "_view_module_version": "1.5.0",
            "orientation": "horizontal",
            "min": 0,
            "description_tooltip": null,
            "_model_module": "@jupyter-widgets/controls",
            "layout": "IPY_MODEL_0da8a0a218bc41a99f95188bff9578ec"
          }
        },
        "e79f5f87772f448ea93f7c73252659fb": {
          "model_module": "@jupyter-widgets/controls",
          "model_name": "HTMLModel",
          "state": {
            "_view_name": "HTMLView",
            "style": "IPY_MODEL_48c66373921542628c590c575e7682b9",
            "_dom_classes": [],
            "description": "",
            "_model_name": "HTMLModel",
            "placeholder": "​",
            "_view_module": "@jupyter-widgets/controls",
            "_model_module_version": "1.5.0",
            "value": " 83.3M/83.3M [00:00&lt;00:00, 89.6MB/s]",
            "_view_count": null,
            "_view_module_version": "1.5.0",
            "description_tooltip": null,
            "_model_module": "@jupyter-widgets/controls",
            "layout": "IPY_MODEL_65c7f1779a1441ed82ed3c5bc16f78fd"
          }
        },
        "ebecee31543948dc976023ac817630c8": {
          "model_module": "@jupyter-widgets/controls",
          "model_name": "ProgressStyleModel",
          "state": {
            "_view_name": "StyleView",
            "_model_name": "ProgressStyleModel",
            "description_width": "initial",
            "_view_module": "@jupyter-widgets/base",
            "_model_module_version": "1.5.0",
            "_view_count": null,
            "_view_module_version": "1.2.0",
            "bar_color": null,
            "_model_module": "@jupyter-widgets/controls"
          }
        },
        "0da8a0a218bc41a99f95188bff9578ec": {
          "model_module": "@jupyter-widgets/base",
          "model_name": "LayoutModel",
          "state": {
            "_view_name": "LayoutView",
            "grid_template_rows": null,
            "right": null,
            "justify_content": null,
            "_view_module": "@jupyter-widgets/base",
            "overflow": null,
            "_model_module_version": "1.2.0",
            "_view_count": null,
            "flex_flow": null,
            "width": null,
            "min_width": null,
            "border": null,
            "align_items": null,
            "bottom": null,
            "_model_module": "@jupyter-widgets/base",
            "top": null,
            "grid_column": null,
            "overflow_y": null,
            "overflow_x": null,
            "grid_auto_flow": null,
            "grid_area": null,
            "grid_template_columns": null,
            "flex": null,
            "_model_name": "LayoutModel",
            "justify_items": null,
            "grid_row": null,
            "max_height": null,
            "align_content": null,
            "visibility": null,
            "align_self": null,
            "height": null,
            "min_height": null,
            "padding": null,
            "grid_auto_rows": null,
            "grid_gap": null,
            "max_width": null,
            "order": null,
            "_view_module_version": "1.2.0",
            "grid_template_areas": null,
            "object_position": null,
            "object_fit": null,
            "grid_auto_columns": null,
            "margin": null,
            "display": null,
            "left": null
          }
        },
        "48c66373921542628c590c575e7682b9": {
          "model_module": "@jupyter-widgets/controls",
          "model_name": "DescriptionStyleModel",
          "state": {
            "_view_name": "StyleView",
            "_model_name": "DescriptionStyleModel",
            "description_width": "",
            "_view_module": "@jupyter-widgets/base",
            "_model_module_version": "1.5.0",
            "_view_count": null,
            "_view_module_version": "1.2.0",
            "_model_module": "@jupyter-widgets/controls"
          }
        },
        "65c7f1779a1441ed82ed3c5bc16f78fd": {
          "model_module": "@jupyter-widgets/base",
          "model_name": "LayoutModel",
          "state": {
            "_view_name": "LayoutView",
            "grid_template_rows": null,
            "right": null,
            "justify_content": null,
            "_view_module": "@jupyter-widgets/base",
            "overflow": null,
            "_model_module_version": "1.2.0",
            "_view_count": null,
            "flex_flow": null,
            "width": null,
            "min_width": null,
            "border": null,
            "align_items": null,
            "bottom": null,
            "_model_module": "@jupyter-widgets/base",
            "top": null,
            "grid_column": null,
            "overflow_y": null,
            "overflow_x": null,
            "grid_auto_flow": null,
            "grid_area": null,
            "grid_template_columns": null,
            "flex": null,
            "_model_name": "LayoutModel",
            "justify_items": null,
            "grid_row": null,
            "max_height": null,
            "align_content": null,
            "visibility": null,
            "align_self": null,
            "height": null,
            "min_height": null,
            "padding": null,
            "grid_auto_rows": null,
            "grid_gap": null,
            "max_width": null,
            "order": null,
            "_view_module_version": "1.2.0",
            "grid_template_areas": null,
            "object_position": null,
            "object_fit": null,
            "grid_auto_columns": null,
            "margin": null,
            "display": null,
            "left": null
          }
        }
      }
    }
  },
  "cells": [
    {
      "cell_type": "markdown",
      "metadata": {
        "id": "view-in-github",
        "colab_type": "text"
      },
      "source": [
        "<a href=\"https://colab.research.google.com/github/ashish244co/SHALA2020/blob/master/Ashish_Kashav_assignment_segmentation_SHALA.ipynb\" target=\"_parent\"><img src=\"https://colab.research.google.com/assets/colab-badge.svg\" alt=\"Open In Colab\"/></a>"
      ]
    },
    {
      "cell_type": "code",
      "metadata": {
        "id": "ZBoM1Lj_XtR7",
        "colab_type": "code",
        "colab": {}
      },
      "source": [
        "import warnings\n",
        "warnings.filterwarnings(\"ignore\")"
      ],
      "execution_count": 0,
      "outputs": []
    },
    {
      "cell_type": "code",
      "metadata": {
        "id": "8kUcGkX1fI3d",
        "colab_type": "code",
        "colab": {
          "base_uri": "https://localhost:8080/",
          "height": 51
        },
        "outputId": "84c465ff-be28-4204-b690-2b5ccdcc9b5b"
      },
      "source": [
        "import os\n",
        "\n",
        "DATA_DIR = './data/CamVid/'\n",
        "\n",
        "if not os.path.exists(DATA_DIR):\n",
        "    print('Loading data...')\n",
        "    os.system('git clone https://github.com/alexgkendall/SegNet-Tutorial ./data')\n",
        "    print('Done!')\n",
        "    \n",
        "CLASS_NAMES = ['sky', 'building', 'pole', 'road', 'pavement',\n",
        "               'tree', 'signsymbol', 'fence', 'car',\n",
        "               'pedestrian', 'bicyclist', 'unlabelled']\n",
        "\n",
        "CLASS_COLORS = [(128, 128, 128), (128, 0, 0), (192, 192, 128), (128, 64, 128), (0, 0, 192),\n",
        "                (128, 128, 0), (192, 128, 128), (64, 64, 128), (64, 0, 128),\n",
        "                (64, 64, 0), (0, 128, 192), (0, 0, 0)]"
      ],
      "execution_count": 2,
      "outputs": [
        {
          "output_type": "stream",
          "text": [
            "Loading data...\n",
            "Done!\n"
          ],
          "name": "stdout"
        }
      ]
    },
    {
      "cell_type": "code",
      "metadata": {
        "id": "Yc4JIbkTdclm",
        "colab_type": "code",
        "outputId": "a1f18bde-0154-4e8d-fae6-bc1e47964005",
        "colab": {
          "base_uri": "https://localhost:8080/",
          "height": 1000
        }
      },
      "source": [
        "!pip install -U catalyst"
      ],
      "execution_count": 3,
      "outputs": [
        {
          "output_type": "stream",
          "text": [
            "Collecting catalyst\n",
            "\u001b[?25l  Downloading https://files.pythonhosted.org/packages/03/12/24661ef093301faa86950cb05f722db5cf669f8139a88cd3317616234200/catalyst-20.6-py2.py3-none-any.whl (368kB)\n",
            "\u001b[K     |████████████████████████████████| 368kB 13.0MB/s \n",
            "\u001b[?25hCollecting tensorboardX\n",
            "\u001b[?25l  Downloading https://files.pythonhosted.org/packages/35/f1/5843425495765c8c2dd0784a851a93ef204d314fc87bcc2bbb9f662a3ad1/tensorboardX-2.0-py2.py3-none-any.whl (195kB)\n",
            "\u001b[K     |████████████████████████████████| 204kB 12.1MB/s \n",
            "\u001b[?25hRequirement already satisfied, skipping upgrade: PyYAML in /usr/local/lib/python3.6/dist-packages (from catalyst) (3.13)\n",
            "Requirement already satisfied, skipping upgrade: ipython in /usr/local/lib/python3.6/dist-packages (from catalyst) (5.5.0)\n",
            "Requirement already satisfied, skipping upgrade: scikit-learn>=0.20 in /usr/local/lib/python3.6/dist-packages (from catalyst) (0.22.2.post1)\n",
            "Requirement already satisfied, skipping upgrade: pandas>=0.22 in /usr/local/lib/python3.6/dist-packages (from catalyst) (1.0.4)\n",
            "Requirement already satisfied, skipping upgrade: tensorboard>=1.14.0 in /usr/local/lib/python3.6/dist-packages (from catalyst) (2.2.2)\n",
            "Collecting crc32c>=1.7\n",
            "  Downloading https://files.pythonhosted.org/packages/ab/82/f60248c01a8a23ae07bd4c43d78d69b20ffe324311db3b0785e391aa09d2/crc32c-2.0-cp36-cp36m-manylinux1_x86_64.whl\n",
            "Requirement already satisfied, skipping upgrade: torch>=1.1.0 in /usr/local/lib/python3.6/dist-packages (from catalyst) (1.5.0+cu101)\n",
            "Requirement already satisfied, skipping upgrade: tqdm>=4.33.0 in /usr/local/lib/python3.6/dist-packages (from catalyst) (4.41.1)\n",
            "Collecting deprecation\n",
            "  Downloading https://files.pythonhosted.org/packages/02/c3/253a89ee03fc9b9682f1541728eb66db7db22148cd94f89ab22528cd1e1b/deprecation-2.1.0-py2.py3-none-any.whl\n",
            "Collecting GitPython>=3.1.1\n",
            "\u001b[?25l  Downloading https://files.pythonhosted.org/packages/8c/f9/c315aa88e51fabdc08e91b333cfefb255aff04a2ee96d632c32cb19180c9/GitPython-3.1.3-py3-none-any.whl (451kB)\n",
            "\u001b[K     |████████████████████████████████| 460kB 46.0MB/s \n",
            "\u001b[?25hRequirement already satisfied, skipping upgrade: packaging in /usr/local/lib/python3.6/dist-packages (from catalyst) (20.4)\n",
            "Requirement already satisfied, skipping upgrade: numpy>=1.16.4 in /usr/local/lib/python3.6/dist-packages (from catalyst) (1.18.5)\n",
            "Requirement already satisfied, skipping upgrade: plotly>=4.1.0 in /usr/local/lib/python3.6/dist-packages (from catalyst) (4.4.1)\n",
            "Requirement already satisfied, skipping upgrade: matplotlib in /usr/local/lib/python3.6/dist-packages (from catalyst) (3.2.1)\n",
            "Requirement already satisfied, skipping upgrade: protobuf>=3.8.0 in /usr/local/lib/python3.6/dist-packages (from tensorboardX->catalyst) (3.10.0)\n",
            "Requirement already satisfied, skipping upgrade: six in /usr/local/lib/python3.6/dist-packages (from tensorboardX->catalyst) (1.12.0)\n",
            "Requirement already satisfied, skipping upgrade: traitlets>=4.2 in /usr/local/lib/python3.6/dist-packages (from ipython->catalyst) (4.3.3)\n",
            "Requirement already satisfied, skipping upgrade: pygments in /usr/local/lib/python3.6/dist-packages (from ipython->catalyst) (2.1.3)\n",
            "Requirement already satisfied, skipping upgrade: simplegeneric>0.8 in /usr/local/lib/python3.6/dist-packages (from ipython->catalyst) (0.8.1)\n",
            "Requirement already satisfied, skipping upgrade: decorator in /usr/local/lib/python3.6/dist-packages (from ipython->catalyst) (4.4.2)\n",
            "Requirement already satisfied, skipping upgrade: pexpect; sys_platform != \"win32\" in /usr/local/lib/python3.6/dist-packages (from ipython->catalyst) (4.8.0)\n",
            "Requirement already satisfied, skipping upgrade: setuptools>=18.5 in /usr/local/lib/python3.6/dist-packages (from ipython->catalyst) (47.1.1)\n",
            "Requirement already satisfied, skipping upgrade: prompt-toolkit<2.0.0,>=1.0.4 in /usr/local/lib/python3.6/dist-packages (from ipython->catalyst) (1.0.18)\n",
            "Requirement already satisfied, skipping upgrade: pickleshare in /usr/local/lib/python3.6/dist-packages (from ipython->catalyst) (0.7.5)\n",
            "Requirement already satisfied, skipping upgrade: scipy>=0.17.0 in /usr/local/lib/python3.6/dist-packages (from scikit-learn>=0.20->catalyst) (1.4.1)\n",
            "Requirement already satisfied, skipping upgrade: joblib>=0.11 in /usr/local/lib/python3.6/dist-packages (from scikit-learn>=0.20->catalyst) (0.15.1)\n",
            "Requirement already satisfied, skipping upgrade: pytz>=2017.2 in /usr/local/lib/python3.6/dist-packages (from pandas>=0.22->catalyst) (2018.9)\n",
            "Requirement already satisfied, skipping upgrade: python-dateutil>=2.6.1 in /usr/local/lib/python3.6/dist-packages (from pandas>=0.22->catalyst) (2.8.1)\n",
            "Requirement already satisfied, skipping upgrade: wheel>=0.26; python_version >= \"3\" in /usr/local/lib/python3.6/dist-packages (from tensorboard>=1.14.0->catalyst) (0.34.2)\n",
            "Requirement already satisfied, skipping upgrade: requests<3,>=2.21.0 in /usr/local/lib/python3.6/dist-packages (from tensorboard>=1.14.0->catalyst) (2.23.0)\n",
            "Requirement already satisfied, skipping upgrade: google-auth-oauthlib<0.5,>=0.4.1 in /usr/local/lib/python3.6/dist-packages (from tensorboard>=1.14.0->catalyst) (0.4.1)\n",
            "Requirement already satisfied, skipping upgrade: tensorboard-plugin-wit>=1.6.0 in /usr/local/lib/python3.6/dist-packages (from tensorboard>=1.14.0->catalyst) (1.6.0.post3)\n",
            "Requirement already satisfied, skipping upgrade: google-auth<2,>=1.6.3 in /usr/local/lib/python3.6/dist-packages (from tensorboard>=1.14.0->catalyst) (1.7.2)\n",
            "Requirement already satisfied, skipping upgrade: markdown>=2.6.8 in /usr/local/lib/python3.6/dist-packages (from tensorboard>=1.14.0->catalyst) (3.2.2)\n",
            "Requirement already satisfied, skipping upgrade: werkzeug>=0.11.15 in /usr/local/lib/python3.6/dist-packages (from tensorboard>=1.14.0->catalyst) (1.0.1)\n",
            "Requirement already satisfied, skipping upgrade: grpcio>=1.24.3 in /usr/local/lib/python3.6/dist-packages (from tensorboard>=1.14.0->catalyst) (1.29.0)\n",
            "Requirement already satisfied, skipping upgrade: absl-py>=0.4 in /usr/local/lib/python3.6/dist-packages (from tensorboard>=1.14.0->catalyst) (0.9.0)\n",
            "Requirement already satisfied, skipping upgrade: future in /usr/local/lib/python3.6/dist-packages (from torch>=1.1.0->catalyst) (0.16.0)\n",
            "Collecting gitdb<5,>=4.0.1\n",
            "\u001b[?25l  Downloading https://files.pythonhosted.org/packages/48/11/d1800bca0a3bae820b84b7d813ad1eff15a48a64caea9c823fc8c1b119e8/gitdb-4.0.5-py3-none-any.whl (63kB)\n",
            "\u001b[K     |████████████████████████████████| 71kB 11.0MB/s \n",
            "\u001b[?25hRequirement already satisfied, skipping upgrade: pyparsing>=2.0.2 in /usr/local/lib/python3.6/dist-packages (from packaging->catalyst) (2.4.7)\n",
            "Requirement already satisfied, skipping upgrade: retrying>=1.3.3 in /usr/local/lib/python3.6/dist-packages (from plotly>=4.1.0->catalyst) (1.3.3)\n",
            "Requirement already satisfied, skipping upgrade: kiwisolver>=1.0.1 in /usr/local/lib/python3.6/dist-packages (from matplotlib->catalyst) (1.2.0)\n",
            "Requirement already satisfied, skipping upgrade: cycler>=0.10 in /usr/local/lib/python3.6/dist-packages (from matplotlib->catalyst) (0.10.0)\n",
            "Requirement already satisfied, skipping upgrade: ipython-genutils in /usr/local/lib/python3.6/dist-packages (from traitlets>=4.2->ipython->catalyst) (0.2.0)\n",
            "Requirement already satisfied, skipping upgrade: ptyprocess>=0.5 in /usr/local/lib/python3.6/dist-packages (from pexpect; sys_platform != \"win32\"->ipython->catalyst) (0.6.0)\n",
            "Requirement already satisfied, skipping upgrade: wcwidth in /usr/local/lib/python3.6/dist-packages (from prompt-toolkit<2.0.0,>=1.0.4->ipython->catalyst) (0.2.3)\n",
            "Requirement already satisfied, skipping upgrade: urllib3!=1.25.0,!=1.25.1,<1.26,>=1.21.1 in /usr/local/lib/python3.6/dist-packages (from requests<3,>=2.21.0->tensorboard>=1.14.0->catalyst) (1.24.3)\n",
            "Requirement already satisfied, skipping upgrade: certifi>=2017.4.17 in /usr/local/lib/python3.6/dist-packages (from requests<3,>=2.21.0->tensorboard>=1.14.0->catalyst) (2020.4.5.1)\n",
            "Requirement already satisfied, skipping upgrade: chardet<4,>=3.0.2 in /usr/local/lib/python3.6/dist-packages (from requests<3,>=2.21.0->tensorboard>=1.14.0->catalyst) (3.0.4)\n",
            "Requirement already satisfied, skipping upgrade: idna<3,>=2.5 in /usr/local/lib/python3.6/dist-packages (from requests<3,>=2.21.0->tensorboard>=1.14.0->catalyst) (2.9)\n",
            "Requirement already satisfied, skipping upgrade: requests-oauthlib>=0.7.0 in /usr/local/lib/python3.6/dist-packages (from google-auth-oauthlib<0.5,>=0.4.1->tensorboard>=1.14.0->catalyst) (1.3.0)\n",
            "Requirement already satisfied, skipping upgrade: cachetools<3.2,>=2.0.0 in /usr/local/lib/python3.6/dist-packages (from google-auth<2,>=1.6.3->tensorboard>=1.14.0->catalyst) (3.1.1)\n",
            "Requirement already satisfied, skipping upgrade: rsa<4.1,>=3.1.4 in /usr/local/lib/python3.6/dist-packages (from google-auth<2,>=1.6.3->tensorboard>=1.14.0->catalyst) (4.0)\n",
            "Requirement already satisfied, skipping upgrade: pyasn1-modules>=0.2.1 in /usr/local/lib/python3.6/dist-packages (from google-auth<2,>=1.6.3->tensorboard>=1.14.0->catalyst) (0.2.8)\n",
            "Requirement already satisfied, skipping upgrade: importlib-metadata; python_version < \"3.8\" in /usr/local/lib/python3.6/dist-packages (from markdown>=2.6.8->tensorboard>=1.14.0->catalyst) (1.6.0)\n",
            "Collecting smmap<4,>=3.0.1\n",
            "  Downloading https://files.pythonhosted.org/packages/b0/9a/4d409a6234eb940e6a78dfdfc66156e7522262f5f2fecca07dc55915952d/smmap-3.0.4-py2.py3-none-any.whl\n",
            "Requirement already satisfied, skipping upgrade: oauthlib>=3.0.0 in /usr/local/lib/python3.6/dist-packages (from requests-oauthlib>=0.7.0->google-auth-oauthlib<0.5,>=0.4.1->tensorboard>=1.14.0->catalyst) (3.1.0)\n",
            "Requirement already satisfied, skipping upgrade: pyasn1>=0.1.3 in /usr/local/lib/python3.6/dist-packages (from rsa<4.1,>=3.1.4->google-auth<2,>=1.6.3->tensorboard>=1.14.0->catalyst) (0.4.8)\n",
            "Requirement already satisfied, skipping upgrade: zipp>=0.5 in /usr/local/lib/python3.6/dist-packages (from importlib-metadata; python_version < \"3.8\"->markdown>=2.6.8->tensorboard>=1.14.0->catalyst) (3.1.0)\n",
            "Installing collected packages: tensorboardX, crc32c, deprecation, smmap, gitdb, GitPython, catalyst\n",
            "Successfully installed GitPython-3.1.3 catalyst-20.6 crc32c-2.0 deprecation-2.1.0 gitdb-4.0.5 smmap-3.0.4 tensorboardX-2.0\n"
          ],
          "name": "stdout"
        }
      ]
    },
    {
      "cell_type": "code",
      "metadata": {
        "id": "ntQV08g7Ccbc",
        "colab_type": "code",
        "colab": {}
      },
      "source": [
        "import os\n",
        "from collections import OrderedDict\n",
        "from functools import partial\n",
        "import numpy as np\n",
        "import torch\n",
        "import torch.nn as nn\n",
        "import cv2\n",
        "from torch.optim import Adam\n",
        "from torch.utils.data import Dataset, DataLoader\n",
        "from torchvision.models import resnet34\n",
        "from datetime import datetime"
      ],
      "execution_count": 0,
      "outputs": []
    },
    {
      "cell_type": "code",
      "metadata": {
        "id": "QowbwpZ8ckcN",
        "colab_type": "code",
        "colab": {}
      },
      "source": [
        "import torchvision"
      ],
      "execution_count": 0,
      "outputs": []
    },
    {
      "cell_type": "code",
      "metadata": {
        "id": "9oCtD-bGm3NW",
        "colab_type": "code",
        "colab": {
          "base_uri": "https://localhost:8080/",
          "height": 68
        },
        "outputId": "fb8c6b85-c95d-4ff9-887d-ee6934102ad2"
      },
      "source": [
        "! pip install --quiet git+https://github.com/albu/albumentations"
      ],
      "execution_count": 6,
      "outputs": [
        {
          "output_type": "stream",
          "text": [
            "\u001b[?25l\r\u001b[K     |▌                               | 10kB 27.6MB/s eta 0:00:01\r\u001b[K     |█                               | 20kB 32.0MB/s eta 0:00:01\r\u001b[K     |█▋                              | 30kB 37.6MB/s eta 0:00:01\r\u001b[K     |██                              | 40kB 35.3MB/s eta 0:00:01\r\u001b[K     |██▋                             | 51kB 14.6MB/s eta 0:00:01\r\u001b[K     |███▏                            | 61kB 13.6MB/s eta 0:00:01\r\u001b[K     |███▋                            | 71kB 13.3MB/s eta 0:00:01\r\u001b[K     |████▏                           | 81kB 13.0MB/s eta 0:00:01\r\u001b[K     |████▊                           | 92kB 12.6MB/s eta 0:00:01\r\u001b[K     |█████▏                          | 102kB 13.0MB/s eta 0:00:01\r\u001b[K     |█████▊                          | 112kB 13.0MB/s eta 0:00:01\r\u001b[K     |██████▎                         | 122kB 13.0MB/s eta 0:00:01\r\u001b[K     |██████▊                         | 133kB 13.0MB/s eta 0:00:01\r\u001b[K     |███████▎                        | 143kB 13.0MB/s eta 0:00:01\r\u001b[K     |███████▉                        | 153kB 13.0MB/s eta 0:00:01\r\u001b[K     |████████▎                       | 163kB 13.0MB/s eta 0:00:01\r\u001b[K     |████████▉                       | 174kB 13.0MB/s eta 0:00:01\r\u001b[K     |█████████▍                      | 184kB 13.0MB/s eta 0:00:01\r\u001b[K     |█████████▉                      | 194kB 13.0MB/s eta 0:00:01\r\u001b[K     |██████████▍                     | 204kB 13.0MB/s eta 0:00:01\r\u001b[K     |███████████                     | 215kB 13.0MB/s eta 0:00:01\r\u001b[K     |███████████▍                    | 225kB 13.0MB/s eta 0:00:01\r\u001b[K     |████████████                    | 235kB 13.0MB/s eta 0:00:01\r\u001b[K     |████████████▌                   | 245kB 13.0MB/s eta 0:00:01\r\u001b[K     |█████████████                   | 256kB 13.0MB/s eta 0:00:01\r\u001b[K     |█████████████▌                  | 266kB 13.0MB/s eta 0:00:01\r\u001b[K     |██████████████                  | 276kB 13.0MB/s eta 0:00:01\r\u001b[K     |██████████████▌                 | 286kB 13.0MB/s eta 0:00:01\r\u001b[K     |███████████████                 | 296kB 13.0MB/s eta 0:00:01\r\u001b[K     |███████████████▋                | 307kB 13.0MB/s eta 0:00:01\r\u001b[K     |████████████████                | 317kB 13.0MB/s eta 0:00:01\r\u001b[K     |████████████████▋               | 327kB 13.0MB/s eta 0:00:01\r\u001b[K     |█████████████████▏              | 337kB 13.0MB/s eta 0:00:01\r\u001b[K     |█████████████████▋              | 348kB 13.0MB/s eta 0:00:01\r\u001b[K     |██████████████████▏             | 358kB 13.0MB/s eta 0:00:01\r\u001b[K     |██████████████████▊             | 368kB 13.0MB/s eta 0:00:01\r\u001b[K     |███████████████████▏            | 378kB 13.0MB/s eta 0:00:01\r\u001b[K     |███████████████████▊            | 389kB 13.0MB/s eta 0:00:01\r\u001b[K     |████████████████████▎           | 399kB 13.0MB/s eta 0:00:01\r\u001b[K     |████████████████████▊           | 409kB 13.0MB/s eta 0:00:01\r\u001b[K     |█████████████████████▎          | 419kB 13.0MB/s eta 0:00:01\r\u001b[K     |█████████████████████▉          | 430kB 13.0MB/s eta 0:00:01\r\u001b[K     |██████████████████████▎         | 440kB 13.0MB/s eta 0:00:01\r\u001b[K     |██████████████████████▉         | 450kB 13.0MB/s eta 0:00:01\r\u001b[K     |███████████████████████▍        | 460kB 13.0MB/s eta 0:00:01\r\u001b[K     |███████████████████████▉        | 471kB 13.0MB/s eta 0:00:01\r\u001b[K     |████████████████████████▍       | 481kB 13.0MB/s eta 0:00:01\r\u001b[K     |█████████████████████████       | 491kB 13.0MB/s eta 0:00:01\r\u001b[K     |█████████████████████████▍      | 501kB 13.0MB/s eta 0:00:01\r\u001b[K     |██████████████████████████      | 512kB 13.0MB/s eta 0:00:01\r\u001b[K     |██████████████████████████▌     | 522kB 13.0MB/s eta 0:00:01\r\u001b[K     |███████████████████████████     | 532kB 13.0MB/s eta 0:00:01\r\u001b[K     |███████████████████████████▌    | 542kB 13.0MB/s eta 0:00:01\r\u001b[K     |████████████████████████████    | 552kB 13.0MB/s eta 0:00:01\r\u001b[K     |████████████████████████████▌   | 563kB 13.0MB/s eta 0:00:01\r\u001b[K     |█████████████████████████████   | 573kB 13.0MB/s eta 0:00:01\r\u001b[K     |█████████████████████████████▋  | 583kB 13.0MB/s eta 0:00:01\r\u001b[K     |██████████████████████████████  | 593kB 13.0MB/s eta 0:00:01\r\u001b[K     |██████████████████████████████▋ | 604kB 13.0MB/s eta 0:00:01\r\u001b[K     |███████████████████████████████▏| 614kB 13.0MB/s eta 0:00:01\r\u001b[K     |███████████████████████████████▋| 624kB 13.0MB/s eta 0:00:01\r\u001b[K     |████████████████████████████████| 634kB 13.0MB/s \n",
            "\u001b[?25h  Building wheel for albumentations (setup.py) ... \u001b[?25l\u001b[?25hdone\n",
            "  Building wheel for imgaug (setup.py) ... \u001b[?25l\u001b[?25hdone\n"
          ],
          "name": "stdout"
        }
      ]
    },
    {
      "cell_type": "code",
      "metadata": {
        "id": "wuFKSVSPEPaA",
        "colab_type": "code",
        "colab": {}
      },
      "source": [
        "import albumentations as A"
      ],
      "execution_count": 0,
      "outputs": []
    },
    {
      "cell_type": "code",
      "metadata": {
        "id": "1T8ahEGzbyzv",
        "colab_type": "code",
        "colab": {}
      },
      "source": [
        "class CamVidDataset(Dataset):\n",
        "\n",
        "\n",
        "    def __init__(\n",
        "            self,\n",
        "            images_dir,\n",
        "            masks_dir,\n",
        "            transform=A.Normalize()\n",
        "    ):\n",
        "        self.ids = os.listdir(images_dir)\n",
        "        self.images_fps = [os.path.join(images_dir, image_id) for image_id in self.ids]\n",
        "        self.masks_fps = [os.path.join(masks_dir, image_id) for image_id in self.ids]\n",
        "        self.transform = transform\n",
        "\n",
        "\n",
        "    def __getitem__(self, i):\n",
        "        # read data\n",
        "        image = cv2.imread(self.images_fps[i])\n",
        "        mask = cv2.imread(self.masks_fps[i],cv2.IMREAD_GRAYSCALE)\n",
        "        \n",
        "        # apply augmentations\n",
        "\n",
        "        \n",
        "\n",
        "        sample = self.transform(image=image, mask=mask)\n",
        "        image, mask = sample['image'], sample['mask']\n",
        "        image = np.moveaxis(image, -1, 0)\n",
        "        image = np.ascontiguousarray(image)\n",
        "        image = torch.from_numpy(image)\n",
        "\n",
        "        return {\n",
        "            \"features\": image,\n",
        "            \"targets\": torch.from_numpy(mask).long()\n",
        "        }\n",
        "\n",
        "    def __len__(self):\n",
        "        return len(self.ids)"
      ],
      "execution_count": 0,
      "outputs": []
    },
    {
      "cell_type": "code",
      "metadata": {
        "id": "NQbHK9R5c6k_",
        "colab_type": "code",
        "colab": {}
      },
      "source": [
        "x_train_dir = os.path.join(DATA_DIR, 'train')\n",
        "y_train_dir = os.path.join(DATA_DIR, 'trainannot')\n",
        "\n",
        "x_valid_dir = os.path.join(DATA_DIR, 'val')\n",
        "y_valid_dir = os.path.join(DATA_DIR, 'valannot')\n",
        "\n",
        "x_test_dir = os.path.join(DATA_DIR, 'test')\n",
        "y_test_dir = os.path.join(DATA_DIR, 'testannot')"
      ],
      "execution_count": 0,
      "outputs": []
    },
    {
      "cell_type": "code",
      "metadata": {
        "id": "xwIqDSr9mLPU",
        "colab_type": "code",
        "colab": {}
      },
      "source": [
        "def get_training_augmentation(blur=True, weather=True):\n",
        "    return A.Compose([\n",
        "        A.PadIfNeeded(384, 384, border_mode=cv2.BORDER_CONSTANT, value=0, mask_value=11),\n",
        "        A.Normalize()\n",
        "    ])\n",
        "\n",
        "\n",
        "def get_validation_augmentation():\n",
        "    return A.Compose([\n",
        "        A.PadIfNeeded(384, 384, border_mode=cv2.BORDER_CONSTANT, value=0, mask_value=11),\n",
        "        A.Normalize()\n",
        "    ])"
      ],
      "execution_count": 0,
      "outputs": []
    },
    {
      "cell_type": "code",
      "metadata": {
        "id": "VnSxhYRJcvhP",
        "colab_type": "code",
        "outputId": "a4b261d7-6164-4101-db32-683d4738696d",
        "colab": {
          "base_uri": "https://localhost:8080/",
          "height": 68
        }
      },
      "source": [
        "train_ds = CamVidDataset(x_train_dir, y_train_dir, transform=get_training_augmentation())\n",
        "valid_ds = CamVidDataset(x_valid_dir, y_valid_dir, transform=get_validation_augmentation())\n",
        "test_ds = CamVidDataset(x_test_dir, y_test_dir, transform=get_validation_augmentation())\n",
        "\n",
        "print('Train dataset size', len(train_ds))\n",
        "print('Valid dataset size', len(valid_ds))\n",
        "print('Test dataset size', len(test_ds))"
      ],
      "execution_count": 11,
      "outputs": [
        {
          "output_type": "stream",
          "text": [
            "Train dataset size 367\n",
            "Valid dataset size 101\n",
            "Test dataset size 233\n"
          ],
          "name": "stdout"
        }
      ]
    },
    {
      "cell_type": "code",
      "metadata": {
        "id": "SzN4sbbOfg-_",
        "colab_type": "code",
        "colab": {}
      },
      "source": [
        "import matplotlib.pyplot as plt"
      ],
      "execution_count": 0,
      "outputs": []
    },
    {
      "cell_type": "code",
      "metadata": {
        "id": "iURUAmsS5KC3",
        "colab_type": "code",
        "colab": {
          "base_uri": "https://localhost:8080/",
          "height": 323
        },
        "outputId": "93debd09-8be0-4af0-ef7b-69da1a9e423a"
      },
      "source": [
        "plt.imshow(np.transpose(train_ds[1]['features'].cpu().detach().numpy(), (1, 2, 0)))"
      ],
      "execution_count": 13,
      "outputs": [
        {
          "output_type": "stream",
          "text": [
            "Clipping input data to the valid range for imshow with RGB data ([0..1] for floats or [0..255] for integers).\n"
          ],
          "name": "stderr"
        },
        {
          "output_type": "execute_result",
          "data": {
            "text/plain": [
              "<matplotlib.image.AxesImage at 0x7ff675a6bf28>"
            ]
          },
          "metadata": {
            "tags": []
          },
          "execution_count": 13
        },
        {
          "output_type": "display_data",
          "data": {
            "image/png": "[encoded data removed]",
            "text/plain": [
              "<Figure size 432x288 with 1 Axes>"
            ]
          },
          "metadata": {
            "tags": [],
            "needs_background": "light"
          }
        }
      ]
    },
    {
      "cell_type": "code",
      "metadata": {
        "id": "egYQpuiGjSaT",
        "colab_type": "code",
        "colab": {
          "base_uri": "https://localhost:8080/",
          "height": 34
        },
        "outputId": "c704a870-9cc8-4399-e879-335fdedf9992"
      },
      "source": [
        "np.transpose(train_ds[1]['features'].cpu().detach().numpy(), (1, 2, 0)).shape"
      ],
      "execution_count": 14,
      "outputs": [
        {
          "output_type": "execute_result",
          "data": {
            "text/plain": [
              "(384, 480, 3)"
            ]
          },
          "metadata": {
            "tags": []
          },
          "execution_count": 14
        }
      ]
    },
    {
      "cell_type": "code",
      "metadata": {
        "id": "xkxfoQQ4g-7b",
        "colab_type": "code",
        "outputId": "765f4f84-db4a-4413-da45-73afa39d2612",
        "colab": {
          "base_uri": "https://localhost:8080/",
          "height": 286
        }
      },
      "source": [
        "plt.imshow(train_ds[1]['targets'])"
      ],
      "execution_count": 15,
      "outputs": [
        {
          "output_type": "execute_result",
          "data": {
            "text/plain": [
              "<matplotlib.image.AxesImage at 0x7ff675547cc0>"
            ]
          },
          "metadata": {
            "tags": []
          },
          "execution_count": 15
        },
        {
          "output_type": "display_data",
          "data": {
            "image/png": "[encoded data removed]",
            "text/plain": [
              "<Figure size 432x288 with 1 Axes>"
            ]
          },
          "metadata": {
            "tags": [],
            "needs_background": "light"
          }
        }
      ]
    },
    {
      "cell_type": "code",
      "metadata": {
        "id": "4cLVWY-MhtOS",
        "colab_type": "code",
        "colab": {}
      },
      "source": [
        "def dice_score(y_pred: torch.Tensor, y_true: torch.Tensor, smooth=0, eps=1e-7, dims=None) -> torch.Tensor:\n",
        "   \n",
        "    if dims is not None:\n",
        "        intersection = torch.sum(y_pred * y_true, dim=dims)\n",
        "        cardinality = torch.sum(y_pred + y_true, dim=dims)\n",
        "    else:\n",
        "        intersection = torch.sum(y_pred * y_true)\n",
        "        cardinality = torch.sum(y_pred + y_true)\n",
        "    dice_score = (2.0 * intersection) / (cardinality+ eps)\n",
        "    return dice_score"
      ],
      "execution_count": 0,
      "outputs": []
    },
    {
      "cell_type": "code",
      "metadata": {
        "id": "ep79llYukmrP",
        "colab_type": "code",
        "colab": {}
      },
      "source": [
        "class DecoderBlockLinkNet(nn.Module):\n",
        "    def __init__(self, in_channels, n_filters):\n",
        "        super().__init__()\n",
        "\n",
        "        self.relu = nn.ReLU(inplace=True)\n",
        "\n",
        "        # B, C, H, W -> B, C/4, H, W\n",
        "        self.conv1 = nn.Conv2d(in_channels, in_channels // 4, 1)\n",
        "        self.norm1 = nn.BatchNorm2d(in_channels // 4)\n",
        "\n",
        "        # B, C/4, H, W -> B, C/4, 2 * H, 2 * W\n",
        "        self.deconv2 = nn.ConvTranspose2d(in_channels // 4, in_channels // 4, kernel_size=4,stride=2, padding=1, output_padding=0)\n",
        "        self.norm2 = nn.BatchNorm2d(in_channels // 4)\n",
        "\n",
        "        # B, C/4, H, W -> B, C, H, W\n",
        "        self.conv3 = nn.Conv2d(in_channels // 4, n_filters, 1)\n",
        "        self.norm3 = nn.BatchNorm2d(n_filters)\n",
        "\n",
        "    def forward(self, x):\n",
        "        x = self.conv1(x)\n",
        "        x = self.norm1(x)\n",
        "        x = self.relu(x)\n",
        "        x = self.deconv2(x)\n",
        "        x = self.norm2(x)\n",
        "        x = self.relu(x)\n",
        "        x = self.conv3(x)\n",
        "        x = self.norm3(x)\n",
        "        x = self.relu(x)\n",
        "        return x\n",
        "\n",
        "\n",
        "class LinkNet34(nn.Module):\n",
        "    def __init__(self, num_classes=1, num_channels=3, pretrained=True):\n",
        "        super().__init__()\n",
        "        self.num_classes = num_classes\n",
        "        resnet = resnet34(pretrained=pretrained)\n",
        "\n",
        "        self.firstconv = resnet.conv1\n",
        "        self.firstbn = resnet.bn1\n",
        "        self.firstrelu = resnet.relu\n",
        "        self.firstmaxpool = resnet.maxpool\n",
        "        self.encoder1 = resnet.layer1\n",
        "        self.encoder2 = resnet.layer2\n",
        "        self.encoder3 = resnet.layer3\n",
        "        self.encoder4 = resnet.layer4\n",
        "\n",
        "        # Decoder\n",
        "\n",
        "        self.decoder4 = DecoderBlockLinkNet(512, 256)\n",
        "        self.decoder3 = DecoderBlockLinkNet(256, 128)\n",
        "        self.decoder2 = DecoderBlockLinkNet(128, 64)\n",
        "        self.decoder1 = DecoderBlockLinkNet(64,64)\n",
        "\n",
        "        # Final Classifier\n",
        "        self.finaldeconv1 = nn.ConvTranspose2d(64, 32, 3, stride=2)\n",
        "        self.finalrelu1 = nn.ReLU(inplace=True)\n",
        "        self.finalconv2 = nn.Conv2d(32, 32, 3)\n",
        "        self.finalrelu2 = nn.ReLU(inplace=True)\n",
        "        self.finalconv3 = nn.Conv2d(32, num_classes, 2, padding=1)\n",
        "\n",
        "    def forward(self, x):\n",
        "      \n",
        "        # Encoder\n",
        "        x = self.firstconv(x)\n",
        "        x = self.firstbn(x)\n",
        "        x = self.firstrelu(x)\n",
        "        x = self.firstmaxpool(x)\n",
        "        e1 = self.encoder1(x)\n",
        "        e2 = self.encoder2(e1)\n",
        "        e3 = self.encoder3(e2)\n",
        "        e4 = self.encoder4(e3)\n",
        "        # Decoder with Skip Connections\n",
        "\n",
        "        d4 = self.decoder4(e4) + e3\n",
        "        d3 = self.decoder3(d4) + e2\n",
        "        d2 = self.decoder2(d3) + e1\n",
        "        d1 = self.decoder1(d2)\n",
        "\n",
        "\n",
        "        # Final Classification\n",
        "        f1 = self.finaldeconv1(d1)\n",
        "        f2 = self.finalrelu1(f1)\n",
        "        f3 = self.finalconv2(f2)\n",
        "        f4 = self.finalrelu2(f3)\n",
        "        f5 = self.finalconv3(f4)\n",
        "\n",
        "\n",
        "        \n",
        "        return f5 \n",
        "\n",
        "class UNet34(nn.Module):\n",
        "    def __init__(self, num_classes=1, num_channels=3, pretrained=True):\n",
        "        super().__init__()\n",
        "        self.num_classes = num_classes\n",
        "        resnet = resnet34(pretrained=pretrained)\n",
        "\n",
        "        self.firstconv = resnet.conv1\n",
        "        self.firstbn = resnet.bn1\n",
        "        self.firstrelu = resnet.relu\n",
        "        self.firstmaxpool = resnet.maxpool\n",
        "        self.encoder1 = resnet.layer1\n",
        "        self.encoder2 = resnet.layer2\n",
        "        self.encoder3 = resnet.layer3\n",
        "        self.encoder4 = resnet.layer4\n",
        "\n",
        "        # Decoder\n",
        "\n",
        "        self.decoder4 = DecoderBlockLinkNet(512, 256)\n",
        "        self.decoder3 = DecoderBlockLinkNet(256+256, 128)\n",
        "        self.decoder2 = DecoderBlockLinkNet(256, 128)\n",
        "        self.decoder1 = DecoderBlockLinkNet(192,64)\n",
        "\n",
        "        # Final Classifier\n",
        "        self.finaldeconv1 = nn.ConvTranspose2d(64, 32, 3, stride=2)\n",
        "        self.finalrelu1 = nn.ReLU(inplace=True)\n",
        "        self.finalconv2 = nn.Conv2d(32, 32, 3)\n",
        "        self.finalrelu2 = nn.ReLU(inplace=True)\n",
        "        self.finalconv3 = nn.Conv2d(32, num_classes, 2, padding=1)\n",
        "\n",
        "    def forward(self, x):\n",
        "      \n",
        "        # Encoder\n",
        "        x = self.firstconv(x)\n",
        "        x = self.firstbn(x)\n",
        "        x = self.firstrelu(x)\n",
        "        x = self.firstmaxpool(x)\n",
        "        e1 = self.encoder1(x)\n",
        "        e2 = self.encoder2(e1)\n",
        "        e3 = self.encoder3(e2)\n",
        "        e4 = self.encoder4(e3)\n",
        "        #print(e1.size())\n",
        "        # Decoder with Skip Connections\n",
        "        d4=self.decoder4(e4)\n",
        "        #print('1')\n",
        "        #print('decoder',d4.size())\n",
        "        #print('encoder',e3.size())\n",
        "\n",
        "        d4 = torch.cat([d4 , e3],dim=1)\n",
        "        #print('2')\n",
        "        #print('decoder',d4.size())\n",
        "\n",
        "        #print('encoder',e2.size())\n",
        "\n",
        "        d3 = torch.cat([self.decoder3(d4) ,e2],dim=1)\n",
        "        #print('3')\n",
        "        #print('decoder',d3.size())\n",
        "        #print('encoder',e1.size())\n",
        "\n",
        "        d2 = torch.cat([self.decoder2(d3) ,e1],dim=1)\n",
        "        #print('4')\n",
        "        #print(d2.size())\n",
        "        d1 = self.decoder1(d2)\n",
        "\n",
        "\n",
        "        # Final Classification\n",
        "        f1 = self.finaldeconv1(d1)\n",
        "        f2 = self.finalrelu1(f1)\n",
        "        f3 = self.finalconv2(f2)\n",
        "        f4 = self.finalrelu2(f3)\n",
        "        f5 = self.finalconv3(f4)\n",
        "\n",
        "\n",
        "        \n",
        "        return f5 "
      ],
      "execution_count": 0,
      "outputs": []
    },
    {
      "cell_type": "code",
      "metadata": {
        "id": "9DcWGpEhZBJO",
        "colab_type": "code",
        "colab": {}
      },
      "source": [
        "num_classes = len(CLASS_NAMES)"
      ],
      "execution_count": 0,
      "outputs": []
    },
    {
      "cell_type": "code",
      "metadata": {
        "id": "szjYkR6KG4Hb",
        "colab_type": "code",
        "colab": {
          "base_uri": "https://localhost:8080/",
          "height": 241
        },
        "outputId": "97c91757-286e-48b9-f216-5ba79baac3b4"
      },
      "source": [
        "from catalyst.dl import SupervisedRunner"
      ],
      "execution_count": 19,
      "outputs": [
        {
          "output_type": "stream",
          "text": [
            "/usr/lib/python3.6/importlib/_bootstrap.py:219: RuntimeWarning:\n",
            "\n",
            "numpy.ufunc size changed, may indicate binary incompatibility. Expected 192 from C header, got 216 from PyObject\n",
            "\n",
            "/usr/lib/python3.6/importlib/_bootstrap.py:219: RuntimeWarning:\n",
            "\n",
            "numpy.ufunc size changed, may indicate binary incompatibility. Expected 192 from C header, got 216 from PyObject\n",
            "\n",
            "/usr/lib/python3.6/importlib/_bootstrap.py:219: RuntimeWarning:\n",
            "\n",
            "numpy.ufunc size changed, may indicate binary incompatibility. Expected 192 from C header, got 216 from PyObject\n",
            "\n"
          ],
          "name": "stderr"
        }
      ]
    },
    {
      "cell_type": "code",
      "metadata": {
        "id": "IljdFGjhagYb",
        "colab_type": "code",
        "colab": {
          "base_uri": "https://localhost:8080/",
          "height": 103,
          "referenced_widgets": [
            "77193ce53d1a433a88a349a742275369",
            "4809d0aff11840ce8b3f3196c120f946",
            "2b6c8db7373d4ed0bd8df8268d6b8e84",
            "e79f5f87772f448ea93f7c73252659fb",
            "ebecee31543948dc976023ac817630c8",
            "0da8a0a218bc41a99f95188bff9578ec",
            "48c66373921542628c590c575e7682b9",
            "65c7f1779a1441ed82ed3c5bc16f78fd"
          ]
        },
        "outputId": "07ee217d-b68a-42b7-bc2f-5d75c0ac4693"
      },
      "source": [
        "unet=UNet34(num_classes)"
      ],
      "execution_count": 20,
      "outputs": [
        {
          "output_type": "stream",
          "text": [
            "Downloading: \"https://download.pytorch.org/models/resnet34-333f7ec4.pth\" to /root/.cache/torch/checkpoints/resnet34-333f7ec4.pth\n"
          ],
          "name": "stderr"
        },
        {
          "output_type": "display_data",
          "data": {
            "application/vnd.jupyter.widget-view+json": {
              "model_id": "77193ce53d1a433a88a349a742275369",
              "version_minor": 0,
              "version_major": 2
            },
            "text/plain": [
              "HBox(children=(FloatProgress(value=0.0, max=87306240.0), HTML(value='')))"
            ]
          },
          "metadata": {
            "tags": []
          }
        },
        {
          "output_type": "stream",
          "text": [
            "\n"
          ],
          "name": "stdout"
        }
      ]
    },
    {
      "cell_type": "code",
      "metadata": {
        "id": "-yQHOXhzmwQv",
        "colab_type": "code",
        "colab": {}
      },
      "source": [
        "loss_fn = nn.CrossEntropyLoss()\n",
        "opt = Adam(unet.parameters(),weight_decay=1e-4)"
      ],
      "execution_count": 0,
      "outputs": []
    },
    {
      "cell_type": "code",
      "metadata": {
        "id": "GGJFXMHGp8_j",
        "colab_type": "code",
        "colab": {}
      },
      "source": [
        "data_loaders = {}\n",
        "data_loaders['train'] = DataLoader(train_ds, batch_size=16, pin_memory=True)\n",
        "data_loaders['valid'] = DataLoader(valid_ds, batch_size=16, pin_memory=True)"
      ],
      "execution_count": 0,
      "outputs": []
    },
    {
      "cell_type": "code",
      "metadata": {
        "id": "B0bJpFWQvDPc",
        "colab_type": "code",
        "colab": {
          "base_uri": "https://localhost:8080/",
          "height": 476
        },
        "outputId": "3206c1f3-3621-4bdd-8be6-5f49b2c358e2"
      },
      "source": [
        "unet.firstconv.requires_grad_(False)\n",
        "unet.encoder1.requires_grad_(False)\n",
        "unet.encoder2.requires_grad_(False)\n",
        "unet.encoder3.requires_grad_(False)\n",
        "unet.encoder4.requires_grad_(False)"
      ],
      "execution_count": 23,
      "outputs": [
        {
          "output_type": "execute_result",
          "data": {
            "text/plain": [
              "Sequential(\n",
              "  (0): BasicBlock(\n",
              "    (conv1): Conv2d(256, 512, kernel_size=(3, 3), stride=(2, 2), padding=(1, 1), bias=False)\n",
              "    (bn1): BatchNorm2d(512, eps=1e-05, momentum=0.1, affine=True, track_running_stats=True)\n",
              "    (relu): ReLU(inplace=True)\n",
              "    (conv2): Conv2d(512, 512, kernel_size=(3, 3), stride=(1, 1), padding=(1, 1), bias=False)\n",
              "    (bn2): BatchNorm2d(512, eps=1e-05, momentum=0.1, affine=True, track_running_stats=True)\n",
              "    (downsample): Sequential(\n",
              "      (0): Conv2d(256, 512, kernel_size=(1, 1), stride=(2, 2), bias=False)\n",
              "      (1): BatchNorm2d(512, eps=1e-05, momentum=0.1, affine=True, track_running_stats=True)\n",
              "    )\n",
              "  )\n",
              "  (1): BasicBlock(\n",
              "    (conv1): Conv2d(512, 512, kernel_size=(3, 3), stride=(1, 1), padding=(1, 1), bias=False)\n",
              "    (bn1): BatchNorm2d(512, eps=1e-05, momentum=0.1, affine=True, track_running_stats=True)\n",
              "    (relu): ReLU(inplace=True)\n",
              "    (conv2): Conv2d(512, 512, kernel_size=(3, 3), stride=(1, 1), padding=(1, 1), bias=False)\n",
              "    (bn2): BatchNorm2d(512, eps=1e-05, momentum=0.1, affine=True, track_running_stats=True)\n",
              "  )\n",
              "  (2): BasicBlock(\n",
              "    (conv1): Conv2d(512, 512, kernel_size=(3, 3), stride=(1, 1), padding=(1, 1), bias=False)\n",
              "    (bn1): BatchNorm2d(512, eps=1e-05, momentum=0.1, affine=True, track_running_stats=True)\n",
              "    (relu): ReLU(inplace=True)\n",
              "    (conv2): Conv2d(512, 512, kernel_size=(3, 3), stride=(1, 1), padding=(1, 1), bias=False)\n",
              "    (bn2): BatchNorm2d(512, eps=1e-05, momentum=0.1, affine=True, track_running_stats=True)\n",
              "  )\n",
              ")"
            ]
          },
          "metadata": {
            "tags": []
          },
          "execution_count": 23
        }
      ]
    },
    {
      "cell_type": "code",
      "metadata": {
        "id": "tfwla4h_bsMz",
        "colab_type": "code",
        "colab": {
          "base_uri": "https://localhost:8080/",
          "height": 612
        },
        "outputId": "ad59fa04-bec0-4423-990b-fb012303a0b8"
      },
      "source": [
        "runner = SupervisedRunner()\n",
        "\n",
        "runner.train(\n",
        "    model=unet,\n",
        "    criterion=loss_fn,\n",
        "    optimizer=opt,\n",
        "    loaders=data_loaders,\n",
        "    num_epochs=5,\n",
        "    verbose=False\n",
        ")"
      ],
      "execution_count": 24,
      "outputs": [
        {
          "output_type": "stream",
          "text": [
            "/usr/lib/python3.6/importlib/_bootstrap.py:219: RuntimeWarning:\n",
            "\n",
            "numpy.ufunc size changed, may indicate binary incompatibility. Expected 216, got 192\n",
            "\n",
            "/usr/lib/python3.6/importlib/_bootstrap.py:219: ImportWarning:\n",
            "\n",
            "can't resolve package from __spec__ or __package__, falling back on __name__ and __path__\n",
            "\n",
            "/pytorch/torch/csrc/utils/python_arg_parser.cpp:756: UserWarning:\n",
            "\n",
            "This overload of add is deprecated:\n",
            "\tadd(Number alpha, Tensor other)\n",
            "Consider using one of the following signatures instead:\n",
            "\tadd(Tensor other, *, Number alpha)\n",
            "\n"
          ],
          "name": "stderr"
        },
        {
          "output_type": "stream",
          "text": [
            "[2020-06-13 22:27:14,010] \n",
            "1/5 * Epoch 1 (_base): lr=0.0010 | momentum=0.9000\n",
            "1/5 * Epoch 1 (train): loss=1.8121\n",
            "1/5 * Epoch 1 (valid): loss=1.8064\n",
            "[2020-06-13 22:27:34,681] \n",
            "2/5 * Epoch 2 (_base): lr=0.0010 | momentum=0.9000\n",
            "2/5 * Epoch 2 (train): loss=1.1947\n",
            "2/5 * Epoch 2 (valid): loss=1.2554\n",
            "[2020-06-13 22:27:55,365] \n",
            "3/5 * Epoch 3 (_base): lr=0.0010 | momentum=0.9000\n",
            "3/5 * Epoch 3 (train): loss=0.9177\n",
            "3/5 * Epoch 3 (valid): loss=0.9772\n",
            "[2020-06-13 22:28:16,115] \n",
            "4/5 * Epoch 4 (_base): lr=0.0010 | momentum=0.9000\n",
            "4/5 * Epoch 4 (train): loss=0.7088\n",
            "4/5 * Epoch 4 (valid): loss=0.7111\n",
            "[2020-06-13 22:28:37,002] \n",
            "5/5 * Epoch 5 (_base): lr=0.0010 | momentum=0.9000\n",
            "5/5 * Epoch 5 (train): loss=0.5472\n",
            "5/5 * Epoch 5 (valid): loss=0.6018\n"
          ],
          "name": "stdout"
        }
      ]
    },
    {
      "cell_type": "code",
      "metadata": {
        "id": "ARdo_VZPgrOT",
        "colab_type": "code",
        "colab": {
          "base_uri": "https://localhost:8080/",
          "height": 476
        },
        "outputId": "5c2595f2-19e6-4c29-b357-91d2e6cfcac4"
      },
      "source": [
        "unet.firstconv.requires_grad_(True)\n",
        "unet.encoder1.requires_grad_(True)\n",
        "unet.encoder2.requires_grad_(True)\n",
        "unet.encoder3.requires_grad_(True)\n",
        "unet.encoder4.requires_grad_(True)"
      ],
      "execution_count": 25,
      "outputs": [
        {
          "output_type": "execute_result",
          "data": {
            "text/plain": [
              "Sequential(\n",
              "  (0): BasicBlock(\n",
              "    (conv1): Conv2d(256, 512, kernel_size=(3, 3), stride=(2, 2), padding=(1, 1), bias=False)\n",
              "    (bn1): BatchNorm2d(512, eps=1e-05, momentum=0.1, affine=True, track_running_stats=True)\n",
              "    (relu): ReLU(inplace=True)\n",
              "    (conv2): Conv2d(512, 512, kernel_size=(3, 3), stride=(1, 1), padding=(1, 1), bias=False)\n",
              "    (bn2): BatchNorm2d(512, eps=1e-05, momentum=0.1, affine=True, track_running_stats=True)\n",
              "    (downsample): Sequential(\n",
              "      (0): Conv2d(256, 512, kernel_size=(1, 1), stride=(2, 2), bias=False)\n",
              "      (1): BatchNorm2d(512, eps=1e-05, momentum=0.1, affine=True, track_running_stats=True)\n",
              "    )\n",
              "  )\n",
              "  (1): BasicBlock(\n",
              "    (conv1): Conv2d(512, 512, kernel_size=(3, 3), stride=(1, 1), padding=(1, 1), bias=False)\n",
              "    (bn1): BatchNorm2d(512, eps=1e-05, momentum=0.1, affine=True, track_running_stats=True)\n",
              "    (relu): ReLU(inplace=True)\n",
              "    (conv2): Conv2d(512, 512, kernel_size=(3, 3), stride=(1, 1), padding=(1, 1), bias=False)\n",
              "    (bn2): BatchNorm2d(512, eps=1e-05, momentum=0.1, affine=True, track_running_stats=True)\n",
              "  )\n",
              "  (2): BasicBlock(\n",
              "    (conv1): Conv2d(512, 512, kernel_size=(3, 3), stride=(1, 1), padding=(1, 1), bias=False)\n",
              "    (bn1): BatchNorm2d(512, eps=1e-05, momentum=0.1, affine=True, track_running_stats=True)\n",
              "    (relu): ReLU(inplace=True)\n",
              "    (conv2): Conv2d(512, 512, kernel_size=(3, 3), stride=(1, 1), padding=(1, 1), bias=False)\n",
              "    (bn2): BatchNorm2d(512, eps=1e-05, momentum=0.1, affine=True, track_running_stats=True)\n",
              "  )\n",
              ")"
            ]
          },
          "metadata": {
            "tags": []
          },
          "execution_count": 25
        }
      ]
    },
    {
      "cell_type": "code",
      "metadata": {
        "id": "f_eIu1UzyT2v",
        "colab_type": "code",
        "colab": {}
      },
      "source": [
        "opt = Adam(unet.parameters(),weight_decay=1e-3,lr=1e-5)"
      ],
      "execution_count": 0,
      "outputs": []
    },
    {
      "cell_type": "code",
      "metadata": {
        "id": "-YQt2OoUvNGQ",
        "colab_type": "code",
        "colab": {
          "base_uri": "https://localhost:8080/",
          "height": 357
        },
        "outputId": "43c206b9-690a-45c4-cf10-d8441305f36e"
      },
      "source": [
        "runner.train(\n",
        "    model=unet,\n",
        "    criterion=loss_fn,\n",
        "    optimizer=opt,\n",
        "    loaders=data_loaders,\n",
        "    num_epochs=5,\n",
        "    verbose=False\n",
        ")"
      ],
      "execution_count": 27,
      "outputs": [
        {
          "output_type": "stream",
          "text": [
            "[2020-06-13 22:29:00,069] \n",
            "1/5 * Epoch 1 (_base): lr=1.000e-05 | momentum=0.9000\n",
            "1/5 * Epoch 1 (train): loss=0.4605\n",
            "1/5 * Epoch 1 (valid): loss=0.5512\n",
            "[2020-06-13 22:29:23,210] \n",
            "2/5 * Epoch 2 (_base): lr=1.000e-05 | momentum=0.9000\n",
            "2/5 * Epoch 2 (train): loss=0.4364\n",
            "2/5 * Epoch 2 (valid): loss=0.5405\n",
            "[2020-06-13 22:29:46,360] \n",
            "3/5 * Epoch 3 (_base): lr=1.000e-05 | momentum=0.9000\n",
            "3/5 * Epoch 3 (train): loss=0.4232\n",
            "3/5 * Epoch 3 (valid): loss=0.5377\n",
            "[2020-06-13 22:30:09,606] \n",
            "4/5 * Epoch 4 (_base): lr=1.000e-05 | momentum=0.9000\n",
            "4/5 * Epoch 4 (train): loss=0.4132\n",
            "4/5 * Epoch 4 (valid): loss=0.5365\n",
            "[2020-06-13 22:30:32,891] \n",
            "5/5 * Epoch 5 (_base): lr=1.000e-05 | momentum=0.9000\n",
            "5/5 * Epoch 5 (train): loss=0.4046\n",
            "5/5 * Epoch 5 (valid): loss=0.5337\n"
          ],
          "name": "stdout"
        }
      ]
    },
    {
      "cell_type": "code",
      "metadata": {
        "id": "5X_CLlimpYIC",
        "colab_type": "code",
        "colab": {}
      },
      "source": [
        "linknet=LinkNet34(num_classes).cuda()"
      ],
      "execution_count": 0,
      "outputs": []
    },
    {
      "cell_type": "code",
      "metadata": {
        "id": "HHXGaznHwX4l",
        "colab_type": "code",
        "colab": {}
      },
      "source": [
        "opt1 = Adam(linknet.parameters(),weight_decay=1e-3)"
      ],
      "execution_count": 0,
      "outputs": []
    },
    {
      "cell_type": "code",
      "metadata": {
        "id": "NaI13Hp3PS8c",
        "colab_type": "code",
        "colab": {
          "base_uri": "https://localhost:8080/",
          "height": 476
        },
        "outputId": "27469278-c619-4913-abd9-fb38f5291e49"
      },
      "source": [
        "linknet.firstconv.requires_grad_(False)\n",
        "linknet.encoder1.requires_grad_(False)\n",
        "linknet.encoder2.requires_grad_(False)\n",
        "linknet.encoder3.requires_grad_(False)\n",
        "linknet.encoder4.requires_grad_(False)"
      ],
      "execution_count": 30,
      "outputs": [
        {
          "output_type": "execute_result",
          "data": {
            "text/plain": [
              "Sequential(\n",
              "  (0): BasicBlock(\n",
              "    (conv1): Conv2d(256, 512, kernel_size=(3, 3), stride=(2, 2), padding=(1, 1), bias=False)\n",
              "    (bn1): BatchNorm2d(512, eps=1e-05, momentum=0.1, affine=True, track_running_stats=True)\n",
              "    (relu): ReLU(inplace=True)\n",
              "    (conv2): Conv2d(512, 512, kernel_size=(3, 3), stride=(1, 1), padding=(1, 1), bias=False)\n",
              "    (bn2): BatchNorm2d(512, eps=1e-05, momentum=0.1, affine=True, track_running_stats=True)\n",
              "    (downsample): Sequential(\n",
              "      (0): Conv2d(256, 512, kernel_size=(1, 1), stride=(2, 2), bias=False)\n",
              "      (1): BatchNorm2d(512, eps=1e-05, momentum=0.1, affine=True, track_running_stats=True)\n",
              "    )\n",
              "  )\n",
              "  (1): BasicBlock(\n",
              "    (conv1): Conv2d(512, 512, kernel_size=(3, 3), stride=(1, 1), padding=(1, 1), bias=False)\n",
              "    (bn1): BatchNorm2d(512, eps=1e-05, momentum=0.1, affine=True, track_running_stats=True)\n",
              "    (relu): ReLU(inplace=True)\n",
              "    (conv2): Conv2d(512, 512, kernel_size=(3, 3), stride=(1, 1), padding=(1, 1), bias=False)\n",
              "    (bn2): BatchNorm2d(512, eps=1e-05, momentum=0.1, affine=True, track_running_stats=True)\n",
              "  )\n",
              "  (2): BasicBlock(\n",
              "    (conv1): Conv2d(512, 512, kernel_size=(3, 3), stride=(1, 1), padding=(1, 1), bias=False)\n",
              "    (bn1): BatchNorm2d(512, eps=1e-05, momentum=0.1, affine=True, track_running_stats=True)\n",
              "    (relu): ReLU(inplace=True)\n",
              "    (conv2): Conv2d(512, 512, kernel_size=(3, 3), stride=(1, 1), padding=(1, 1), bias=False)\n",
              "    (bn2): BatchNorm2d(512, eps=1e-05, momentum=0.1, affine=True, track_running_stats=True)\n",
              "  )\n",
              ")"
            ]
          },
          "metadata": {
            "tags": []
          },
          "execution_count": 30
        }
      ]
    },
    {
      "cell_type": "code",
      "metadata": {
        "id": "iiW0K7G0By1n",
        "colab_type": "code",
        "colab": {}
      },
      "source": [
        "dataloader_iterator = iter(data_loaders['train'])"
      ],
      "execution_count": 0,
      "outputs": []
    },
    {
      "cell_type": "code",
      "metadata": {
        "id": "UNpLsVFLJJse",
        "colab_type": "code",
        "colab": {
          "base_uri": "https://localhost:8080/",
          "height": 34
        },
        "outputId": "5f6f38a5-2760-42d4-e24b-6ea2259a3b52"
      },
      "source": [
        "next(dataloader_iterator)['features'].shape[0]"
      ],
      "execution_count": 32,
      "outputs": [
        {
          "output_type": "execute_result",
          "data": {
            "text/plain": [
              "16"
            ]
          },
          "metadata": {
            "tags": []
          },
          "execution_count": 32
        }
      ]
    },
    {
      "cell_type": "code",
      "metadata": {
        "id": "xu8Zhm-nq06I",
        "colab_type": "code",
        "outputId": "ffd39d95-79b1-4648-c93d-8a85a087f44e",
        "colab": {
          "base_uri": "https://localhost:8080/",
          "height": 357
        }
      },
      "source": [
        "runner.train(\n",
        "    model=linknet,\n",
        "    criterion=loss_fn,\n",
        "    optimizer=opt1,\n",
        "    loaders=data_loaders,\n",
        "    num_epochs=5,\n",
        "    verbose=False\n",
        ")"
      ],
      "execution_count": 33,
      "outputs": [
        {
          "output_type": "stream",
          "text": [
            "[2020-06-13 22:30:52,592] \n",
            "1/5 * Epoch 1 (_base): lr=0.0010 | momentum=0.9000\n",
            "1/5 * Epoch 1 (train): loss=1.9010\n",
            "1/5 * Epoch 1 (valid): loss=1.8044\n",
            "[2020-06-13 22:31:11,632] \n",
            "2/5 * Epoch 2 (_base): lr=0.0010 | momentum=0.9000\n",
            "2/5 * Epoch 2 (train): loss=1.4466\n",
            "2/5 * Epoch 2 (valid): loss=1.4669\n",
            "[2020-06-13 22:31:30,661] \n",
            "3/5 * Epoch 3 (_base): lr=0.0010 | momentum=0.9000\n",
            "3/5 * Epoch 3 (train): loss=1.1211\n",
            "3/5 * Epoch 3 (valid): loss=1.1745\n",
            "[2020-06-13 22:31:49,714] \n",
            "4/5 * Epoch 4 (_base): lr=0.0010 | momentum=0.9000\n",
            "4/5 * Epoch 4 (train): loss=0.8833\n",
            "4/5 * Epoch 4 (valid): loss=1.0030\n",
            "[2020-06-13 22:32:08,743] \n",
            "5/5 * Epoch 5 (_base): lr=0.0010 | momentum=0.9000\n",
            "5/5 * Epoch 5 (train): loss=0.6848\n",
            "5/5 * Epoch 5 (valid): loss=0.8040\n"
          ],
          "name": "stdout"
        }
      ]
    },
    {
      "cell_type": "code",
      "metadata": {
        "id": "VWsmG4VLTZMD",
        "colab_type": "code",
        "colab": {
          "base_uri": "https://localhost:8080/",
          "height": 476
        },
        "outputId": "0bb1bbc7-ca6b-4d91-c9cf-d5d3439c5187"
      },
      "source": [
        "linknet.firstconv.requires_grad_(True)\n",
        "linknet.encoder1.requires_grad_(True)\n",
        "linknet.encoder2.requires_grad_(True)\n",
        "linknet.encoder3.requires_grad_(True)\n",
        "linknet.encoder4.requires_grad_(True)"
      ],
      "execution_count": 34,
      "outputs": [
        {
          "output_type": "execute_result",
          "data": {
            "text/plain": [
              "Sequential(\n",
              "  (0): BasicBlock(\n",
              "    (conv1): Conv2d(256, 512, kernel_size=(3, 3), stride=(2, 2), padding=(1, 1), bias=False)\n",
              "    (bn1): BatchNorm2d(512, eps=1e-05, momentum=0.1, affine=True, track_running_stats=True)\n",
              "    (relu): ReLU(inplace=True)\n",
              "    (conv2): Conv2d(512, 512, kernel_size=(3, 3), stride=(1, 1), padding=(1, 1), bias=False)\n",
              "    (bn2): BatchNorm2d(512, eps=1e-05, momentum=0.1, affine=True, track_running_stats=True)\n",
              "    (downsample): Sequential(\n",
              "      (0): Conv2d(256, 512, kernel_size=(1, 1), stride=(2, 2), bias=False)\n",
              "      (1): BatchNorm2d(512, eps=1e-05, momentum=0.1, affine=True, track_running_stats=True)\n",
              "    )\n",
              "  )\n",
              "  (1): BasicBlock(\n",
              "    (conv1): Conv2d(512, 512, kernel_size=(3, 3), stride=(1, 1), padding=(1, 1), bias=False)\n",
              "    (bn1): BatchNorm2d(512, eps=1e-05, momentum=0.1, affine=True, track_running_stats=True)\n",
              "    (relu): ReLU(inplace=True)\n",
              "    (conv2): Conv2d(512, 512, kernel_size=(3, 3), stride=(1, 1), padding=(1, 1), bias=False)\n",
              "    (bn2): BatchNorm2d(512, eps=1e-05, momentum=0.1, affine=True, track_running_stats=True)\n",
              "  )\n",
              "  (2): BasicBlock(\n",
              "    (conv1): Conv2d(512, 512, kernel_size=(3, 3), stride=(1, 1), padding=(1, 1), bias=False)\n",
              "    (bn1): BatchNorm2d(512, eps=1e-05, momentum=0.1, affine=True, track_running_stats=True)\n",
              "    (relu): ReLU(inplace=True)\n",
              "    (conv2): Conv2d(512, 512, kernel_size=(3, 3), stride=(1, 1), padding=(1, 1), bias=False)\n",
              "    (bn2): BatchNorm2d(512, eps=1e-05, momentum=0.1, affine=True, track_running_stats=True)\n",
              "  )\n",
              ")"
            ]
          },
          "metadata": {
            "tags": []
          },
          "execution_count": 34
        }
      ]
    },
    {
      "cell_type": "code",
      "metadata": {
        "id": "M-7JTL7AyEaj",
        "colab_type": "code",
        "colab": {}
      },
      "source": [
        "opt1 = Adam(linknet.parameters(),weight_decay=1e-3,lr=1e-5)"
      ],
      "execution_count": 0,
      "outputs": []
    },
    {
      "cell_type": "code",
      "metadata": {
        "id": "EaybU4pCTbCH",
        "colab_type": "code",
        "colab": {
          "base_uri": "https://localhost:8080/",
          "height": 357
        },
        "outputId": "e4627b20-7e24-4870-8bb4-73a338113280"
      },
      "source": [
        "runner.train(\n",
        "    model=linknet,\n",
        "    criterion=loss_fn,\n",
        "    optimizer=opt,\n",
        "    loaders=data_loaders,\n",
        "    num_epochs=5,\n",
        "    verbose=False\n",
        ")"
      ],
      "execution_count": 36,
      "outputs": [
        {
          "output_type": "stream",
          "text": [
            "[2020-06-13 22:32:30,099] \n",
            "1/5 * Epoch 1 (_base): lr=1.000e-05 | momentum=0.9000\n",
            "1/5 * Epoch 1 (train): loss=0.6002\n",
            "1/5 * Epoch 1 (valid): loss=0.7950\n",
            "[2020-06-13 22:32:51,358] \n",
            "2/5 * Epoch 2 (_base): lr=1.000e-05 | momentum=0.9000\n",
            "2/5 * Epoch 2 (train): loss=0.6002\n",
            "2/5 * Epoch 2 (valid): loss=0.7968\n",
            "[2020-06-13 22:33:12,610] \n",
            "3/5 * Epoch 3 (_base): lr=1.000e-05 | momentum=0.9000\n",
            "3/5 * Epoch 3 (train): loss=0.6002\n",
            "3/5 * Epoch 3 (valid): loss=0.7970\n",
            "[2020-06-13 22:33:33,903] \n",
            "4/5 * Epoch 4 (_base): lr=1.000e-05 | momentum=0.9000\n",
            "4/5 * Epoch 4 (train): loss=0.6002\n",
            "4/5 * Epoch 4 (valid): loss=0.7970\n",
            "[2020-06-13 22:33:55,173] \n",
            "5/5 * Epoch 5 (_base): lr=1.000e-05 | momentum=0.9000\n",
            "5/5 * Epoch 5 (train): loss=0.6002\n",
            "5/5 * Epoch 5 (valid): loss=0.7970\n"
          ],
          "name": "stdout"
        }
      ]
    },
    {
      "cell_type": "code",
      "metadata": {
        "id": "GGGhIFKILucU",
        "colab_type": "code",
        "colab": {
          "base_uri": "https://localhost:8080/",
          "height": 34
        },
        "outputId": "245928a7-d620-489a-9c44-4a43058fab26"
      },
      "source": [
        "valid_ds[10]['features'].size()"
      ],
      "execution_count": 37,
      "outputs": [
        {
          "output_type": "execute_result",
          "data": {
            "text/plain": [
              "torch.Size([3, 384, 480])"
            ]
          },
          "metadata": {
            "tags": []
          },
          "execution_count": 37
        }
      ]
    },
    {
      "cell_type": "code",
      "metadata": {
        "id": "BiyVEiy0L5m8",
        "colab_type": "code",
        "colab": {
          "base_uri": "https://localhost:8080/",
          "height": 323
        },
        "outputId": "acb79673-fbef-4015-bc6e-f5563251855c"
      },
      "source": [
        "plt.imshow(np.transpose((valid_ds[19]['features']).cpu().detach().numpy(), (1, 2, 0)))"
      ],
      "execution_count": 38,
      "outputs": [
        {
          "output_type": "stream",
          "text": [
            "Clipping input data to the valid range for imshow with RGB data ([0..1] for floats or [0..255] for integers).\n"
          ],
          "name": "stderr"
        },
        {
          "output_type": "execute_result",
          "data": {
            "text/plain": [
              "<matplotlib.image.AxesImage at 0x7ff4d0f5d400>"
            ]
          },
          "metadata": {
            "tags": []
          },
          "execution_count": 38
        },
        {
          "output_type": "display_data",
          "data": {
            "image/png": "[encoded data removed]",
            "text/plain": [
              "<Figure size 432x288 with 1 Axes>"
            ]
          },
          "metadata": {
            "tags": [],
            "needs_background": "light"
          }
        }
      ]
    },
    {
      "cell_type": "code",
      "metadata": {
        "id": "zvZlMXzIKgT7",
        "colab_type": "code",
        "colab": {}
      },
      "source": [
        "pred=linknet(valid_ds[19]['features'].cuda().view(1,3,384,480))"
      ],
      "execution_count": 0,
      "outputs": []
    },
    {
      "cell_type": "code",
      "metadata": {
        "id": "ydI-GjHmK0po",
        "colab_type": "code",
        "colab": {
          "base_uri": "https://localhost:8080/",
          "height": 34
        },
        "outputId": "3dd4874a-fcf3-484b-97dd-315e195fd486"
      },
      "source": [
        "torch.argmax(pred, dim=1).size()"
      ],
      "execution_count": 41,
      "outputs": [
        {
          "output_type": "execute_result",
          "data": {
            "text/plain": [
              "torch.Size([1, 384, 480])"
            ]
          },
          "metadata": {
            "tags": []
          },
          "execution_count": 41
        }
      ]
    },
    {
      "cell_type": "code",
      "metadata": {
        "id": "Iqnn7ofqJuW-",
        "colab_type": "code",
        "colab": {
          "base_uri": "https://localhost:8080/",
          "height": 286
        },
        "outputId": "aac7f58f-4234-496d-b6b2-b34458a1fdd5"
      },
      "source": [
        "plt.imshow(torch.argmax(pred, dim=1).cpu().detach().numpy().reshape(384, 480))"
      ],
      "execution_count": 42,
      "outputs": [
        {
          "output_type": "execute_result",
          "data": {
            "text/plain": [
              "<matplotlib.image.AxesImage at 0x7ff4d06de0b8>"
            ]
          },
          "metadata": {
            "tags": []
          },
          "execution_count": 42
        },
        {
          "output_type": "display_data",
          "data": {
            "image/png": "[encoded data removed]",
            "text/plain": [
              "<Figure size 432x288 with 1 Axes>"
            ]
          },
          "metadata": {
            "tags": [],
            "needs_background": "light"
          }
        }
      ]
    },
    {
      "cell_type": "code",
      "metadata": {
        "id": "llEUjnOH0c5X",
        "colab_type": "code",
        "colab": {}
      },
      "source": [
        "pred2=unet(valid_ds[19]['features'].cuda().view(1,3,384,480))"
      ],
      "execution_count": 0,
      "outputs": []
    },
    {
      "cell_type": "code",
      "metadata": {
        "id": "M8nxf72Q0j0n",
        "colab_type": "code",
        "colab": {
          "base_uri": "https://localhost:8080/",
          "height": 286
        },
        "outputId": "f55429f1-5c67-496d-958c-d2583b58381f"
      },
      "source": [
        "plt.imshow(torch.argmax(pred2, dim=1).cpu().detach().numpy().reshape(384, 480))"
      ],
      "execution_count": 45,
      "outputs": [
        {
          "output_type": "execute_result",
          "data": {
            "text/plain": [
              "<matplotlib.image.AxesImage at 0x7ff4d05ee2e8>"
            ]
          },
          "metadata": {
            "tags": []
          },
          "execution_count": 45
        },
        {
          "output_type": "display_data",
          "data": {
            "image/png": "[encoded data removed]",
            "text/plain": [
              "<Figure size 432x288 with 1 Axes>"
            ]
          },
          "metadata": {
            "tags": [],
            "needs_background": "light"
          }
        }
      ]
    }
  ]
}
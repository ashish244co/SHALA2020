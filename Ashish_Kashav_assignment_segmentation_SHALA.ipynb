{
  "nbformat": 4,
  "nbformat_minor": 0,
  "metadata": {
    "colab": {
      "name": "Ashish_Kashav_assignment_segmentation_SHALA.ipynb",
      "provenance": [],
      "collapsed_sections": [],
      "toc_visible": true,
      "include_colab_link": true
    },
    "kernelspec": {
      "name": "python3",
      "display_name": "Python 3"
    },
    "accelerator": "GPU",
    "widgets": {
      "application/vnd.jupyter.widget-state+json": {
        "79bf5528a55140eda632271c17351e38": {
          "model_module": "@jupyter-widgets/controls",
          "model_name": "HBoxModel",
          "state": {
            "_view_name": "HBoxView",
            "_dom_classes": [],
            "_model_name": "HBoxModel",
            "_view_module": "@jupyter-widgets/controls",
            "_model_module_version": "1.5.0",
            "_view_count": null,
            "_view_module_version": "1.5.0",
            "box_style": "",
            "layout": "IPY_MODEL_752d8c243c3d4a0b80395d1dc1fa575a",
            "_model_module": "@jupyter-widgets/controls",
            "children": [
              "IPY_MODEL_1816956b912e43ab8296f4a0aeaf6241",
              "IPY_MODEL_db09ab297cd0469f887ae7829fda9099"
            ]
          }
        },
        "752d8c243c3d4a0b80395d1dc1fa575a": {
          "model_module": "@jupyter-widgets/base",
          "model_name": "LayoutModel",
          "state": {
            "_view_name": "LayoutView",
            "grid_template_rows": null,
            "right": null,
            "justify_content": null,
            "_view_module": "@jupyter-widgets/base",
            "overflow": null,
            "_model_module_version": "1.2.0",
            "_view_count": null,
            "flex_flow": null,
            "width": null,
            "min_width": null,
            "border": null,
            "align_items": null,
            "bottom": null,
            "_model_module": "@jupyter-widgets/base",
            "top": null,
            "grid_column": null,
            "overflow_y": null,
            "overflow_x": null,
            "grid_auto_flow": null,
            "grid_area": null,
            "grid_template_columns": null,
            "flex": null,
            "_model_name": "LayoutModel",
            "justify_items": null,
            "grid_row": null,
            "max_height": null,
            "align_content": null,
            "visibility": null,
            "align_self": null,
            "height": null,
            "min_height": null,
            "padding": null,
            "grid_auto_rows": null,
            "grid_gap": null,
            "max_width": null,
            "order": null,
            "_view_module_version": "1.2.0",
            "grid_template_areas": null,
            "object_position": null,
            "object_fit": null,
            "grid_auto_columns": null,
            "margin": null,
            "display": null,
            "left": null
          }
        },
        "1816956b912e43ab8296f4a0aeaf6241": {
          "model_module": "@jupyter-widgets/controls",
          "model_name": "FloatProgressModel",
          "state": {
            "_view_name": "ProgressView",
            "style": "IPY_MODEL_248e10d75dfe42fc81677dad0705b987",
            "_dom_classes": [],
            "description": "100%",
            "_model_name": "FloatProgressModel",
            "bar_style": "success",
            "max": 87306240,
            "_view_module": "@jupyter-widgets/controls",
            "_model_module_version": "1.5.0",
            "value": 87306240,
            "_view_count": null,
            "_view_module_version": "1.5.0",
            "orientation": "horizontal",
            "min": 0,
            "description_tooltip": null,
            "_model_module": "@jupyter-widgets/controls",
            "layout": "IPY_MODEL_b7d5a5e419044807b4d3edd6ba3bcce6"
          }
        },
        "db09ab297cd0469f887ae7829fda9099": {
          "model_module": "@jupyter-widgets/controls",
          "model_name": "HTMLModel",
          "state": {
            "_view_name": "HTMLView",
            "style": "IPY_MODEL_422c481dcf8b4ef0a644aa743bf88838",
            "_dom_classes": [],
            "description": "",
            "_model_name": "HTMLModel",
            "placeholder": "​",
            "_view_module": "@jupyter-widgets/controls",
            "_model_module_version": "1.5.0",
            "value": " 83.3M/83.3M [00:22&lt;00:00, 3.80MB/s]",
            "_view_count": null,
            "_view_module_version": "1.5.0",
            "description_tooltip": null,
            "_model_module": "@jupyter-widgets/controls",
            "layout": "IPY_MODEL_55c4607b521f4d49bb177f58e5ae342b"
          }
        },
        "248e10d75dfe42fc81677dad0705b987": {
          "model_module": "@jupyter-widgets/controls",
          "model_name": "ProgressStyleModel",
          "state": {
            "_view_name": "StyleView",
            "_model_name": "ProgressStyleModel",
            "description_width": "initial",
            "_view_module": "@jupyter-widgets/base",
            "_model_module_version": "1.5.0",
            "_view_count": null,
            "_view_module_version": "1.2.0",
            "bar_color": null,
            "_model_module": "@jupyter-widgets/controls"
          }
        },
        "b7d5a5e419044807b4d3edd6ba3bcce6": {
          "model_module": "@jupyter-widgets/base",
          "model_name": "LayoutModel",
          "state": {
            "_view_name": "LayoutView",
            "grid_template_rows": null,
            "right": null,
            "justify_content": null,
            "_view_module": "@jupyter-widgets/base",
            "overflow": null,
            "_model_module_version": "1.2.0",
            "_view_count": null,
            "flex_flow": null,
            "width": null,
            "min_width": null,
            "border": null,
            "align_items": null,
            "bottom": null,
            "_model_module": "@jupyter-widgets/base",
            "top": null,
            "grid_column": null,
            "overflow_y": null,
            "overflow_x": null,
            "grid_auto_flow": null,
            "grid_area": null,
            "grid_template_columns": null,
            "flex": null,
            "_model_name": "LayoutModel",
            "justify_items": null,
            "grid_row": null,
            "max_height": null,
            "align_content": null,
            "visibility": null,
            "align_self": null,
            "height": null,
            "min_height": null,
            "padding": null,
            "grid_auto_rows": null,
            "grid_gap": null,
            "max_width": null,
            "order": null,
            "_view_module_version": "1.2.0",
            "grid_template_areas": null,
            "object_position": null,
            "object_fit": null,
            "grid_auto_columns": null,
            "margin": null,
            "display": null,
            "left": null
          }
        },
        "422c481dcf8b4ef0a644aa743bf88838": {
          "model_module": "@jupyter-widgets/controls",
          "model_name": "DescriptionStyleModel",
          "state": {
            "_view_name": "StyleView",
            "_model_name": "DescriptionStyleModel",
            "description_width": "",
            "_view_module": "@jupyter-widgets/base",
            "_model_module_version": "1.5.0",
            "_view_count": null,
            "_view_module_version": "1.2.0",
            "_model_module": "@jupyter-widgets/controls"
          }
        },
        "55c4607b521f4d49bb177f58e5ae342b": {
          "model_module": "@jupyter-widgets/base",
          "model_name": "LayoutModel",
          "state": {
            "_view_name": "LayoutView",
            "grid_template_rows": null,
            "right": null,
            "justify_content": null,
            "_view_module": "@jupyter-widgets/base",
            "overflow": null,
            "_model_module_version": "1.2.0",
            "_view_count": null,
            "flex_flow": null,
            "width": null,
            "min_width": null,
            "border": null,
            "align_items": null,
            "bottom": null,
            "_model_module": "@jupyter-widgets/base",
            "top": null,
            "grid_column": null,
            "overflow_y": null,
            "overflow_x": null,
            "grid_auto_flow": null,
            "grid_area": null,
            "grid_template_columns": null,
            "flex": null,
            "_model_name": "LayoutModel",
            "justify_items": null,
            "grid_row": null,
            "max_height": null,
            "align_content": null,
            "visibility": null,
            "align_self": null,
            "height": null,
            "min_height": null,
            "padding": null,
            "grid_auto_rows": null,
            "grid_gap": null,
            "max_width": null,
            "order": null,
            "_view_module_version": "1.2.0",
            "grid_template_areas": null,
            "object_position": null,
            "object_fit": null,
            "grid_auto_columns": null,
            "margin": null,
            "display": null,
            "left": null
          }
        }
      }
    }
  },
  "cells": [
    {
      "cell_type": "markdown",
      "metadata": {
        "id": "view-in-github",
        "colab_type": "text"
      },
      "source": [
        "<a href=\"https://colab.research.google.com/github/ashish244co/SHALA2020/blob/master/Ashish_Kashav_assignment_segmentation_SHALA.ipynb\" target=\"_parent\"><img src=\"https://colab.research.google.com/assets/colab-badge.svg\" alt=\"Open In Colab\"/></a>"
      ]
    },
    {
      "cell_type": "markdown",
      "metadata": {
        "id": "bFk-xL0nm_L8",
        "colab_type": "text"
      },
      "source": [
        "#Download CamVid Dataset\n",
        "\n",
        "Code in below cell downloads subset of CamVid dataset with 12 classes. Run the cell and download the data. Class names(12 in number) and 12 distinct RGB values for different colours is also given.\n",
        "\n",
        "- Print total number of train, val and test images available in dataset\n",
        "- Visualize any random image and corrosponding mask with the use of CLASS_NAMES and CLASS_COLORS\n",
        "- All the images are of same size. Print size of image."
      ]
    },
    {
      "cell_type": "code",
      "metadata": {
        "id": "8kUcGkX1fI3d",
        "colab_type": "code",
        "colab": {
          "base_uri": "https://localhost:8080/",
          "height": 51
        },
        "outputId": "ba8ba7f8-30cc-4305-a887-246f5a86349a"
      },
      "source": [
        "import os\n",
        "\n",
        "DATA_DIR = './data/CamVid/'\n",
        "\n",
        "if not os.path.exists(DATA_DIR):\n",
        "    print('Loading data...')\n",
        "    os.system('git clone https://github.com/alexgkendall/SegNet-Tutorial ./data')\n",
        "    print('Done!')\n",
        "    \n",
        "CLASS_NAMES = ['sky', 'building', 'pole', 'road', 'pavement',\n",
        "               'tree', 'signsymbol', 'fence', 'car',\n",
        "               'pedestrian', 'bicyclist', 'unlabelled']\n",
        "\n",
        "CLASS_COLORS = [(128, 128, 128), (128, 0, 0), (192, 192, 128), (128, 64, 128), (0, 0, 192),\n",
        "                (128, 128, 0), (192, 128, 128), (64, 64, 128), (64, 0, 128),\n",
        "                (64, 64, 0), (0, 128, 192), (0, 0, 0)]"
      ],
      "execution_count": 1,
      "outputs": [
        {
          "output_type": "stream",
          "text": [
            "Loading data...\n",
            "Done!\n"
          ],
          "name": "stdout"
        }
      ]
    },
    {
      "cell_type": "code",
      "metadata": {
        "id": "Yc4JIbkTdclm",
        "colab_type": "code",
        "outputId": "27d5cc1d-57d0-44f0-f27d-57d63e3f4e06",
        "colab": {
          "base_uri": "https://localhost:8080/",
          "height": 1000
        }
      },
      "source": [
        "!pip install -U catalyst"
      ],
      "execution_count": 2,
      "outputs": [
        {
          "output_type": "stream",
          "text": [
            "Collecting catalyst\n",
            "\u001b[?25l  Downloading https://files.pythonhosted.org/packages/03/12/24661ef093301faa86950cb05f722db5cf669f8139a88cd3317616234200/catalyst-20.6-py2.py3-none-any.whl (368kB)\n",
            "\u001b[K     |████████████████████████████████| 368kB 5.8MB/s \n",
            "\u001b[?25hRequirement already satisfied, skipping upgrade: tqdm>=4.33.0 in /usr/local/lib/python3.6/dist-packages (from catalyst) (4.41.1)\n",
            "Collecting tensorboardX\n",
            "\u001b[?25l  Downloading https://files.pythonhosted.org/packages/35/f1/5843425495765c8c2dd0784a851a93ef204d314fc87bcc2bbb9f662a3ad1/tensorboardX-2.0-py2.py3-none-any.whl (195kB)\n",
            "\u001b[K     |████████████████████████████████| 204kB 13.5MB/s \n",
            "\u001b[?25hRequirement already satisfied, skipping upgrade: packaging in /usr/local/lib/python3.6/dist-packages (from catalyst) (20.4)\n",
            "Requirement already satisfied, skipping upgrade: pandas>=0.22 in /usr/local/lib/python3.6/dist-packages (from catalyst) (1.0.4)\n",
            "Requirement already satisfied, skipping upgrade: ipython in /usr/local/lib/python3.6/dist-packages (from catalyst) (5.5.0)\n",
            "Requirement already satisfied, skipping upgrade: scikit-learn>=0.20 in /usr/local/lib/python3.6/dist-packages (from catalyst) (0.22.2.post1)\n",
            "Requirement already satisfied, skipping upgrade: plotly>=4.1.0 in /usr/local/lib/python3.6/dist-packages (from catalyst) (4.4.1)\n",
            "Collecting crc32c>=1.7\n",
            "  Downloading https://files.pythonhosted.org/packages/ab/82/f60248c01a8a23ae07bd4c43d78d69b20ffe324311db3b0785e391aa09d2/crc32c-2.0-cp36-cp36m-manylinux1_x86_64.whl\n",
            "Requirement already satisfied, skipping upgrade: matplotlib in /usr/local/lib/python3.6/dist-packages (from catalyst) (3.2.1)\n",
            "Collecting deprecation\n",
            "  Downloading https://files.pythonhosted.org/packages/02/c3/253a89ee03fc9b9682f1541728eb66db7db22148cd94f89ab22528cd1e1b/deprecation-2.1.0-py2.py3-none-any.whl\n",
            "Requirement already satisfied, skipping upgrade: PyYAML in /usr/local/lib/python3.6/dist-packages (from catalyst) (3.13)\n",
            "Collecting GitPython>=3.1.1\n",
            "\u001b[?25l  Downloading https://files.pythonhosted.org/packages/8c/f9/c315aa88e51fabdc08e91b333cfefb255aff04a2ee96d632c32cb19180c9/GitPython-3.1.3-py3-none-any.whl (451kB)\n",
            "\u001b[K     |████████████████████████████████| 460kB 12.0MB/s \n",
            "\u001b[?25hRequirement already satisfied, skipping upgrade: numpy>=1.16.4 in /usr/local/lib/python3.6/dist-packages (from catalyst) (1.18.5)\n",
            "Requirement already satisfied, skipping upgrade: tensorboard>=1.14.0 in /usr/local/lib/python3.6/dist-packages (from catalyst) (2.2.2)\n",
            "Requirement already satisfied, skipping upgrade: torch>=1.1.0 in /usr/local/lib/python3.6/dist-packages (from catalyst) (1.5.0+cu101)\n",
            "Requirement already satisfied, skipping upgrade: protobuf>=3.8.0 in /usr/local/lib/python3.6/dist-packages (from tensorboardX->catalyst) (3.10.0)\n",
            "Requirement already satisfied, skipping upgrade: six in /usr/local/lib/python3.6/dist-packages (from tensorboardX->catalyst) (1.12.0)\n",
            "Requirement already satisfied, skipping upgrade: pyparsing>=2.0.2 in /usr/local/lib/python3.6/dist-packages (from packaging->catalyst) (2.4.7)\n",
            "Requirement already satisfied, skipping upgrade: python-dateutil>=2.6.1 in /usr/local/lib/python3.6/dist-packages (from pandas>=0.22->catalyst) (2.8.1)\n",
            "Requirement already satisfied, skipping upgrade: pytz>=2017.2 in /usr/local/lib/python3.6/dist-packages (from pandas>=0.22->catalyst) (2018.9)\n",
            "Requirement already satisfied, skipping upgrade: decorator in /usr/local/lib/python3.6/dist-packages (from ipython->catalyst) (4.4.2)\n",
            "Requirement already satisfied, skipping upgrade: traitlets>=4.2 in /usr/local/lib/python3.6/dist-packages (from ipython->catalyst) (4.3.3)\n",
            "Requirement already satisfied, skipping upgrade: pygments in /usr/local/lib/python3.6/dist-packages (from ipython->catalyst) (2.1.3)\n",
            "Requirement already satisfied, skipping upgrade: pexpect; sys_platform != \"win32\" in /usr/local/lib/python3.6/dist-packages (from ipython->catalyst) (4.8.0)\n",
            "Requirement already satisfied, skipping upgrade: prompt-toolkit<2.0.0,>=1.0.4 in /usr/local/lib/python3.6/dist-packages (from ipython->catalyst) (1.0.18)\n",
            "Requirement already satisfied, skipping upgrade: simplegeneric>0.8 in /usr/local/lib/python3.6/dist-packages (from ipython->catalyst) (0.8.1)\n",
            "Requirement already satisfied, skipping upgrade: setuptools>=18.5 in /usr/local/lib/python3.6/dist-packages (from ipython->catalyst) (47.1.1)\n",
            "Requirement already satisfied, skipping upgrade: pickleshare in /usr/local/lib/python3.6/dist-packages (from ipython->catalyst) (0.7.5)\n",
            "Requirement already satisfied, skipping upgrade: joblib>=0.11 in /usr/local/lib/python3.6/dist-packages (from scikit-learn>=0.20->catalyst) (0.15.1)\n",
            "Requirement already satisfied, skipping upgrade: scipy>=0.17.0 in /usr/local/lib/python3.6/dist-packages (from scikit-learn>=0.20->catalyst) (1.4.1)\n",
            "Requirement already satisfied, skipping upgrade: retrying>=1.3.3 in /usr/local/lib/python3.6/dist-packages (from plotly>=4.1.0->catalyst) (1.3.3)\n",
            "Requirement already satisfied, skipping upgrade: cycler>=0.10 in /usr/local/lib/python3.6/dist-packages (from matplotlib->catalyst) (0.10.0)\n",
            "Requirement already satisfied, skipping upgrade: kiwisolver>=1.0.1 in /usr/local/lib/python3.6/dist-packages (from matplotlib->catalyst) (1.2.0)\n",
            "Collecting gitdb<5,>=4.0.1\n",
            "\u001b[?25l  Downloading https://files.pythonhosted.org/packages/48/11/d1800bca0a3bae820b84b7d813ad1eff15a48a64caea9c823fc8c1b119e8/gitdb-4.0.5-py3-none-any.whl (63kB)\n",
            "\u001b[K     |████████████████████████████████| 71kB 7.5MB/s \n",
            "\u001b[?25hRequirement already satisfied, skipping upgrade: requests<3,>=2.21.0 in /usr/local/lib/python3.6/dist-packages (from tensorboard>=1.14.0->catalyst) (2.23.0)\n",
            "Requirement already satisfied, skipping upgrade: tensorboard-plugin-wit>=1.6.0 in /usr/local/lib/python3.6/dist-packages (from tensorboard>=1.14.0->catalyst) (1.6.0.post3)\n",
            "Requirement already satisfied, skipping upgrade: wheel>=0.26; python_version >= \"3\" in /usr/local/lib/python3.6/dist-packages (from tensorboard>=1.14.0->catalyst) (0.34.2)\n",
            "Requirement already satisfied, skipping upgrade: grpcio>=1.24.3 in /usr/local/lib/python3.6/dist-packages (from tensorboard>=1.14.0->catalyst) (1.29.0)\n",
            "Requirement already satisfied, skipping upgrade: absl-py>=0.4 in /usr/local/lib/python3.6/dist-packages (from tensorboard>=1.14.0->catalyst) (0.9.0)\n",
            "Requirement already satisfied, skipping upgrade: markdown>=2.6.8 in /usr/local/lib/python3.6/dist-packages (from tensorboard>=1.14.0->catalyst) (3.2.2)\n",
            "Requirement already satisfied, skipping upgrade: google-auth-oauthlib<0.5,>=0.4.1 in /usr/local/lib/python3.6/dist-packages (from tensorboard>=1.14.0->catalyst) (0.4.1)\n",
            "Requirement already satisfied, skipping upgrade: google-auth<2,>=1.6.3 in /usr/local/lib/python3.6/dist-packages (from tensorboard>=1.14.0->catalyst) (1.7.2)\n",
            "Requirement already satisfied, skipping upgrade: werkzeug>=0.11.15 in /usr/local/lib/python3.6/dist-packages (from tensorboard>=1.14.0->catalyst) (1.0.1)\n",
            "Requirement already satisfied, skipping upgrade: future in /usr/local/lib/python3.6/dist-packages (from torch>=1.1.0->catalyst) (0.16.0)\n",
            "Requirement already satisfied, skipping upgrade: ipython-genutils in /usr/local/lib/python3.6/dist-packages (from traitlets>=4.2->ipython->catalyst) (0.2.0)\n",
            "Requirement already satisfied, skipping upgrade: ptyprocess>=0.5 in /usr/local/lib/python3.6/dist-packages (from pexpect; sys_platform != \"win32\"->ipython->catalyst) (0.6.0)\n",
            "Requirement already satisfied, skipping upgrade: wcwidth in /usr/local/lib/python3.6/dist-packages (from prompt-toolkit<2.0.0,>=1.0.4->ipython->catalyst) (0.2.3)\n",
            "Collecting smmap<4,>=3.0.1\n",
            "  Downloading https://files.pythonhosted.org/packages/b0/9a/4d409a6234eb940e6a78dfdfc66156e7522262f5f2fecca07dc55915952d/smmap-3.0.4-py2.py3-none-any.whl\n",
            "Requirement already satisfied, skipping upgrade: certifi>=2017.4.17 in /usr/local/lib/python3.6/dist-packages (from requests<3,>=2.21.0->tensorboard>=1.14.0->catalyst) (2020.4.5.1)\n",
            "Requirement already satisfied, skipping upgrade: chardet<4,>=3.0.2 in /usr/local/lib/python3.6/dist-packages (from requests<3,>=2.21.0->tensorboard>=1.14.0->catalyst) (3.0.4)\n",
            "Requirement already satisfied, skipping upgrade: urllib3!=1.25.0,!=1.25.1,<1.26,>=1.21.1 in /usr/local/lib/python3.6/dist-packages (from requests<3,>=2.21.0->tensorboard>=1.14.0->catalyst) (1.24.3)\n",
            "Requirement already satisfied, skipping upgrade: idna<3,>=2.5 in /usr/local/lib/python3.6/dist-packages (from requests<3,>=2.21.0->tensorboard>=1.14.0->catalyst) (2.9)\n",
            "Requirement already satisfied, skipping upgrade: importlib-metadata; python_version < \"3.8\" in /usr/local/lib/python3.6/dist-packages (from markdown>=2.6.8->tensorboard>=1.14.0->catalyst) (1.6.0)\n",
            "Requirement already satisfied, skipping upgrade: requests-oauthlib>=0.7.0 in /usr/local/lib/python3.6/dist-packages (from google-auth-oauthlib<0.5,>=0.4.1->tensorboard>=1.14.0->catalyst) (1.3.0)\n",
            "Requirement already satisfied, skipping upgrade: cachetools<3.2,>=2.0.0 in /usr/local/lib/python3.6/dist-packages (from google-auth<2,>=1.6.3->tensorboard>=1.14.0->catalyst) (3.1.1)\n",
            "Requirement already satisfied, skipping upgrade: rsa<4.1,>=3.1.4 in /usr/local/lib/python3.6/dist-packages (from google-auth<2,>=1.6.3->tensorboard>=1.14.0->catalyst) (4.0)\n",
            "Requirement already satisfied, skipping upgrade: pyasn1-modules>=0.2.1 in /usr/local/lib/python3.6/dist-packages (from google-auth<2,>=1.6.3->tensorboard>=1.14.0->catalyst) (0.2.8)\n",
            "Requirement already satisfied, skipping upgrade: zipp>=0.5 in /usr/local/lib/python3.6/dist-packages (from importlib-metadata; python_version < \"3.8\"->markdown>=2.6.8->tensorboard>=1.14.0->catalyst) (3.1.0)\n",
            "Requirement already satisfied, skipping upgrade: oauthlib>=3.0.0 in /usr/local/lib/python3.6/dist-packages (from requests-oauthlib>=0.7.0->google-auth-oauthlib<0.5,>=0.4.1->tensorboard>=1.14.0->catalyst) (3.1.0)\n",
            "Requirement already satisfied, skipping upgrade: pyasn1>=0.1.3 in /usr/local/lib/python3.6/dist-packages (from rsa<4.1,>=3.1.4->google-auth<2,>=1.6.3->tensorboard>=1.14.0->catalyst) (0.4.8)\n",
            "Installing collected packages: tensorboardX, crc32c, deprecation, smmap, gitdb, GitPython, catalyst\n",
            "Successfully installed GitPython-3.1.3 catalyst-20.6 crc32c-2.0 deprecation-2.1.0 gitdb-4.0.5 smmap-3.0.4 tensorboardX-2.0\n"
          ],
          "name": "stdout"
        }
      ]
    },
    {
      "cell_type": "code",
      "metadata": {
        "id": "ntQV08g7Ccbc",
        "colab_type": "code",
        "colab": {}
      },
      "source": [
        "import os\n",
        "from collections import OrderedDict\n",
        "from functools import partial\n",
        "import numpy as np\n",
        "import torch\n",
        "import torch.nn as nn\n",
        "import cv2\n",
        "from torch.optim import Adam, SGD, ASGD, RMSprop, LBFGS\n",
        "from torch.utils.data import Dataset, DataLoader, WeightedRandomSampler\n",
        "from torchvision.models import resnet34\n",
        "from datetime import datetime"
      ],
      "execution_count": 0,
      "outputs": []
    },
    {
      "cell_type": "code",
      "metadata": {
        "id": "QowbwpZ8ckcN",
        "colab_type": "code",
        "colab": {}
      },
      "source": [
        "import torchvision"
      ],
      "execution_count": 0,
      "outputs": []
    },
    {
      "cell_type": "code",
      "metadata": {
        "id": "9oCtD-bGm3NW",
        "colab_type": "code",
        "colab": {
          "base_uri": "https://localhost:8080/",
          "height": 68
        },
        "outputId": "8ee0fa8a-7aca-4dd7-be59-b65ddd6439aa"
      },
      "source": [
        "! pip install --quiet git+https://github.com/albu/albumentations"
      ],
      "execution_count": 5,
      "outputs": [
        {
          "output_type": "stream",
          "text": [
            "\u001b[?25l\r\u001b[K     |▌                               | 10kB 16.9MB/s eta 0:00:01\r\u001b[K     |█                               | 20kB 4.0MB/s eta 0:00:01\r\u001b[K     |█▋                              | 30kB 5.2MB/s eta 0:00:01\r\u001b[K     |██                              | 40kB 5.4MB/s eta 0:00:01\r\u001b[K     |██▋                             | 51kB 4.5MB/s eta 0:00:01\r\u001b[K     |███▏                            | 61kB 5.1MB/s eta 0:00:01\r\u001b[K     |███▋                            | 71kB 5.5MB/s eta 0:00:01\r\u001b[K     |████▏                           | 81kB 5.9MB/s eta 0:00:01\r\u001b[K     |████▊                           | 92kB 6.2MB/s eta 0:00:01\r\u001b[K     |█████▏                          | 102kB 6.2MB/s eta 0:00:01\r\u001b[K     |█████▊                          | 112kB 6.2MB/s eta 0:00:01\r\u001b[K     |██████▎                         | 122kB 6.2MB/s eta 0:00:01\r\u001b[K     |██████▊                         | 133kB 6.2MB/s eta 0:00:01\r\u001b[K     |███████▎                        | 143kB 6.2MB/s eta 0:00:01\r\u001b[K     |███████▉                        | 153kB 6.2MB/s eta 0:00:01\r\u001b[K     |████████▎                       | 163kB 6.2MB/s eta 0:00:01\r\u001b[K     |████████▉                       | 174kB 6.2MB/s eta 0:00:01\r\u001b[K     |█████████▍                      | 184kB 6.2MB/s eta 0:00:01\r\u001b[K     |█████████▉                      | 194kB 6.2MB/s eta 0:00:01\r\u001b[K     |██████████▍                     | 204kB 6.2MB/s eta 0:00:01\r\u001b[K     |███████████                     | 215kB 6.2MB/s eta 0:00:01\r\u001b[K     |███████████▍                    | 225kB 6.2MB/s eta 0:00:01\r\u001b[K     |████████████                    | 235kB 6.2MB/s eta 0:00:01\r\u001b[K     |████████████▌                   | 245kB 6.2MB/s eta 0:00:01\r\u001b[K     |█████████████                   | 256kB 6.2MB/s eta 0:00:01\r\u001b[K     |█████████████▌                  | 266kB 6.2MB/s eta 0:00:01\r\u001b[K     |██████████████                  | 276kB 6.2MB/s eta 0:00:01\r\u001b[K     |██████████████▌                 | 286kB 6.2MB/s eta 0:00:01\r\u001b[K     |███████████████                 | 296kB 6.2MB/s eta 0:00:01\r\u001b[K     |███████████████▋                | 307kB 6.2MB/s eta 0:00:01\r\u001b[K     |████████████████                | 317kB 6.2MB/s eta 0:00:01\r\u001b[K     |████████████████▋               | 327kB 6.2MB/s eta 0:00:01\r\u001b[K     |█████████████████▏              | 337kB 6.2MB/s eta 0:00:01\r\u001b[K     |█████████████████▋              | 348kB 6.2MB/s eta 0:00:01\r\u001b[K     |██████████████████▏             | 358kB 6.2MB/s eta 0:00:01\r\u001b[K     |██████████████████▊             | 368kB 6.2MB/s eta 0:00:01\r\u001b[K     |███████████████████▏            | 378kB 6.2MB/s eta 0:00:01\r\u001b[K     |███████████████████▊            | 389kB 6.2MB/s eta 0:00:01\r\u001b[K     |████████████████████▎           | 399kB 6.2MB/s eta 0:00:01\r\u001b[K     |████████████████████▊           | 409kB 6.2MB/s eta 0:00:01\r\u001b[K     |█████████████████████▎          | 419kB 6.2MB/s eta 0:00:01\r\u001b[K     |█████████████████████▉          | 430kB 6.2MB/s eta 0:00:01\r\u001b[K     |██████████████████████▎         | 440kB 6.2MB/s eta 0:00:01\r\u001b[K     |██████████████████████▉         | 450kB 6.2MB/s eta 0:00:01\r\u001b[K     |███████████████████████▍        | 460kB 6.2MB/s eta 0:00:01\r\u001b[K     |███████████████████████▉        | 471kB 6.2MB/s eta 0:00:01\r\u001b[K     |████████████████████████▍       | 481kB 6.2MB/s eta 0:00:01\r\u001b[K     |█████████████████████████       | 491kB 6.2MB/s eta 0:00:01\r\u001b[K     |█████████████████████████▍      | 501kB 6.2MB/s eta 0:00:01\r\u001b[K     |██████████████████████████      | 512kB 6.2MB/s eta 0:00:01\r\u001b[K     |██████████████████████████▌     | 522kB 6.2MB/s eta 0:00:01\r\u001b[K     |███████████████████████████     | 532kB 6.2MB/s eta 0:00:01\r\u001b[K     |███████████████████████████▌    | 542kB 6.2MB/s eta 0:00:01\r\u001b[K     |████████████████████████████    | 552kB 6.2MB/s eta 0:00:01\r\u001b[K     |████████████████████████████▌   | 563kB 6.2MB/s eta 0:00:01\r\u001b[K     |█████████████████████████████   | 573kB 6.2MB/s eta 0:00:01\r\u001b[K     |█████████████████████████████▋  | 583kB 6.2MB/s eta 0:00:01\r\u001b[K     |██████████████████████████████  | 593kB 6.2MB/s eta 0:00:01\r\u001b[K     |██████████████████████████████▋ | 604kB 6.2MB/s eta 0:00:01\r\u001b[K     |███████████████████████████████▏| 614kB 6.2MB/s eta 0:00:01\r\u001b[K     |███████████████████████████████▋| 624kB 6.2MB/s eta 0:00:01\r\u001b[K     |████████████████████████████████| 634kB 6.2MB/s \n",
            "\u001b[?25h  Building wheel for albumentations (setup.py) ... \u001b[?25l\u001b[?25hdone\n",
            "  Building wheel for imgaug (setup.py) ... \u001b[?25l\u001b[?25hdone\n"
          ],
          "name": "stdout"
        }
      ]
    },
    {
      "cell_type": "code",
      "metadata": {
        "id": "wuFKSVSPEPaA",
        "colab_type": "code",
        "colab": {}
      },
      "source": [
        "import albumentations as A"
      ],
      "execution_count": 0,
      "outputs": []
    },
    {
      "cell_type": "code",
      "metadata": {
        "id": "1T8ahEGzbyzv",
        "colab_type": "code",
        "colab": {}
      },
      "source": [
        "class CamVidDataset(Dataset):\n",
        "    \"\"\"CamVid Dataset. Read images, apply augmentation and preprocessing transformations.\n",
        "\n",
        "    Args:\n",
        "        images_dir (str): path to images folder\n",
        "        masks_dir (str): path to segmentation masks folder\n",
        "        class_values (list): values of classes to extract from segmentation mask\n",
        "        augmentation (A.Compose): data transfromation pipeline\n",
        "            (e.g. flip, scale, etc.)\n",
        "    \"\"\"\n",
        "\n",
        "    def __init__(\n",
        "            self,\n",
        "            images_dir,\n",
        "            masks_dir,\n",
        "            transform=A.Normalize()\n",
        "    ):\n",
        "        self.ids = os.listdir(images_dir)\n",
        "        self.images_fps = [os.path.join(images_dir, image_id) for image_id in self.ids]\n",
        "        self.masks_fps = [os.path.join(masks_dir, image_id) for image_id in self.ids]\n",
        "        self.transform = transform\n",
        "\n",
        "\n",
        "    def __getitem__(self, i):\n",
        "        # read data\n",
        "        image = cv2.imread(self.images_fps[i])\n",
        "        mask = cv2.imread(self.masks_fps[i],cv2.IMREAD_GRAYSCALE)\n",
        "        \n",
        "        # apply augmentations\n",
        "\n",
        "        \n",
        "\n",
        "        sample = self.transform(image=image, mask=mask)\n",
        "        image, mask = sample['image'], sample['mask']\n",
        "        image = np.moveaxis(image, -1, 0)\n",
        "        image = np.ascontiguousarray(image)\n",
        "        image = torch.from_numpy(image)\n",
        "\n",
        "        return {\n",
        "            \"features\": image,\n",
        "            \"targets\": torch.from_numpy(mask).long()\n",
        "        }\n",
        "\n",
        "    def __len__(self):\n",
        "        return len(self.ids)"
      ],
      "execution_count": 0,
      "outputs": []
    },
    {
      "cell_type": "code",
      "metadata": {
        "id": "NQbHK9R5c6k_",
        "colab_type": "code",
        "colab": {}
      },
      "source": [
        "x_train_dir = os.path.join(DATA_DIR, 'train')\n",
        "y_train_dir = os.path.join(DATA_DIR, 'trainannot')\n",
        "\n",
        "x_valid_dir = os.path.join(DATA_DIR, 'val')\n",
        "y_valid_dir = os.path.join(DATA_DIR, 'valannot')\n",
        "\n",
        "x_test_dir = os.path.join(DATA_DIR, 'test')\n",
        "y_test_dir = os.path.join(DATA_DIR, 'testannot')"
      ],
      "execution_count": 0,
      "outputs": []
    },
    {
      "cell_type": "code",
      "metadata": {
        "id": "xwIqDSr9mLPU",
        "colab_type": "code",
        "colab": {}
      },
      "source": [
        "def get_training_augmentation(blur=True, weather=True):\n",
        "    return A.Compose([\n",
        "        A.PadIfNeeded(384, 384, border_mode=cv2.BORDER_CONSTANT, value=0, mask_value=11),\n",
        "        A.Normalize()\n",
        "    ])\n",
        "\n",
        "\n",
        "def get_validation_augmentation():\n",
        "    return A.Compose([\n",
        "        A.PadIfNeeded(384, 384, border_mode=cv2.BORDER_CONSTANT, value=0, mask_value=11),\n",
        "        A.Normalize()\n",
        "    ])"
      ],
      "execution_count": 0,
      "outputs": []
    },
    {
      "cell_type": "code",
      "metadata": {
        "id": "VnSxhYRJcvhP",
        "colab_type": "code",
        "outputId": "edb2bd6d-bce0-4e5d-ad0b-b7cb3fd3b3de",
        "colab": {
          "base_uri": "https://localhost:8080/",
          "height": 51
        }
      },
      "source": [
        "train_ds = CamVidDataset(x_train_dir, y_train_dir, transform=get_training_augmentation())\n",
        "valid_ds = CamVidDataset(x_valid_dir, y_valid_dir, transform=get_validation_augmentation())\n",
        "\n",
        "print('Train dataset size', len(train_ds))\n",
        "print('Valid dataset size', len(valid_ds))"
      ],
      "execution_count": 11,
      "outputs": [
        {
          "output_type": "stream",
          "text": [
            "Train dataset size 367\n",
            "Valid dataset size 101\n"
          ],
          "name": "stdout"
        }
      ]
    },
    {
      "cell_type": "code",
      "metadata": {
        "id": "SzN4sbbOfg-_",
        "colab_type": "code",
        "colab": {}
      },
      "source": [
        "import matplotlib.pyplot as plt"
      ],
      "execution_count": 0,
      "outputs": []
    },
    {
      "cell_type": "code",
      "metadata": {
        "id": "iURUAmsS5KC3",
        "colab_type": "code",
        "colab": {
          "base_uri": "https://localhost:8080/",
          "height": 323
        },
        "outputId": "9ce4edc4-08d9-42b2-8bcc-c551a15b0052"
      },
      "source": [
        "plt.imshow(np.transpose(train_ds[1]['features'].cpu().detach().numpy(), (1, 2, 0)))"
      ],
      "execution_count": 13,
      "outputs": [
        {
          "output_type": "stream",
          "text": [
            "Clipping input data to the valid range for imshow with RGB data ([0..1] for floats or [0..255] for integers).\n"
          ],
          "name": "stderr"
        },
        {
          "output_type": "execute_result",
          "data": {
            "text/plain": [
              "<matplotlib.image.AxesImage at 0x7fc0e1107518>"
            ]
          },
          "metadata": {
            "tags": []
          },
          "execution_count": 13
        },
        {
          "output_type": "display_data",
          "data": {
            "image/png": "[encoded data removed]",
            "text/plain": [
              "<Figure size 432x288 with 1 Axes>"
            ]
          },
          "metadata": {
            "tags": [],
            "needs_background": "light"
          }
        }
      ]
    },
    {
      "cell_type": "code",
      "metadata": {
        "id": "egYQpuiGjSaT",
        "colab_type": "code",
        "colab": {
          "base_uri": "https://localhost:8080/",
          "height": 34
        },
        "outputId": "719da8bb-7aac-4bde-b662-12f5bb3ed18e"
      },
      "source": [
        "np.transpose(train_ds[1]['features'].cpu().detach().numpy(), (1, 2, 0)).shape"
      ],
      "execution_count": 14,
      "outputs": [
        {
          "output_type": "execute_result",
          "data": {
            "text/plain": [
              "(384, 480, 3)"
            ]
          },
          "metadata": {
            "tags": []
          },
          "execution_count": 14
        }
      ]
    },
    {
      "cell_type": "code",
      "metadata": {
        "id": "xkxfoQQ4g-7b",
        "colab_type": "code",
        "outputId": "15a471ec-7a4d-45cd-8d54-cc0ef7536cc0",
        "colab": {
          "base_uri": "https://localhost:8080/",
          "height": 286
        }
      },
      "source": [
        "plt.imshow(train_ds[1]['targets'])"
      ],
      "execution_count": 15,
      "outputs": [
        {
          "output_type": "execute_result",
          "data": {
            "text/plain": [
              "<matplotlib.image.AxesImage at 0x7fc0e0be1160>"
            ]
          },
          "metadata": {
            "tags": []
          },
          "execution_count": 15
        },
        {
          "output_type": "display_data",
          "data": {
            "image/png": "[encoded data removed]",
            "text/plain": [
              "<Figure size 432x288 with 1 Axes>"
            ]
          },
          "metadata": {
            "tags": [],
            "needs_background": "light"
          }
        }
      ]
    },
    {
      "cell_type": "code",
      "metadata": {
        "id": "4cLVWY-MhtOS",
        "colab_type": "code",
        "colab": {}
      },
      "source": [
        "def dice_score(y_pred: torch.Tensor, y_true: torch.Tensor, smooth=0, eps=1e-7, dims=None) -> torch.Tensor:\n",
        "   \n",
        "    if dims is not None:\n",
        "        intersection = torch.sum(y_pred * y_true, dim=dims)\n",
        "        cardinality = torch.sum(y_pred + y_true, dim=dims)\n",
        "    else:\n",
        "        intersection = torch.sum(y_pred * y_true)\n",
        "        cardinality = torch.sum(y_pred + y_true)\n",
        "    dice_score = (2.0 * intersection) / (cardinality+ eps)\n",
        "    return dice_score"
      ],
      "execution_count": 0,
      "outputs": []
    },
    {
      "cell_type": "code",
      "metadata": {
        "id": "bQgNotjTnj4b",
        "colab_type": "code",
        "colab": {
          "base_uri": "https://localhost:8080/",
          "height": 164
        },
        "outputId": "5ddcf437-15fd-4d75-8e93-cf7035bf6acb"
      },
      "source": [
        "A.PadIfNeeded(384, 384, border_mode=cv2.BORDER_CONSTANT, value=0, mask_value=11)"
      ],
      "execution_count": 66,
      "outputs": [
        {
          "output_type": "error",
          "ename": "TypeError",
          "evalue": "ignored",
          "traceback": [
            "\u001b[0;31m---------------------------------------------------------------------------\u001b[0m",
            "\u001b[0;31mTypeError\u001b[0m                                 Traceback (most recent call last)",
            "\u001b[0;32m<ipython-input-66-9b35cadaa608>\u001b[0m in \u001b[0;36m<module>\u001b[0;34m()\u001b[0m\n\u001b[0;32m----> 1\u001b[0;31m \u001b[0mA\u001b[0m\u001b[0;34m.\u001b[0m\u001b[0mPadIfNeeded\u001b[0m\u001b[0;34m(\u001b[0m\u001b[0;36m384\u001b[0m\u001b[0;34m,\u001b[0m \u001b[0;36m384\u001b[0m\u001b[0;34m,\u001b[0m \u001b[0mborder_mode\u001b[0m\u001b[0;34m=\u001b[0m\u001b[0mcv2\u001b[0m\u001b[0;34m.\u001b[0m\u001b[0mBORDER_CONSTANT\u001b[0m\u001b[0;34m,\u001b[0m \u001b[0mvalue\u001b[0m\u001b[0;34m=\u001b[0m\u001b[0;36m0\u001b[0m\u001b[0;34m,\u001b[0m \u001b[0mmask_value\u001b[0m\u001b[0;34m=\u001b[0m\u001b[0;36m11\u001b[0m\u001b[0;34m)\u001b[0m\u001b[0;34m\u001b[0m\u001b[0;34m\u001b[0m\u001b[0m\n\u001b[0m",
            "\u001b[0;31mTypeError\u001b[0m: __init__() got an unexpected keyword argument 'mask_value'"
          ]
        }
      ]
    },
    {
      "cell_type": "code",
      "metadata": {
        "id": "_-7iTqX8jYSt",
        "colab_type": "code",
        "colab": {}
      },
      "source": [
        "(360, 480, 3)"
      ],
      "execution_count": 0,
      "outputs": []
    },
    {
      "cell_type": "code",
      "metadata": {
        "id": "ep79llYukmrP",
        "colab_type": "code",
        "colab": {}
      },
      "source": [
        "class DecoderBlockLinkNet(nn.Module):\n",
        "    def __init__(self, in_channels, n_filters):\n",
        "        super().__init__()\n",
        "\n",
        "        self.relu = nn.ReLU(inplace=True)\n",
        "\n",
        "        # B, C, H, W -> B, C/4, H, W\n",
        "        self.conv1 = nn.Conv2d(in_channels, in_channels // 4, 1)\n",
        "        self.norm1 = nn.BatchNorm2d(in_channels // 4)\n",
        "\n",
        "        # B, C/4, H, W -> B, C/4, 2 * H, 2 * W\n",
        "        self.deconv2 = nn.ConvTranspose2d(in_channels // 4, in_channels // 4, kernel_size=4,\n",
        "                                          stride=2, padding=1, output_padding=0)\n",
        "        self.norm2 = nn.BatchNorm2d(in_channels // 4)\n",
        "\n",
        "        # B, C/4, H, W -> B, C, H, W\n",
        "        self.conv3 = nn.Conv2d(in_channels // 4, n_filters, 1)\n",
        "        self.norm3 = nn.BatchNorm2d(n_filters)\n",
        "\n",
        "    def forward(self, x):\n",
        "        x = self.conv1(x)\n",
        "        x = self.norm1(x)\n",
        "        x = self.relu(x)\n",
        "        x = self.deconv2(x)\n",
        "        x = self.norm2(x)\n",
        "        x = self.relu(x)\n",
        "        x = self.conv3(x)\n",
        "        x = self.norm3(x)\n",
        "        x = self.relu(x)\n",
        "        return x\n",
        "\n",
        "\n",
        "class LinkNet34(nn.Module):\n",
        "    def __init__(self, num_classes=1, num_channels=3, pretrained=True):\n",
        "        super().__init__()\n",
        "        assert num_channels == 3\n",
        "        self.num_classes = num_classes\n",
        "        filters = [64, 128, 256, 512]\n",
        "        resnet = resnet34(pretrained=pretrained)\n",
        "\n",
        "        self.firstconv = resnet.conv1\n",
        "        self.firstbn = resnet.bn1\n",
        "        self.firstrelu = resnet.relu\n",
        "        self.firstmaxpool = resnet.maxpool\n",
        "        self.encoder1 = resnet.layer1\n",
        "        self.encoder2 = resnet.layer2\n",
        "        self.encoder3 = resnet.layer3\n",
        "        self.encoder4 = resnet.layer4\n",
        "\n",
        "        # Decoder\n",
        "        self.decoder4 = DecoderBlockLinkNet(filters[3], filters[2])\n",
        "        self.decoder3 = DecoderBlockLinkNet(filters[2], filters[1])\n",
        "        self.decoder2 = DecoderBlockLinkNet(filters[1], filters[0])\n",
        "        self.decoder1 = DecoderBlockLinkNet(filters[0], filters[0])\n",
        "\n",
        "        # Final Classifier\n",
        "        self.finaldeconv1 = nn.ConvTranspose2d(filters[0], 32, 3, stride=2)\n",
        "        self.finalrelu1 = nn.ReLU(inplace=True)\n",
        "        self.finalconv2 = nn.Conv2d(32, 32, 3)\n",
        "        self.finalrelu2 = nn.ReLU(inplace=True)\n",
        "        self.finalconv3 = nn.Conv2d(32, num_classes, 2, padding=1)\n",
        "\n",
        "    def forward(self, x):\n",
        "      \n",
        "        # Encoder\n",
        "        x = self.firstconv(x)\n",
        "        x = self.firstbn(x)\n",
        "        x = self.firstrelu(x)\n",
        "        x = self.firstmaxpool(x)\n",
        "        e1 = self.encoder1(x)\n",
        "        e2 = self.encoder2(e1)\n",
        "        e3 = self.encoder3(e2)\n",
        "        e4 = self.encoder4(e3)\n",
        "        print(e3.size())\n",
        "        # Decoder with Skip Connections\n",
        "        d4 = self.decoder4(e4) + e3\n",
        "        d3 = self.decoder3(d4) + e2\n",
        "        d2 = self.decoder2(d3) + e1\n",
        "        d1 = self.decoder1(d2)\n",
        "\n",
        "        # Final Classification\n",
        "        f1 = self.finaldeconv1(d1)\n",
        "        f2 = self.finalrelu1(f1)\n",
        "        f3 = self.finalconv2(f2)\n",
        "        f4 = self.finalrelu2(f3)\n",
        "        f5 = self.finalconv3(f4)\n",
        "        \n",
        "        return f5 "
      ],
      "execution_count": 0,
      "outputs": []
    },
    {
      "cell_type": "code",
      "metadata": {
        "id": "9DcWGpEhZBJO",
        "colab_type": "code",
        "colab": {}
      },
      "source": [
        "num_classes = len(CLASS_NAMES)"
      ],
      "execution_count": 0,
      "outputs": []
    },
    {
      "cell_type": "code",
      "metadata": {
        "id": "rSRCwHtwbK7K",
        "colab_type": "code",
        "colab": {
          "base_uri": "https://localhost:8080/",
          "height": 34
        },
        "outputId": "31ddaefa-937b-4b17-9a9c-5c3a04d328c8"
      },
      "source": [
        "num_classes"
      ],
      "execution_count": 39,
      "outputs": [
        {
          "output_type": "execute_result",
          "data": {
            "text/plain": [
              "12"
            ]
          },
          "metadata": {
            "tags": []
          },
          "execution_count": 39
        }
      ]
    },
    {
      "cell_type": "code",
      "metadata": {
        "id": "5X_CLlimpYIC",
        "colab_type": "code",
        "colab": {
          "base_uri": "https://localhost:8080/",
          "height": 103,
          "referenced_widgets": [
            "79bf5528a55140eda632271c17351e38",
            "752d8c243c3d4a0b80395d1dc1fa575a",
            "1816956b912e43ab8296f4a0aeaf6241",
            "db09ab297cd0469f887ae7829fda9099",
            "248e10d75dfe42fc81677dad0705b987",
            "b7d5a5e419044807b4d3edd6ba3bcce6",
            "422c481dcf8b4ef0a644aa743bf88838",
            "55c4607b521f4d49bb177f58e5ae342b"
          ]
        },
        "outputId": "e882af5b-3da0-4070-dea7-7284ac110013"
      },
      "source": [
        "net=LinkNet34(num_classes).cuda()"
      ],
      "execution_count": 18,
      "outputs": [
        {
          "output_type": "stream",
          "text": [
            "Downloading: \"https://download.pytorch.org/models/resnet34-333f7ec4.pth\" to /root/.cache/torch/checkpoints/resnet34-333f7ec4.pth\n"
          ],
          "name": "stderr"
        },
        {
          "output_type": "display_data",
          "data": {
            "application/vnd.jupyter.widget-view+json": {
              "model_id": "79bf5528a55140eda632271c17351e38",
              "version_minor": 0,
              "version_major": 2
            },
            "text/plain": [
              "HBox(children=(FloatProgress(value=0.0, max=87306240.0), HTML(value='')))"
            ]
          },
          "metadata": {
            "tags": []
          }
        },
        {
          "output_type": "stream",
          "text": [
            "\n"
          ],
          "name": "stdout"
        }
      ]
    },
    {
      "cell_type": "code",
      "metadata": {
        "id": "ryg4klCbpsQ9",
        "colab_type": "code",
        "colab": {}
      },
      "source": [
        "from tqdm import tqdm_notebook as tqdm\n",
        "import warnings\n",
        "warnings.filterwarnings(\"ignore\")"
      ],
      "execution_count": 0,
      "outputs": []
    },
    {
      "cell_type": "code",
      "metadata": {
        "id": "-yQHOXhzmwQv",
        "colab_type": "code",
        "colab": {}
      },
      "source": [
        "loss_fn = nn.CrossEntropyLoss()\n",
        "opt = Adam(net.parameters(),weight_decay=1e-3)"
      ],
      "execution_count": 0,
      "outputs": []
    },
    {
      "cell_type": "code",
      "metadata": {
        "id": "GGJFXMHGp8_j",
        "colab_type": "code",
        "colab": {}
      },
      "source": [
        "data_loaders = {}\n",
        "data_loaders['train'] = DataLoader(train_ds, batch_size=16, pin_memory=True)\n",
        "data_loaders['valid'] = DataLoader(valid_ds, batch_size=16, pin_memory=True)"
      ],
      "execution_count": 0,
      "outputs": []
    },
    {
      "cell_type": "code",
      "metadata": {
        "id": "iiW0K7G0By1n",
        "colab_type": "code",
        "colab": {}
      },
      "source": [
        "dataloader_iterator = iter(data_loaders['train'])"
      ],
      "execution_count": 0,
      "outputs": []
    },
    {
      "cell_type": "code",
      "metadata": {
        "id": "UNpLsVFLJJse",
        "colab_type": "code",
        "colab": {
          "base_uri": "https://localhost:8080/",
          "height": 34
        },
        "outputId": "cef4d20c-a5f2-4908-8f8a-1dc0781db919"
      },
      "source": [
        "next(dataloader_iterator)['features'].shape[0]"
      ],
      "execution_count": 23,
      "outputs": [
        {
          "output_type": "execute_result",
          "data": {
            "text/plain": [
              "16"
            ]
          },
          "metadata": {
            "tags": []
          },
          "execution_count": 23
        }
      ]
    },
    {
      "cell_type": "code",
      "metadata": {
        "id": "szjYkR6KG4Hb",
        "colab_type": "code",
        "colab": {
          "base_uri": "https://localhost:8080/",
          "height": 241
        },
        "outputId": "e2c3877c-60e9-40d2-e95d-76973d9dd776"
      },
      "source": [
        "from catalyst.dl import SupervisedRunner"
      ],
      "execution_count": 24,
      "outputs": [
        {
          "output_type": "stream",
          "text": [
            "/usr/lib/python3.6/importlib/_bootstrap.py:219: RuntimeWarning:\n",
            "\n",
            "numpy.ufunc size changed, may indicate binary incompatibility. Expected 192 from C header, got 216 from PyObject\n",
            "\n",
            "/usr/lib/python3.6/importlib/_bootstrap.py:219: RuntimeWarning:\n",
            "\n",
            "numpy.ufunc size changed, may indicate binary incompatibility. Expected 192 from C header, got 216 from PyObject\n",
            "\n",
            "/usr/lib/python3.6/importlib/_bootstrap.py:219: RuntimeWarning:\n",
            "\n",
            "numpy.ufunc size changed, may indicate binary incompatibility. Expected 192 from C header, got 216 from PyObject\n",
            "\n"
          ],
          "name": "stderr"
        }
      ]
    },
    {
      "cell_type": "code",
      "metadata": {
        "id": "xu8Zhm-nq06I",
        "colab_type": "code",
        "outputId": "9de5429e-5209-4b65-dd6a-c7e01b407730",
        "colab": {
          "base_uri": "https://localhost:8080/",
          "height": 1000
        }
      },
      "source": [
        "runner = SupervisedRunner()\n",
        "runner.train(\n",
        "    model=net,\n",
        "    criterion=loss_fn,\n",
        "    optimizer=opt,\n",
        "    loaders=data_loaders,\n",
        "    num_epochs=5,\n",
        "    verbose=True\n",
        ")"
      ],
      "execution_count": 26,
      "outputs": [
        {
          "output_type": "stream",
          "text": [
            "\n",
            "1/5 * Epoch (train):   0% 0/23 [00:00<?, ?it/s]\u001b[Atorch.Size([16, 256, 24, 30])\n",
            "torch.Size([16, 256, 24, 30])\n",
            "\n",
            "1/5 * Epoch (train):   0% 0/23 [00:01<?, ?it/s, loss=2.485]\u001b[A\n",
            "1/5 * Epoch (train):   4% 1/23 [00:01<00:36,  1.64s/it, loss=2.485]\u001b[Atorch.Size([16, 256, 24, 30])\n",
            "torch.Size([16, 256, 24, 30])\n",
            "\n",
            "1/5 * Epoch (train):   4% 1/23 [00:03<00:36,  1.64s/it, loss=2.456]\u001b[A\n",
            "1/5 * Epoch (train):   9% 2/23 [00:03<00:33,  1.60s/it, loss=2.456]\u001b[Atorch.Size([16, 256, 24, 30])\n",
            "torch.Size([16, 256, 24, 30])\n",
            "\n",
            "1/5 * Epoch (train):   9% 2/23 [00:04<00:33,  1.60s/it, loss=2.423]\u001b[A\n",
            "1/5 * Epoch (train):  13% 3/23 [00:04<00:31,  1.57s/it, loss=2.423]\u001b[Atorch.Size([16, 256, 24, 30])\n",
            "torch.Size([16, 256, 24, 30])\n",
            "\n",
            "1/5 * Epoch (train):  13% 3/23 [00:06<00:31,  1.57s/it, loss=2.387]\u001b[A\n",
            "1/5 * Epoch (train):  17% 4/23 [00:06<00:29,  1.54s/it, loss=2.387]\u001b[Atorch.Size([16, 256, 24, 30])\n",
            "torch.Size([16, 256, 24, 30])\n",
            "\n",
            "1/5 * Epoch (train):  17% 4/23 [00:07<00:29,  1.54s/it, loss=2.334]\u001b[A\n",
            "1/5 * Epoch (train):  22% 5/23 [00:07<00:27,  1.51s/it, loss=2.334]\u001b[Atorch.Size([16, 256, 24, 30])\n",
            "torch.Size([16, 256, 24, 30])\n",
            "\n",
            "1/5 * Epoch (train):  22% 5/23 [00:09<00:27,  1.51s/it, loss=2.280]\u001b[A\n",
            "1/5 * Epoch (train):  26% 6/23 [00:09<00:25,  1.50s/it, loss=2.280]\u001b[Atorch.Size([16, 256, 24, 30])\n",
            "torch.Size([16, 256, 24, 30])\n",
            "\n",
            "1/5 * Epoch (train):  26% 6/23 [00:10<00:25,  1.50s/it, loss=2.191]\u001b[A\n",
            "1/5 * Epoch (train):  30% 7/23 [00:10<00:23,  1.49s/it, loss=2.191]\u001b[Atorch.Size([16, 256, 24, 30])\n",
            "torch.Size([16, 256, 24, 30])\n",
            "\n",
            "1/5 * Epoch (train):  30% 7/23 [00:11<00:23,  1.49s/it, loss=2.071]\u001b[A\n",
            "1/5 * Epoch (train):  35% 8/23 [00:11<00:22,  1.48s/it, loss=2.071]\u001b[Atorch.Size([16, 256, 24, 30])\n",
            "torch.Size([16, 256, 24, 30])\n",
            "\n",
            "1/5 * Epoch (train):  35% 8/23 [00:13<00:22,  1.48s/it, loss=1.972]\u001b[A\n",
            "1/5 * Epoch (train):  39% 9/23 [00:13<00:20,  1.47s/it, loss=1.972]\u001b[Atorch.Size([16, 256, 24, 30])\n",
            "torch.Size([16, 256, 24, 30])\n",
            "\n",
            "1/5 * Epoch (train):  39% 9/23 [00:14<00:20,  1.47s/it, loss=1.881]\u001b[A\n",
            "1/5 * Epoch (train):  43% 10/23 [00:14<00:19,  1.47s/it, loss=1.881]\u001b[Atorch.Size([16, 256, 24, 30])\n",
            "torch.Size([16, 256, 24, 30])\n",
            "\n",
            "1/5 * Epoch (train):  43% 10/23 [00:16<00:19,  1.47s/it, loss=1.785]\u001b[A\n",
            "1/5 * Epoch (train):  48% 11/23 [00:16<00:17,  1.47s/it, loss=1.785]\u001b[Atorch.Size([16, 256, 24, 30])\n",
            "torch.Size([16, 256, 24, 30])\n",
            "\n",
            "1/5 * Epoch (train):  48% 11/23 [00:17<00:17,  1.47s/it, loss=1.793]\u001b[A\n",
            "1/5 * Epoch (train):  52% 12/23 [00:17<00:16,  1.47s/it, loss=1.793]\u001b[Atorch.Size([16, 256, 24, 30])\n",
            "torch.Size([16, 256, 24, 30])\n",
            "\n",
            "1/5 * Epoch (train):  52% 12/23 [00:19<00:16,  1.47s/it, loss=1.895]\u001b[A\n",
            "1/5 * Epoch (train):  57% 13/23 [00:19<00:14,  1.47s/it, loss=1.895]\u001b[Atorch.Size([16, 256, 24, 30])\n",
            "torch.Size([16, 256, 24, 30])\n",
            "\n",
            "1/5 * Epoch (train):  57% 13/23 [00:20<00:14,  1.47s/it, loss=1.782]\u001b[A\n",
            "1/5 * Epoch (train):  61% 14/23 [00:20<00:13,  1.47s/it, loss=1.782]\u001b[Atorch.Size([16, 256, 24, 30])\n",
            "torch.Size([16, 256, 24, 30])\n",
            "\n",
            "1/5 * Epoch (train):  61% 14/23 [00:22<00:13,  1.47s/it, loss=1.753]\u001b[A\n",
            "1/5 * Epoch (train):  65% 15/23 [00:22<00:11,  1.47s/it, loss=1.753]\u001b[Atorch.Size([16, 256, 24, 30])\n",
            "torch.Size([16, 256, 24, 30])\n",
            "\n",
            "1/5 * Epoch (train):  65% 15/23 [00:23<00:11,  1.47s/it, loss=1.764]\u001b[A\n",
            "1/5 * Epoch (train):  70% 16/23 [00:23<00:10,  1.47s/it, loss=1.764]\u001b[Atorch.Size([16, 256, 24, 30])\n",
            "torch.Size([16, 256, 24, 30])\n",
            "\n",
            "1/5 * Epoch (train):  70% 16/23 [00:25<00:10,  1.47s/it, loss=1.672]\u001b[A\n",
            "1/5 * Epoch (train):  74% 17/23 [00:25<00:08,  1.46s/it, loss=1.672]\u001b[Atorch.Size([16, 256, 24, 30])\n",
            "torch.Size([16, 256, 24, 30])\n",
            "\n",
            "1/5 * Epoch (train):  74% 17/23 [00:26<00:08,  1.46s/it, loss=1.632]\u001b[A\n",
            "1/5 * Epoch (train):  78% 18/23 [00:26<00:07,  1.46s/it, loss=1.632]\u001b[Atorch.Size([16, 256, 24, 30])\n",
            "torch.Size([16, 256, 24, 30])\n",
            "\n",
            "1/5 * Epoch (train):  78% 18/23 [00:28<00:07,  1.46s/it, loss=1.652]\u001b[A\n",
            "1/5 * Epoch (train):  83% 19/23 [00:28<00:05,  1.46s/it, loss=1.652]\u001b[Atorch.Size([16, 256, 24, 30])\n",
            "torch.Size([16, 256, 24, 30])\n",
            "\n",
            "1/5 * Epoch (train):  83% 19/23 [00:29<00:05,  1.46s/it, loss=1.598]\u001b[A\n",
            "1/5 * Epoch (train):  87% 20/23 [00:29<00:04,  1.46s/it, loss=1.598]\u001b[Atorch.Size([16, 256, 24, 30])\n",
            "torch.Size([16, 256, 24, 30])\n",
            "\n",
            "1/5 * Epoch (train):  87% 20/23 [00:30<00:04,  1.46s/it, loss=1.671]\u001b[A\n",
            "1/5 * Epoch (train):  91% 21/23 [00:30<00:02,  1.46s/it, loss=1.671]\u001b[Atorch.Size([16, 256, 24, 30])\n",
            "torch.Size([16, 256, 24, 30])\n",
            "\n",
            "1/5 * Epoch (train):  91% 21/23 [00:32<00:02,  1.46s/it, loss=1.700]\u001b[A\n",
            "1/5 * Epoch (train):  96% 22/23 [00:32<00:01,  1.46s/it, loss=1.700]\u001b[Atorch.Size([15, 256, 24, 30])\n",
            "torch.Size([15, 256, 24, 30])\n",
            "\n",
            "1/5 * Epoch (train):  96% 22/23 [00:33<00:01,  1.46s/it, loss=1.519]\u001b[A\n",
            "1/5 * Epoch (train): 100% 23/23 [00:33<00:00,  1.45s/it, loss=1.519]\u001b[A\n",
            "1/5 * Epoch (train): 100% 23/23 [00:33<00:00,  1.47s/it, loss=1.519]\n",
            "\n",
            "1/5 * Epoch (valid):   0% 0/7 [00:00<?, ?it/s]\u001b[Atorch.Size([16, 256, 24, 30])\n",
            "torch.Size([16, 256, 24, 30])\n",
            "\n",
            "1/5 * Epoch (valid):   0% 0/7 [00:00<?, ?it/s, loss=2.865]\u001b[A\n",
            "1/5 * Epoch (valid):  14% 1/7 [00:00<00:03,  1.54it/s, loss=2.865]\u001b[Atorch.Size([16, 256, 24, 30])\n",
            "torch.Size([16, 256, 24, 30])\n",
            "\n",
            "1/5 * Epoch (valid):  14% 1/7 [00:01<00:03,  1.54it/s, loss=2.812]\u001b[A\n",
            "1/5 * Epoch (valid):  29% 2/7 [00:01<00:03,  1.54it/s, loss=2.812]\u001b[Atorch.Size([16, 256, 24, 30])\n",
            "torch.Size([16, 256, 24, 30])\n",
            "\n",
            "1/5 * Epoch (valid):  29% 2/7 [00:01<00:03,  1.54it/s, loss=2.932]\u001b[A\n",
            "1/5 * Epoch (valid):  43% 3/7 [00:01<00:02,  1.54it/s, loss=2.932]\u001b[Atorch.Size([16, 256, 24, 30])\n",
            "torch.Size([16, 256, 24, 30])\n",
            "\n",
            "1/5 * Epoch (valid):  43% 3/7 [00:02<00:02,  1.54it/s, loss=3.034]\u001b[A\n",
            "1/5 * Epoch (valid):  57% 4/7 [00:02<00:01,  1.54it/s, loss=3.034]\u001b[Atorch.Size([16, 256, 24, 30])\n",
            "torch.Size([16, 256, 24, 30])\n",
            "\n",
            "1/5 * Epoch (valid):  57% 4/7 [00:03<00:01,  1.54it/s, loss=3.109]\u001b[A\n",
            "1/5 * Epoch (valid):  71% 5/7 [00:03<00:01,  1.54it/s, loss=3.109]\u001b[Atorch.Size([16, 256, 24, 30])\n",
            "torch.Size([16, 256, 24, 30])\n",
            "\n",
            "1/5 * Epoch (valid):  71% 5/7 [00:03<00:01,  1.54it/s, loss=3.032]\u001b[A\n",
            "1/5 * Epoch (valid):  86% 6/7 [00:03<00:00,  1.55it/s, loss=3.032]\u001b[Atorch.Size([5, 256, 24, 30])\n",
            "torch.Size([5, 256, 24, 30])\n",
            "\n",
            "1/5 * Epoch (valid):  86% 6/7 [00:04<00:00,  1.55it/s, loss=2.833]\u001b[A\n",
            "1/5 * Epoch (valid): 100% 7/7 [00:04<00:00,  1.91it/s, loss=2.833]\u001b[A\n",
            "1/5 * Epoch (valid): 100% 7/7 [00:04<00:00,  1.70it/s, loss=2.833]\n",
            "[2020-06-13 17:05:18,277] \n",
            "1/5 * Epoch 1 (_base): lr=0.0010 | momentum=0.9000\n",
            "1/5 * Epoch 1 (train): loss=1.9444\n",
            "1/5 * Epoch 1 (valid): loss=2.9577\n",
            "[2020-06-13 17:05:18,277] \n",
            "1/5 * Epoch 1 (_base): lr=0.0010 | momentum=0.9000\n",
            "1/5 * Epoch 1 (train): loss=1.9444\n",
            "1/5 * Epoch 1 (valid): loss=2.9577\n",
            "\n",
            "2/5 * Epoch (train):   0% 0/23 [00:00<?, ?it/s]\u001b[Atorch.Size([16, 256, 24, 30])\n",
            "torch.Size([16, 256, 24, 30])\n",
            "\n",
            "2/5 * Epoch (train):   0% 0/23 [00:01<?, ?it/s, loss=1.575]\u001b[A\n",
            "2/5 * Epoch (train):   4% 1/23 [00:01<00:32,  1.46s/it, loss=1.575]\u001b[Atorch.Size([16, 256, 24, 30])\n",
            "torch.Size([16, 256, 24, 30])\n",
            "\n",
            "2/5 * Epoch (train):   4% 1/23 [00:02<00:32,  1.46s/it, loss=1.536]\u001b[A\n",
            "2/5 * Epoch (train):   9% 2/23 [00:02<00:30,  1.46s/it, loss=1.536]\u001b[Atorch.Size([16, 256, 24, 30])\n",
            "torch.Size([16, 256, 24, 30])\n",
            "\n",
            "2/5 * Epoch (train):   9% 2/23 [00:04<00:30,  1.46s/it, loss=1.541]\u001b[A\n",
            "2/5 * Epoch (train):  13% 3/23 [00:04<00:29,  1.46s/it, loss=1.541]\u001b[Atorch.Size([16, 256, 24, 30])\n",
            "torch.Size([16, 256, 24, 30])\n",
            "\n",
            "2/5 * Epoch (train):  13% 3/23 [00:05<00:29,  1.46s/it, loss=1.442]\u001b[A\n",
            "2/5 * Epoch (train):  17% 4/23 [00:05<00:27,  1.46s/it, loss=1.442]\u001b[Atorch.Size([16, 256, 24, 30])\n",
            "torch.Size([16, 256, 24, 30])\n",
            "\n",
            "2/5 * Epoch (train):  17% 4/23 [00:07<00:27,  1.46s/it, loss=1.465]\u001b[A\n",
            "2/5 * Epoch (train):  22% 5/23 [00:07<00:26,  1.46s/it, loss=1.465]\u001b[Atorch.Size([16, 256, 24, 30])\n",
            "torch.Size([16, 256, 24, 30])\n",
            "\n",
            "2/5 * Epoch (train):  22% 5/23 [00:08<00:26,  1.46s/it, loss=1.510]\u001b[A\n",
            "2/5 * Epoch (train):  26% 6/23 [00:08<00:24,  1.46s/it, loss=1.510]\u001b[Atorch.Size([16, 256, 24, 30])\n",
            "torch.Size([16, 256, 24, 30])\n",
            "\n",
            "2/5 * Epoch (train):  26% 6/23 [00:10<00:24,  1.46s/it, loss=1.437]\u001b[A\n",
            "2/5 * Epoch (train):  30% 7/23 [00:10<00:23,  1.46s/it, loss=1.437]\u001b[Atorch.Size([16, 256, 24, 30])\n",
            "torch.Size([16, 256, 24, 30])\n",
            "\n",
            "2/5 * Epoch (train):  30% 7/23 [00:11<00:23,  1.46s/it, loss=1.424]\u001b[A\n",
            "2/5 * Epoch (train):  35% 8/23 [00:11<00:21,  1.46s/it, loss=1.424]\u001b[Atorch.Size([16, 256, 24, 30])\n",
            "torch.Size([16, 256, 24, 30])\n",
            "\n",
            "2/5 * Epoch (train):  35% 8/23 [00:13<00:21,  1.46s/it, loss=1.364]\u001b[A\n",
            "2/5 * Epoch (train):  39% 9/23 [00:13<00:20,  1.46s/it, loss=1.364]\u001b[Atorch.Size([16, 256, 24, 30])\n",
            "torch.Size([16, 256, 24, 30])\n",
            "\n",
            "2/5 * Epoch (train):  39% 9/23 [00:14<00:20,  1.46s/it, loss=1.506]\u001b[A\n",
            "2/5 * Epoch (train):  43% 10/23 [00:14<00:19,  1.46s/it, loss=1.506]\u001b[Atorch.Size([16, 256, 24, 30])\n",
            "torch.Size([16, 256, 24, 30])\n",
            "\n",
            "2/5 * Epoch (train):  43% 10/23 [00:16<00:19,  1.46s/it, loss=1.380]\u001b[A\n",
            "2/5 * Epoch (train):  48% 11/23 [00:16<00:17,  1.46s/it, loss=1.380]\u001b[Atorch.Size([16, 256, 24, 30])\n",
            "torch.Size([16, 256, 24, 30])\n",
            "\n",
            "2/5 * Epoch (train):  48% 11/23 [00:17<00:17,  1.46s/it, loss=1.307]\u001b[A\n",
            "2/5 * Epoch (train):  52% 12/23 [00:17<00:16,  1.46s/it, loss=1.307]\u001b[Atorch.Size([16, 256, 24, 30])\n",
            "torch.Size([16, 256, 24, 30])\n",
            "\n",
            "2/5 * Epoch (train):  52% 12/23 [00:19<00:16,  1.46s/it, loss=1.400]\u001b[A\n",
            "2/5 * Epoch (train):  57% 13/23 [00:19<00:14,  1.47s/it, loss=1.400]\u001b[Atorch.Size([16, 256, 24, 30])\n",
            "torch.Size([16, 256, 24, 30])\n",
            "\n",
            "2/5 * Epoch (train):  57% 13/23 [00:20<00:14,  1.47s/it, loss=1.333]\u001b[A\n",
            "2/5 * Epoch (train):  61% 14/23 [00:20<00:13,  1.47s/it, loss=1.333]\u001b[Atorch.Size([16, 256, 24, 30])\n",
            "torch.Size([16, 256, 24, 30])\n",
            "\n",
            "2/5 * Epoch (train):  61% 14/23 [00:21<00:13,  1.47s/it, loss=1.373]\u001b[A\n",
            "2/5 * Epoch (train):  65% 15/23 [00:21<00:11,  1.47s/it, loss=1.373]\u001b[Atorch.Size([16, 256, 24, 30])\n",
            "torch.Size([16, 256, 24, 30])\n",
            "\n",
            "2/5 * Epoch (train):  65% 15/23 [00:23<00:11,  1.47s/it, loss=1.348]\u001b[A\n",
            "2/5 * Epoch (train):  70% 16/23 [00:23<00:10,  1.47s/it, loss=1.348]\u001b[Atorch.Size([16, 256, 24, 30])\n",
            "torch.Size([16, 256, 24, 30])\n",
            "\n",
            "2/5 * Epoch (train):  70% 16/23 [00:24<00:10,  1.47s/it, loss=1.249]\u001b[A\n",
            "2/5 * Epoch (train):  74% 17/23 [00:24<00:08,  1.46s/it, loss=1.249]\u001b[Atorch.Size([16, 256, 24, 30])\n",
            "torch.Size([16, 256, 24, 30])\n",
            "\n",
            "2/5 * Epoch (train):  74% 17/23 [00:26<00:08,  1.46s/it, loss=1.210]\u001b[A\n",
            "2/5 * Epoch (train):  78% 18/23 [00:26<00:07,  1.46s/it, loss=1.210]\u001b[Atorch.Size([16, 256, 24, 30])\n",
            "torch.Size([16, 256, 24, 30])\n",
            "\n",
            "2/5 * Epoch (train):  78% 18/23 [00:27<00:07,  1.46s/it, loss=1.188]\u001b[A\n",
            "2/5 * Epoch (train):  83% 19/23 [00:27<00:05,  1.46s/it, loss=1.188]\u001b[Atorch.Size([16, 256, 24, 30])\n",
            "torch.Size([16, 256, 24, 30])\n",
            "\n",
            "2/5 * Epoch (train):  83% 19/23 [00:29<00:05,  1.46s/it, loss=1.202]\u001b[A\n",
            "2/5 * Epoch (train):  87% 20/23 [00:29<00:04,  1.47s/it, loss=1.202]\u001b[Atorch.Size([16, 256, 24, 30])\n",
            "torch.Size([16, 256, 24, 30])\n",
            "\n",
            "2/5 * Epoch (train):  87% 20/23 [00:30<00:04,  1.47s/it, loss=1.266]\u001b[A\n",
            "2/5 * Epoch (train):  91% 21/23 [00:30<00:02,  1.47s/it, loss=1.266]\u001b[Atorch.Size([16, 256, 24, 30])\n",
            "torch.Size([16, 256, 24, 30])\n",
            "\n",
            "2/5 * Epoch (train):  91% 21/23 [00:32<00:02,  1.47s/it, loss=1.275]\u001b[A\n",
            "2/5 * Epoch (train):  96% 22/23 [00:32<00:01,  1.47s/it, loss=1.275]\u001b[Atorch.Size([15, 256, 24, 30])\n",
            "torch.Size([15, 256, 24, 30])\n",
            "\n",
            "2/5 * Epoch (train):  96% 22/23 [00:33<00:01,  1.47s/it, loss=1.155]\u001b[A\n",
            "2/5 * Epoch (train): 100% 23/23 [00:33<00:00,  1.45s/it, loss=1.155]\u001b[A\n",
            "2/5 * Epoch (train): 100% 23/23 [00:33<00:00,  1.46s/it, loss=1.155]\n",
            "\n",
            "2/5 * Epoch (valid):   0% 0/7 [00:00<?, ?it/s]\u001b[Atorch.Size([16, 256, 24, 30])\n",
            "torch.Size([16, 256, 24, 30])\n",
            "\n",
            "2/5 * Epoch (valid):   0% 0/7 [00:00<?, ?it/s, loss=1.369]\u001b[A\n",
            "2/5 * Epoch (valid):  14% 1/7 [00:00<00:03,  1.54it/s, loss=1.369]\u001b[Atorch.Size([16, 256, 24, 30])\n",
            "torch.Size([16, 256, 24, 30])\n",
            "\n",
            "2/5 * Epoch (valid):  14% 1/7 [00:01<00:03,  1.54it/s, loss=1.370]\u001b[A\n",
            "2/5 * Epoch (valid):  29% 2/7 [00:01<00:03,  1.54it/s, loss=1.370]\u001b[Atorch.Size([16, 256, 24, 30])\n",
            "torch.Size([16, 256, 24, 30])\n",
            "\n",
            "2/5 * Epoch (valid):  29% 2/7 [00:01<00:03,  1.54it/s, loss=1.373]\u001b[A\n",
            "2/5 * Epoch (valid):  43% 3/7 [00:01<00:02,  1.53it/s, loss=1.373]\u001b[Atorch.Size([16, 256, 24, 30])\n",
            "torch.Size([16, 256, 24, 30])\n",
            "\n",
            "2/5 * Epoch (valid):  43% 3/7 [00:02<00:02,  1.53it/s, loss=1.372]\u001b[A\n",
            "2/5 * Epoch (valid):  57% 4/7 [00:02<00:01,  1.54it/s, loss=1.372]\u001b[Atorch.Size([16, 256, 24, 30])\n",
            "torch.Size([16, 256, 24, 30])\n",
            "\n",
            "2/5 * Epoch (valid):  57% 4/7 [00:03<00:01,  1.54it/s, loss=1.397]\u001b[A\n",
            "2/5 * Epoch (valid):  71% 5/7 [00:03<00:01,  1.54it/s, loss=1.397]\u001b[Atorch.Size([16, 256, 24, 30])\n",
            "torch.Size([16, 256, 24, 30])\n",
            "\n",
            "2/5 * Epoch (valid):  71% 5/7 [00:03<00:01,  1.54it/s, loss=1.378]\u001b[A\n",
            "2/5 * Epoch (valid):  86% 6/7 [00:03<00:00,  1.54it/s, loss=1.378]\u001b[Atorch.Size([5, 256, 24, 30])\n",
            "torch.Size([5, 256, 24, 30])\n",
            "\n",
            "2/5 * Epoch (valid):  86% 6/7 [00:04<00:00,  1.54it/s, loss=1.394]\u001b[A\n",
            "2/5 * Epoch (valid): 100% 7/7 [00:04<00:00,  1.90it/s, loss=1.394]\u001b[A\n",
            "2/5 * Epoch (valid): 100% 7/7 [00:04<00:00,  1.68it/s, loss=1.394]\n",
            "[2020-06-13 17:05:56,082] \n",
            "2/5 * Epoch 2 (_base): lr=0.0010 | momentum=0.9000\n",
            "2/5 * Epoch 2 (train): loss=1.3696\n",
            "2/5 * Epoch 2 (valid): loss=1.3772\n",
            "[2020-06-13 17:05:56,082] \n",
            "2/5 * Epoch 2 (_base): lr=0.0010 | momentum=0.9000\n",
            "2/5 * Epoch 2 (train): loss=1.3696\n",
            "2/5 * Epoch 2 (valid): loss=1.3772\n",
            "\n",
            "3/5 * Epoch (train):   0% 0/23 [00:00<?, ?it/s]\u001b[Atorch.Size([16, 256, 24, 30])\n",
            "torch.Size([16, 256, 24, 30])\n",
            "\n",
            "3/5 * Epoch (train):   0% 0/23 [00:01<?, ?it/s, loss=1.197]\u001b[A\n",
            "3/5 * Epoch (train):   4% 1/23 [00:01<00:32,  1.46s/it, loss=1.197]\u001b[Atorch.Size([16, 256, 24, 30])\n",
            "torch.Size([16, 256, 24, 30])\n",
            "\n",
            "3/5 * Epoch (train):   4% 1/23 [00:02<00:32,  1.46s/it, loss=1.166]\u001b[A\n",
            "3/5 * Epoch (train):   9% 2/23 [00:02<00:30,  1.46s/it, loss=1.166]\u001b[Atorch.Size([16, 256, 24, 30])\n",
            "torch.Size([16, 256, 24, 30])\n",
            "\n",
            "3/5 * Epoch (train):   9% 2/23 [00:04<00:30,  1.46s/it, loss=1.195]\u001b[A\n",
            "3/5 * Epoch (train):  13% 3/23 [00:04<00:29,  1.47s/it, loss=1.195]\u001b[Atorch.Size([16, 256, 24, 30])\n",
            "torch.Size([16, 256, 24, 30])\n",
            "\n",
            "3/5 * Epoch (train):  13% 3/23 [00:05<00:29,  1.47s/it, loss=1.149]\u001b[A\n",
            "3/5 * Epoch (train):  17% 4/23 [00:05<00:27,  1.47s/it, loss=1.149]\u001b[Atorch.Size([16, 256, 24, 30])\n",
            "torch.Size([16, 256, 24, 30])\n",
            "\n",
            "3/5 * Epoch (train):  17% 4/23 [00:07<00:27,  1.47s/it, loss=1.171]\u001b[A\n",
            "3/5 * Epoch (train):  22% 5/23 [00:07<00:26,  1.47s/it, loss=1.171]\u001b[Atorch.Size([16, 256, 24, 30])\n",
            "torch.Size([16, 256, 24, 30])\n",
            "\n",
            "3/5 * Epoch (train):  22% 5/23 [00:08<00:26,  1.47s/it, loss=1.258]\u001b[A\n",
            "3/5 * Epoch (train):  26% 6/23 [00:08<00:24,  1.47s/it, loss=1.258]\u001b[Atorch.Size([16, 256, 24, 30])\n",
            "torch.Size([16, 256, 24, 30])\n",
            "\n",
            "3/5 * Epoch (train):  26% 6/23 [00:10<00:24,  1.47s/it, loss=1.146]\u001b[A\n",
            "3/5 * Epoch (train):  30% 7/23 [00:10<00:23,  1.47s/it, loss=1.146]\u001b[Atorch.Size([16, 256, 24, 30])\n",
            "torch.Size([16, 256, 24, 30])\n",
            "\n",
            "3/5 * Epoch (train):  30% 7/23 [00:11<00:23,  1.47s/it, loss=1.134]\u001b[A\n",
            "3/5 * Epoch (train):  35% 8/23 [00:11<00:21,  1.47s/it, loss=1.134]\u001b[Atorch.Size([16, 256, 24, 30])\n",
            "torch.Size([16, 256, 24, 30])\n",
            "\n",
            "3/5 * Epoch (train):  35% 8/23 [00:13<00:21,  1.47s/it, loss=1.132]\u001b[A\n",
            "3/5 * Epoch (train):  39% 9/23 [00:13<00:20,  1.47s/it, loss=1.132]\u001b[Atorch.Size([16, 256, 24, 30])\n",
            "torch.Size([16, 256, 24, 30])\n",
            "\n",
            "3/5 * Epoch (train):  39% 9/23 [00:14<00:20,  1.47s/it, loss=1.153]\u001b[A\n",
            "3/5 * Epoch (train):  43% 10/23 [00:14<00:19,  1.47s/it, loss=1.153]\u001b[Atorch.Size([16, 256, 24, 30])\n",
            "torch.Size([16, 256, 24, 30])\n",
            "\n",
            "3/5 * Epoch (train):  43% 10/23 [00:16<00:19,  1.47s/it, loss=1.070]\u001b[A\n",
            "3/5 * Epoch (train):  48% 11/23 [00:16<00:17,  1.47s/it, loss=1.070]\u001b[Atorch.Size([16, 256, 24, 30])\n",
            "torch.Size([16, 256, 24, 30])\n",
            "\n",
            "3/5 * Epoch (train):  48% 11/23 [00:17<00:17,  1.47s/it, loss=1.085]\u001b[A\n",
            "3/5 * Epoch (train):  52% 12/23 [00:17<00:16,  1.47s/it, loss=1.085]\u001b[Atorch.Size([16, 256, 24, 30])\n",
            "torch.Size([16, 256, 24, 30])\n",
            "\n",
            "3/5 * Epoch (train):  52% 12/23 [00:19<00:16,  1.47s/it, loss=1.126]\u001b[A\n",
            "3/5 * Epoch (train):  57% 13/23 [00:19<00:14,  1.47s/it, loss=1.126]\u001b[Atorch.Size([16, 256, 24, 30])\n",
            "torch.Size([16, 256, 24, 30])\n",
            "\n",
            "3/5 * Epoch (train):  57% 13/23 [00:20<00:14,  1.47s/it, loss=1.018]\u001b[A\n",
            "3/5 * Epoch (train):  61% 14/23 [00:20<00:13,  1.47s/it, loss=1.018]\u001b[Atorch.Size([16, 256, 24, 30])\n",
            "torch.Size([16, 256, 24, 30])\n",
            "\n",
            "3/5 * Epoch (train):  61% 14/23 [00:22<00:13,  1.47s/it, loss=1.092]\u001b[A\n",
            "3/5 * Epoch (train):  65% 15/23 [00:22<00:11,  1.47s/it, loss=1.092]\u001b[Atorch.Size([16, 256, 24, 30])\n",
            "torch.Size([16, 256, 24, 30])\n",
            "\n",
            "3/5 * Epoch (train):  65% 15/23 [00:23<00:11,  1.47s/it, loss=1.042]\u001b[A\n",
            "3/5 * Epoch (train):  70% 16/23 [00:23<00:10,  1.47s/it, loss=1.042]\u001b[Atorch.Size([16, 256, 24, 30])\n",
            "torch.Size([16, 256, 24, 30])\n",
            "\n",
            "3/5 * Epoch (train):  70% 16/23 [00:24<00:10,  1.47s/it, loss=0.990]\u001b[A\n",
            "3/5 * Epoch (train):  74% 17/23 [00:24<00:08,  1.47s/it, loss=0.990]\u001b[Atorch.Size([16, 256, 24, 30])\n",
            "torch.Size([16, 256, 24, 30])\n",
            "\n",
            "3/5 * Epoch (train):  74% 17/23 [00:26<00:08,  1.47s/it, loss=0.947]\u001b[A\n",
            "3/5 * Epoch (train):  78% 18/23 [00:26<00:07,  1.47s/it, loss=0.947]\u001b[Atorch.Size([16, 256, 24, 30])\n",
            "torch.Size([16, 256, 24, 30])\n",
            "\n",
            "3/5 * Epoch (train):  78% 18/23 [00:27<00:07,  1.47s/it, loss=0.916]\u001b[A\n",
            "3/5 * Epoch (train):  83% 19/23 [00:27<00:05,  1.47s/it, loss=0.916]\u001b[Atorch.Size([16, 256, 24, 30])\n",
            "torch.Size([16, 256, 24, 30])\n",
            "\n",
            "3/5 * Epoch (train):  83% 19/23 [00:29<00:05,  1.47s/it, loss=0.925]\u001b[A\n",
            "3/5 * Epoch (train):  87% 20/23 [00:29<00:04,  1.47s/it, loss=0.925]\u001b[Atorch.Size([16, 256, 24, 30])\n",
            "torch.Size([16, 256, 24, 30])\n",
            "\n",
            "3/5 * Epoch (train):  87% 20/23 [00:30<00:04,  1.47s/it, loss=1.050]\u001b[A\n",
            "3/5 * Epoch (train):  91% 21/23 [00:30<00:02,  1.47s/it, loss=1.050]\u001b[Atorch.Size([16, 256, 24, 30])\n",
            "torch.Size([16, 256, 24, 30])\n",
            "\n",
            "3/5 * Epoch (train):  91% 21/23 [00:32<00:02,  1.47s/it, loss=1.011]\u001b[A\n",
            "3/5 * Epoch (train):  96% 22/23 [00:32<00:01,  1.47s/it, loss=1.011]\u001b[Atorch.Size([15, 256, 24, 30])\n",
            "torch.Size([15, 256, 24, 30])\n",
            "\n",
            "3/5 * Epoch (train):  96% 22/23 [00:33<00:01,  1.47s/it, loss=0.896]\u001b[A\n",
            "3/5 * Epoch (train): 100% 23/23 [00:33<00:00,  1.45s/it, loss=0.896]\u001b[A\n",
            "3/5 * Epoch (train): 100% 23/23 [00:33<00:00,  1.47s/it, loss=0.896]\n",
            "\n",
            "3/5 * Epoch (valid):   0% 0/7 [00:00<?, ?it/s]\u001b[Atorch.Size([16, 256, 24, 30])\n",
            "torch.Size([16, 256, 24, 30])\n",
            "\n",
            "3/5 * Epoch (valid):   0% 0/7 [00:00<?, ?it/s, loss=1.109]\u001b[A\n",
            "3/5 * Epoch (valid):  14% 1/7 [00:00<00:03,  1.54it/s, loss=1.109]\u001b[Atorch.Size([16, 256, 24, 30])\n",
            "torch.Size([16, 256, 24, 30])\n",
            "\n",
            "3/5 * Epoch (valid):  14% 1/7 [00:01<00:03,  1.54it/s, loss=1.129]\u001b[A\n",
            "3/5 * Epoch (valid):  29% 2/7 [00:01<00:03,  1.54it/s, loss=1.129]\u001b[Atorch.Size([16, 256, 24, 30])\n",
            "torch.Size([16, 256, 24, 30])\n",
            "\n",
            "3/5 * Epoch (valid):  29% 2/7 [00:01<00:03,  1.54it/s, loss=1.115]\u001b[A\n",
            "3/5 * Epoch (valid):  43% 3/7 [00:01<00:02,  1.54it/s, loss=1.115]\u001b[Atorch.Size([16, 256, 24, 30])\n",
            "torch.Size([16, 256, 24, 30])\n",
            "\n",
            "3/5 * Epoch (valid):  43% 3/7 [00:02<00:02,  1.54it/s, loss=1.115]\u001b[A\n",
            "3/5 * Epoch (valid):  57% 4/7 [00:02<00:01,  1.53it/s, loss=1.115]\u001b[Atorch.Size([16, 256, 24, 30])\n",
            "torch.Size([16, 256, 24, 30])\n",
            "\n",
            "3/5 * Epoch (valid):  57% 4/7 [00:03<00:01,  1.53it/s, loss=1.134]\u001b[A\n",
            "3/5 * Epoch (valid):  71% 5/7 [00:03<00:01,  1.53it/s, loss=1.134]\u001b[Atorch.Size([16, 256, 24, 30])\n",
            "torch.Size([16, 256, 24, 30])\n",
            "\n",
            "3/5 * Epoch (valid):  71% 5/7 [00:03<00:01,  1.53it/s, loss=1.102]\u001b[A\n",
            "3/5 * Epoch (valid):  86% 6/7 [00:03<00:00,  1.53it/s, loss=1.102]\u001b[Atorch.Size([5, 256, 24, 30])\n",
            "torch.Size([5, 256, 24, 30])\n",
            "\n",
            "3/5 * Epoch (valid):  86% 6/7 [00:04<00:00,  1.53it/s, loss=1.158]\u001b[A\n",
            "3/5 * Epoch (valid): 100% 7/7 [00:04<00:00,  1.89it/s, loss=1.158]\u001b[A\n",
            "3/5 * Epoch (valid): 100% 7/7 [00:04<00:00,  1.68it/s, loss=1.158]\n",
            "[2020-06-13 17:06:34,011] \n",
            "3/5 * Epoch 3 (_base): lr=0.0010 | momentum=0.9000\n",
            "3/5 * Epoch 3 (train): loss=1.0817\n",
            "3/5 * Epoch 3 (valid): loss=1.1193\n",
            "[2020-06-13 17:06:34,011] \n",
            "3/5 * Epoch 3 (_base): lr=0.0010 | momentum=0.9000\n",
            "3/5 * Epoch 3 (train): loss=1.0817\n",
            "3/5 * Epoch 3 (valid): loss=1.1193\n",
            "\n",
            "4/5 * Epoch (train):   0% 0/23 [00:00<?, ?it/s]\u001b[Atorch.Size([16, 256, 24, 30])\n",
            "torch.Size([16, 256, 24, 30])\n",
            "\n",
            "4/5 * Epoch (train):   0% 0/23 [00:01<?, ?it/s, loss=0.915]\u001b[A\n",
            "4/5 * Epoch (train):   4% 1/23 [00:01<00:32,  1.47s/it, loss=0.915]\u001b[Atorch.Size([16, 256, 24, 30])\n",
            "torch.Size([16, 256, 24, 30])\n",
            "\n",
            "4/5 * Epoch (train):   4% 1/23 [00:02<00:32,  1.47s/it, loss=0.891]\u001b[A\n",
            "4/5 * Epoch (train):   9% 2/23 [00:02<00:30,  1.47s/it, loss=0.891]\u001b[Atorch.Size([16, 256, 24, 30])\n",
            "torch.Size([16, 256, 24, 30])\n",
            "\n",
            "4/5 * Epoch (train):   9% 2/23 [00:04<00:30,  1.47s/it, loss=0.942]\u001b[A\n",
            "4/5 * Epoch (train):  13% 3/23 [00:04<00:29,  1.47s/it, loss=0.942]\u001b[Atorch.Size([16, 256, 24, 30])\n",
            "torch.Size([16, 256, 24, 30])\n",
            "\n",
            "4/5 * Epoch (train):  13% 3/23 [00:05<00:29,  1.47s/it, loss=0.834]\u001b[A\n",
            "4/5 * Epoch (train):  17% 4/23 [00:05<00:27,  1.47s/it, loss=0.834]\u001b[Atorch.Size([16, 256, 24, 30])\n",
            "torch.Size([16, 256, 24, 30])\n",
            "\n",
            "4/5 * Epoch (train):  17% 4/23 [00:07<00:27,  1.47s/it, loss=0.866]\u001b[A\n",
            "4/5 * Epoch (train):  22% 5/23 [00:07<00:26,  1.47s/it, loss=0.866]\u001b[Atorch.Size([16, 256, 24, 30])\n",
            "torch.Size([16, 256, 24, 30])\n",
            "\n",
            "4/5 * Epoch (train):  22% 5/23 [00:08<00:26,  1.47s/it, loss=0.929]\u001b[A\n",
            "4/5 * Epoch (train):  26% 6/23 [00:08<00:25,  1.47s/it, loss=0.929]\u001b[Atorch.Size([16, 256, 24, 30])\n",
            "torch.Size([16, 256, 24, 30])\n",
            "\n",
            "4/5 * Epoch (train):  26% 6/23 [00:10<00:25,  1.47s/it, loss=0.827]\u001b[A\n",
            "4/5 * Epoch (train):  30% 7/23 [00:10<00:23,  1.48s/it, loss=0.827]\u001b[Atorch.Size([16, 256, 24, 30])\n",
            "torch.Size([16, 256, 24, 30])\n",
            "\n",
            "4/5 * Epoch (train):  30% 7/23 [00:11<00:23,  1.48s/it, loss=0.838]\u001b[A\n",
            "4/5 * Epoch (train):  35% 8/23 [00:11<00:22,  1.47s/it, loss=0.838]\u001b[Atorch.Size([16, 256, 24, 30])\n",
            "torch.Size([16, 256, 24, 30])\n",
            "\n",
            "4/5 * Epoch (train):  35% 8/23 [00:13<00:22,  1.47s/it, loss=0.821]\u001b[A\n",
            "4/5 * Epoch (train):  39% 9/23 [00:13<00:20,  1.47s/it, loss=0.821]\u001b[Atorch.Size([16, 256, 24, 30])\n",
            "torch.Size([16, 256, 24, 30])\n",
            "\n",
            "4/5 * Epoch (train):  39% 9/23 [00:14<00:20,  1.47s/it, loss=0.911]\u001b[A\n",
            "4/5 * Epoch (train):  43% 10/23 [00:14<00:19,  1.47s/it, loss=0.911]\u001b[Atorch.Size([16, 256, 24, 30])\n",
            "torch.Size([16, 256, 24, 30])\n",
            "\n",
            "4/5 * Epoch (train):  43% 10/23 [00:16<00:19,  1.47s/it, loss=0.787]\u001b[A\n",
            "4/5 * Epoch (train):  48% 11/23 [00:16<00:17,  1.47s/it, loss=0.787]\u001b[Atorch.Size([16, 256, 24, 30])\n",
            "torch.Size([16, 256, 24, 30])\n",
            "\n",
            "4/5 * Epoch (train):  48% 11/23 [00:17<00:17,  1.47s/it, loss=0.783]\u001b[A\n",
            "4/5 * Epoch (train):  52% 12/23 [00:17<00:16,  1.47s/it, loss=0.783]\u001b[Atorch.Size([16, 256, 24, 30])\n",
            "torch.Size([16, 256, 24, 30])\n",
            "\n",
            "4/5 * Epoch (train):  52% 12/23 [00:19<00:16,  1.47s/it, loss=0.811]\u001b[A\n",
            "4/5 * Epoch (train):  57% 13/23 [00:19<00:14,  1.47s/it, loss=0.811]\u001b[Atorch.Size([16, 256, 24, 30])\n",
            "torch.Size([16, 256, 24, 30])\n",
            "\n",
            "4/5 * Epoch (train):  57% 13/23 [00:20<00:14,  1.47s/it, loss=0.735]\u001b[A\n",
            "4/5 * Epoch (train):  61% 14/23 [00:20<00:13,  1.47s/it, loss=0.735]\u001b[Atorch.Size([16, 256, 24, 30])\n",
            "torch.Size([16, 256, 24, 30])\n",
            "\n",
            "4/5 * Epoch (train):  61% 14/23 [00:22<00:13,  1.47s/it, loss=0.823]\u001b[A\n",
            "4/5 * Epoch (train):  65% 15/23 [00:22<00:11,  1.47s/it, loss=0.823]\u001b[Atorch.Size([16, 256, 24, 30])\n",
            "torch.Size([16, 256, 24, 30])\n",
            "\n",
            "4/5 * Epoch (train):  65% 15/23 [00:23<00:11,  1.47s/it, loss=0.770]\u001b[A\n",
            "4/5 * Epoch (train):  70% 16/23 [00:23<00:10,  1.47s/it, loss=0.770]\u001b[Atorch.Size([16, 256, 24, 30])\n",
            "torch.Size([16, 256, 24, 30])\n",
            "\n",
            "4/5 * Epoch (train):  70% 16/23 [00:25<00:10,  1.47s/it, loss=0.703]\u001b[A\n",
            "4/5 * Epoch (train):  74% 17/23 [00:25<00:08,  1.47s/it, loss=0.703]\u001b[Atorch.Size([16, 256, 24, 30])\n",
            "torch.Size([16, 256, 24, 30])\n",
            "\n",
            "4/5 * Epoch (train):  74% 17/23 [00:26<00:08,  1.47s/it, loss=0.689]\u001b[A\n",
            "4/5 * Epoch (train):  78% 18/23 [00:26<00:07,  1.47s/it, loss=0.689]\u001b[Atorch.Size([16, 256, 24, 30])\n",
            "torch.Size([16, 256, 24, 30])\n",
            "\n",
            "4/5 * Epoch (train):  78% 18/23 [00:27<00:07,  1.47s/it, loss=0.698]\u001b[A\n",
            "4/5 * Epoch (train):  83% 19/23 [00:27<00:05,  1.47s/it, loss=0.698]\u001b[Atorch.Size([16, 256, 24, 30])\n",
            "torch.Size([16, 256, 24, 30])\n",
            "\n",
            "4/5 * Epoch (train):  83% 19/23 [00:29<00:05,  1.47s/it, loss=0.682]\u001b[A\n",
            "4/5 * Epoch (train):  87% 20/23 [00:29<00:04,  1.47s/it, loss=0.682]\u001b[Atorch.Size([16, 256, 24, 30])\n",
            "torch.Size([16, 256, 24, 30])\n",
            "\n",
            "4/5 * Epoch (train):  87% 20/23 [00:30<00:04,  1.47s/it, loss=0.753]\u001b[A\n",
            "4/5 * Epoch (train):  91% 21/23 [00:30<00:02,  1.47s/it, loss=0.753]\u001b[Atorch.Size([16, 256, 24, 30])\n",
            "torch.Size([16, 256, 24, 30])\n",
            "\n",
            "4/5 * Epoch (train):  91% 21/23 [00:32<00:02,  1.47s/it, loss=0.793]\u001b[A\n",
            "4/5 * Epoch (train):  96% 22/23 [00:32<00:01,  1.47s/it, loss=0.793]\u001b[Atorch.Size([15, 256, 24, 30])\n",
            "torch.Size([15, 256, 24, 30])\n",
            "\n",
            "4/5 * Epoch (train):  96% 22/23 [00:33<00:01,  1.47s/it, loss=0.662]\u001b[A\n",
            "4/5 * Epoch (train): 100% 23/23 [00:33<00:00,  1.45s/it, loss=0.662]\u001b[A\n",
            "4/5 * Epoch (train): 100% 23/23 [00:33<00:00,  1.47s/it, loss=0.662]\n",
            "\n",
            "4/5 * Epoch (valid):   0% 0/7 [00:00<?, ?it/s]\u001b[Atorch.Size([16, 256, 24, 30])\n",
            "torch.Size([16, 256, 24, 30])\n",
            "\n",
            "4/5 * Epoch (valid):   0% 0/7 [00:00<?, ?it/s, loss=0.986]\u001b[A\n",
            "4/5 * Epoch (valid):  14% 1/7 [00:00<00:03,  1.52it/s, loss=0.986]\u001b[Atorch.Size([16, 256, 24, 30])\n",
            "torch.Size([16, 256, 24, 30])\n",
            "\n",
            "4/5 * Epoch (valid):  14% 1/7 [00:01<00:03,  1.52it/s, loss=1.011]\u001b[A\n",
            "4/5 * Epoch (valid):  29% 2/7 [00:01<00:03,  1.53it/s, loss=1.011]\u001b[Atorch.Size([16, 256, 24, 30])\n",
            "torch.Size([16, 256, 24, 30])\n",
            "\n",
            "4/5 * Epoch (valid):  29% 2/7 [00:01<00:03,  1.53it/s, loss=0.993]\u001b[A\n",
            "4/5 * Epoch (valid):  43% 3/7 [00:01<00:02,  1.54it/s, loss=0.993]\u001b[Atorch.Size([16, 256, 24, 30])\n",
            "torch.Size([16, 256, 24, 30])\n",
            "\n",
            "4/5 * Epoch (valid):  43% 3/7 [00:02<00:02,  1.54it/s, loss=1.003]\u001b[A\n",
            "4/5 * Epoch (valid):  57% 4/7 [00:02<00:01,  1.54it/s, loss=1.003]\u001b[Atorch.Size([16, 256, 24, 30])\n",
            "torch.Size([16, 256, 24, 30])\n",
            "\n",
            "4/5 * Epoch (valid):  57% 4/7 [00:03<00:01,  1.54it/s, loss=1.014]\u001b[A\n",
            "4/5 * Epoch (valid):  71% 5/7 [00:03<00:01,  1.54it/s, loss=1.014]\u001b[Atorch.Size([16, 256, 24, 30])\n",
            "torch.Size([16, 256, 24, 30])\n",
            "\n",
            "4/5 * Epoch (valid):  71% 5/7 [00:03<00:01,  1.54it/s, loss=0.969]\u001b[A\n",
            "4/5 * Epoch (valid):  86% 6/7 [00:03<00:00,  1.53it/s, loss=0.969]\u001b[Atorch.Size([5, 256, 24, 30])\n",
            "torch.Size([5, 256, 24, 30])\n",
            "\n",
            "4/5 * Epoch (valid):  86% 6/7 [00:04<00:00,  1.53it/s, loss=1.071]\u001b[A\n",
            "4/5 * Epoch (valid): 100% 7/7 [00:04<00:00,  1.88it/s, loss=1.071]\u001b[A\n",
            "4/5 * Epoch (valid): 100% 7/7 [00:04<00:00,  1.68it/s, loss=1.071]\n",
            "[2020-06-13 17:07:11,940] \n",
            "4/5 * Epoch 4 (_base): lr=0.0010 | momentum=0.9000\n",
            "4/5 * Epoch 4 (train): loss=0.8031\n",
            "4/5 * Epoch 4 (valid): loss=0.9997\n",
            "[2020-06-13 17:07:11,940] \n",
            "4/5 * Epoch 4 (_base): lr=0.0010 | momentum=0.9000\n",
            "4/5 * Epoch 4 (train): loss=0.8031\n",
            "4/5 * Epoch 4 (valid): loss=0.9997\n",
            "\n",
            "5/5 * Epoch (train):   0% 0/23 [00:00<?, ?it/s]\u001b[Atorch.Size([16, 256, 24, 30])\n",
            "torch.Size([16, 256, 24, 30])\n",
            "\n",
            "5/5 * Epoch (train):   0% 0/23 [00:01<?, ?it/s, loss=0.682]\u001b[A\n",
            "5/5 * Epoch (train):   4% 1/23 [00:01<00:32,  1.48s/it, loss=0.682]\u001b[Atorch.Size([16, 256, 24, 30])\n",
            "torch.Size([16, 256, 24, 30])\n",
            "\n",
            "5/5 * Epoch (train):   4% 1/23 [00:02<00:32,  1.48s/it, loss=0.714]\u001b[A\n",
            "5/5 * Epoch (train):   9% 2/23 [00:02<00:31,  1.48s/it, loss=0.714]\u001b[Atorch.Size([16, 256, 24, 30])\n",
            "torch.Size([16, 256, 24, 30])\n",
            "\n",
            "5/5 * Epoch (train):   9% 2/23 [00:04<00:31,  1.48s/it, loss=0.703]\u001b[A\n",
            "5/5 * Epoch (train):  13% 3/23 [00:04<00:29,  1.48s/it, loss=0.703]\u001b[Atorch.Size([16, 256, 24, 30])\n",
            "torch.Size([16, 256, 24, 30])\n",
            "\n",
            "5/5 * Epoch (train):  13% 3/23 [00:05<00:29,  1.48s/it, loss=0.669]\u001b[A\n",
            "5/5 * Epoch (train):  17% 4/23 [00:05<00:28,  1.48s/it, loss=0.669]\u001b[Atorch.Size([16, 256, 24, 30])\n",
            "torch.Size([16, 256, 24, 30])\n",
            "\n",
            "5/5 * Epoch (train):  17% 4/23 [00:07<00:28,  1.48s/it, loss=0.662]\u001b[A\n",
            "5/5 * Epoch (train):  22% 5/23 [00:07<00:26,  1.47s/it, loss=0.662]\u001b[Atorch.Size([16, 256, 24, 30])\n",
            "torch.Size([16, 256, 24, 30])\n",
            "\n",
            "5/5 * Epoch (train):  22% 5/23 [00:08<00:26,  1.47s/it, loss=0.729]\u001b[A\n",
            "5/5 * Epoch (train):  26% 6/23 [00:08<00:25,  1.47s/it, loss=0.729]\u001b[Atorch.Size([16, 256, 24, 30])\n",
            "torch.Size([16, 256, 24, 30])\n",
            "\n",
            "5/5 * Epoch (train):  26% 6/23 [00:10<00:25,  1.47s/it, loss=0.673]\u001b[A\n",
            "5/5 * Epoch (train):  30% 7/23 [00:10<00:23,  1.47s/it, loss=0.673]\u001b[Atorch.Size([16, 256, 24, 30])\n",
            "torch.Size([16, 256, 24, 30])\n",
            "\n",
            "5/5 * Epoch (train):  30% 7/23 [00:11<00:23,  1.47s/it, loss=0.681]\u001b[A\n",
            "5/5 * Epoch (train):  35% 8/23 [00:11<00:22,  1.47s/it, loss=0.681]\u001b[Atorch.Size([16, 256, 24, 30])\n",
            "torch.Size([16, 256, 24, 30])\n",
            "\n",
            "5/5 * Epoch (train):  35% 8/23 [00:13<00:22,  1.47s/it, loss=0.664]\u001b[A\n",
            "5/5 * Epoch (train):  39% 9/23 [00:13<00:20,  1.47s/it, loss=0.664]\u001b[Atorch.Size([16, 256, 24, 30])\n",
            "torch.Size([16, 256, 24, 30])\n",
            "\n",
            "5/5 * Epoch (train):  39% 9/23 [00:14<00:20,  1.47s/it, loss=0.743]\u001b[A\n",
            "5/5 * Epoch (train):  43% 10/23 [00:14<00:19,  1.47s/it, loss=0.743]\u001b[Atorch.Size([16, 256, 24, 30])\n",
            "torch.Size([16, 256, 24, 30])\n",
            "\n",
            "5/5 * Epoch (train):  43% 10/23 [00:16<00:19,  1.47s/it, loss=0.636]\u001b[A\n",
            "5/5 * Epoch (train):  48% 11/23 [00:16<00:17,  1.47s/it, loss=0.636]\u001b[Atorch.Size([16, 256, 24, 30])\n",
            "torch.Size([16, 256, 24, 30])\n",
            "\n",
            "5/5 * Epoch (train):  48% 11/23 [00:17<00:17,  1.47s/it, loss=0.674]\u001b[A\n",
            "5/5 * Epoch (train):  52% 12/23 [00:17<00:16,  1.47s/it, loss=0.674]\u001b[Atorch.Size([16, 256, 24, 30])\n",
            "torch.Size([16, 256, 24, 30])\n",
            "\n",
            "5/5 * Epoch (train):  52% 12/23 [00:19<00:16,  1.47s/it, loss=0.641]\u001b[A\n",
            "5/5 * Epoch (train):  57% 13/23 [00:19<00:14,  1.47s/it, loss=0.641]\u001b[Atorch.Size([16, 256, 24, 30])\n",
            "torch.Size([16, 256, 24, 30])\n",
            "\n",
            "5/5 * Epoch (train):  57% 13/23 [00:20<00:14,  1.47s/it, loss=0.628]\u001b[A\n",
            "5/5 * Epoch (train):  61% 14/23 [00:20<00:13,  1.47s/it, loss=0.628]\u001b[Atorch.Size([16, 256, 24, 30])\n",
            "torch.Size([16, 256, 24, 30])\n",
            "\n",
            "5/5 * Epoch (train):  61% 14/23 [00:22<00:13,  1.47s/it, loss=0.704]\u001b[A\n",
            "5/5 * Epoch (train):  65% 15/23 [00:22<00:11,  1.47s/it, loss=0.704]\u001b[Atorch.Size([16, 256, 24, 30])\n",
            "torch.Size([16, 256, 24, 30])\n",
            "\n",
            "5/5 * Epoch (train):  65% 15/23 [00:23<00:11,  1.47s/it, loss=0.659]\u001b[A\n",
            "5/5 * Epoch (train):  70% 16/23 [00:23<00:10,  1.47s/it, loss=0.659]\u001b[Atorch.Size([16, 256, 24, 30])\n",
            "torch.Size([16, 256, 24, 30])\n",
            "\n",
            "5/5 * Epoch (train):  70% 16/23 [00:25<00:10,  1.47s/it, loss=0.595]\u001b[A\n",
            "5/5 * Epoch (train):  74% 17/23 [00:25<00:08,  1.47s/it, loss=0.595]\u001b[Atorch.Size([16, 256, 24, 30])\n",
            "torch.Size([16, 256, 24, 30])\n",
            "\n",
            "5/5 * Epoch (train):  74% 17/23 [00:26<00:08,  1.47s/it, loss=0.584]\u001b[A\n",
            "5/5 * Epoch (train):  78% 18/23 [00:26<00:07,  1.47s/it, loss=0.584]\u001b[Atorch.Size([16, 256, 24, 30])\n",
            "torch.Size([16, 256, 24, 30])\n",
            "\n",
            "5/5 * Epoch (train):  78% 18/23 [00:27<00:07,  1.47s/it, loss=0.598]\u001b[A\n",
            "5/5 * Epoch (train):  83% 19/23 [00:27<00:05,  1.46s/it, loss=0.598]\u001b[Atorch.Size([16, 256, 24, 30])\n",
            "torch.Size([16, 256, 24, 30])\n",
            "\n",
            "5/5 * Epoch (train):  83% 19/23 [00:29<00:05,  1.46s/it, loss=0.590]\u001b[A\n",
            "5/5 * Epoch (train):  87% 20/23 [00:29<00:04,  1.47s/it, loss=0.590]\u001b[Atorch.Size([16, 256, 24, 30])\n",
            "torch.Size([16, 256, 24, 30])\n",
            "\n",
            "5/5 * Epoch (train):  87% 20/23 [00:30<00:04,  1.47s/it, loss=0.630]\u001b[A\n",
            "5/5 * Epoch (train):  91% 21/23 [00:30<00:02,  1.47s/it, loss=0.630]\u001b[Atorch.Size([16, 256, 24, 30])\n",
            "torch.Size([16, 256, 24, 30])\n",
            "\n",
            "5/5 * Epoch (train):  91% 21/23 [00:32<00:02,  1.47s/it, loss=0.682]\u001b[A\n",
            "5/5 * Epoch (train):  96% 22/23 [00:32<00:01,  1.47s/it, loss=0.682]\u001b[Atorch.Size([15, 256, 24, 30])\n",
            "torch.Size([15, 256, 24, 30])\n",
            "\n",
            "5/5 * Epoch (train):  96% 22/23 [00:33<00:01,  1.47s/it, loss=0.549]\u001b[A\n",
            "5/5 * Epoch (train): 100% 23/23 [00:33<00:00,  1.45s/it, loss=0.549]\u001b[A\n",
            "5/5 * Epoch (train): 100% 23/23 [00:33<00:00,  1.47s/it, loss=0.549]\n",
            "\n",
            "5/5 * Epoch (valid):   0% 0/7 [00:00<?, ?it/s]\u001b[Atorch.Size([16, 256, 24, 30])\n",
            "torch.Size([16, 256, 24, 30])\n",
            "\n",
            "5/5 * Epoch (valid):   0% 0/7 [00:00<?, ?it/s, loss=0.829]\u001b[A\n",
            "5/5 * Epoch (valid):  14% 1/7 [00:00<00:03,  1.55it/s, loss=0.829]\u001b[Atorch.Size([16, 256, 24, 30])\n",
            "torch.Size([16, 256, 24, 30])\n",
            "\n",
            "5/5 * Epoch (valid):  14% 1/7 [00:01<00:03,  1.55it/s, loss=0.864]\u001b[A\n",
            "5/5 * Epoch (valid):  29% 2/7 [00:01<00:03,  1.55it/s, loss=0.864]\u001b[Atorch.Size([16, 256, 24, 30])\n",
            "torch.Size([16, 256, 24, 30])\n",
            "\n",
            "5/5 * Epoch (valid):  29% 2/7 [00:01<00:03,  1.55it/s, loss=0.852]\u001b[A\n",
            "5/5 * Epoch (valid):  43% 3/7 [00:01<00:02,  1.54it/s, loss=0.852]\u001b[Atorch.Size([16, 256, 24, 30])\n",
            "torch.Size([16, 256, 24, 30])\n",
            "\n",
            "5/5 * Epoch (valid):  43% 3/7 [00:02<00:02,  1.54it/s, loss=0.908]\u001b[A\n",
            "5/5 * Epoch (valid):  57% 4/7 [00:02<00:01,  1.53it/s, loss=0.908]\u001b[Atorch.Size([16, 256, 24, 30])\n",
            "torch.Size([16, 256, 24, 30])\n",
            "\n",
            "5/5 * Epoch (valid):  57% 4/7 [00:03<00:01,  1.53it/s, loss=0.855]\u001b[A\n",
            "5/5 * Epoch (valid):  71% 5/7 [00:03<00:01,  1.54it/s, loss=0.855]\u001b[Atorch.Size([16, 256, 24, 30])\n",
            "torch.Size([16, 256, 24, 30])\n",
            "\n",
            "5/5 * Epoch (valid):  71% 5/7 [00:03<00:01,  1.54it/s, loss=0.882]\u001b[A\n",
            "5/5 * Epoch (valid):  86% 6/7 [00:03<00:00,  1.54it/s, loss=0.882]\u001b[Atorch.Size([5, 256, 24, 30])\n",
            "torch.Size([5, 256, 24, 30])\n",
            "\n",
            "5/5 * Epoch (valid):  86% 6/7 [00:04<00:00,  1.54it/s, loss=0.887]\u001b[A\n",
            "5/5 * Epoch (valid): 100% 7/7 [00:04<00:00,  1.90it/s, loss=0.887]\u001b[A\n",
            "5/5 * Epoch (valid): 100% 7/7 [00:04<00:00,  1.69it/s, loss=0.887]\n",
            "[2020-06-13 17:07:49,872] \n",
            "5/5 * Epoch 5 (_base): lr=0.0010 | momentum=0.9000\n",
            "5/5 * Epoch 5 (train): loss=0.6563\n",
            "5/5 * Epoch 5 (valid): loss=0.8660\n",
            "[2020-06-13 17:07:49,872] \n",
            "5/5 * Epoch 5 (_base): lr=0.0010 | momentum=0.9000\n",
            "5/5 * Epoch 5 (train): loss=0.6563\n",
            "5/5 * Epoch 5 (valid): loss=0.8660\n"
          ],
          "name": "stdout"
        }
      ]
    }
  ]
}
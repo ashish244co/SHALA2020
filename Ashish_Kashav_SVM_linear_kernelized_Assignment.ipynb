{
  "nbformat": 4,
  "nbformat_minor": 0,
  "metadata": {
    "colab": {
      "name": "Ashish_Kashav_SVM_linear_kernelized_Assignment.ipynb",
      "provenance": [],
      "collapsed_sections": [],
      "include_colab_link": true
    },
    "kernelspec": {
      "name": "python3",
      "display_name": "Python 3"
    }
  },
  "cells": [
    {
      "cell_type": "markdown",
      "metadata": {
        "id": "view-in-github",
        "colab_type": "text"
      },
      "source": [
        "<a href=\"https://colab.research.google.com/github/ashish244co/SHALA2020/blob/master/Ashish_Kashav_SVM_linear_kernelized_Assignment.ipynb\" target=\"_parent\"><img src=\"https://colab.research.google.com/assets/colab-badge.svg\" alt=\"Open In Colab\"/></a>"
      ]
    },
    {
      "cell_type": "markdown",
      "metadata": {
        "id": "arLDVfoh4rOg",
        "colab_type": "text"
      },
      "source": [
        "#**SVM**"
      ]
    },
    {
      "cell_type": "code",
      "metadata": {
        "id": "MEEp0sf04pIP",
        "colab_type": "code",
        "colab": {}
      },
      "source": [
        "import numpy as np\n",
        "import matplotlib.pyplot as plt\n",
        "import random\n",
        "from numpy import linalg as LA"
      ],
      "execution_count": 0,
      "outputs": []
    },
    {
      "cell_type": "markdown",
      "metadata": {
        "id": "vJ2o5DL4478w",
        "colab_type": "text"
      },
      "source": [
        "\n",
        "\n",
        "---\n",
        "\n",
        "\n",
        "**Generating Random linearly separable data**\n",
        "\n",
        "\n",
        "---\n",
        "\n"
      ]
    },
    {
      "cell_type": "code",
      "metadata": {
        "id": "UbaJAhdL5BLA",
        "colab_type": "code",
        "colab": {}
      },
      "source": [
        "data = [[np.random.rand(), np.random.rand()] for i in range(10)]\n",
        "\n",
        "for i, point in enumerate(data):\n",
        "  x, y = point\n",
        "  if 0.5*x - y + 0.25 > 0:\n",
        "    data[i].append(-1)\n",
        "  else:\n",
        "    data[i].append(1)\n",
        "\n"
      ],
      "execution_count": 0,
      "outputs": []
    },
    {
      "cell_type": "markdown",
      "metadata": {
        "id": "S3afrVhJ5FSS",
        "colab_type": "text"
      },
      "source": [
        "\n",
        "\n",
        "---\n",
        "\n",
        "\n",
        "**Visualizing the above data**\n",
        "\n",
        "\n",
        "---\n",
        "\n"
      ]
    },
    {
      "cell_type": "code",
      "metadata": {
        "id": "6x0FkJik5LPi",
        "colab_type": "code",
        "outputId": "1a815b4d-7faa-4021-dc47-e9bb038aa048",
        "colab": {
          "base_uri": "https://localhost:8080/",
          "height": 269
        }
      },
      "source": [
        "for x, y, l in data:\n",
        "  if l == 1: \n",
        "    clr = 'red'\n",
        "  else: \n",
        "    clr = 'blue'\n",
        "  plt.scatter(x, y, c=clr)\n",
        "  plt.xlim(0,1)\n",
        "  plt.ylim(0,1)"
      ],
      "execution_count": 3,
      "outputs": [
        {
          "output_type": "display_data",
          "data": {
            "image/png": "[encoded data removed]",
            "text/plain": [
              "<Figure size 432x288 with 1 Axes>"
            ]
          },
          "metadata": {
            "tags": [],
            "needs_background": "light"
          }
        }
      ]
    },
    {
      "cell_type": "code",
      "metadata": {
        "id": "zr4JzkcKmsd6",
        "colab_type": "code",
        "colab": {
          "base_uri": "https://localhost:8080/",
          "height": 187
        },
        "outputId": "14b24fa2-09d1-4604-b877-7ba2daabfac1"
      },
      "source": [
        "data"
      ],
      "execution_count": 4,
      "outputs": [
        {
          "output_type": "execute_result",
          "data": {
            "text/plain": [
              "[[0.6510391652766676, 0.2571594435266886, -1],\n",
              " [0.5106334930425408, 0.20202591871578346, -1],\n",
              " [0.6236730655413156, 0.8527267401277936, 1],\n",
              " [0.08825006011273162, 0.390520546487118, 1],\n",
              " [0.687376874977935, 0.5787244199005519, -1],\n",
              " [0.877857671324207, 0.8436722353378813, 1],\n",
              " [0.015197220598359928, 0.07799139369584507, -1],\n",
              " [0.2807315987423974, 0.44458269596902, 1],\n",
              " [0.8117501121489171, 0.4635855039350305, -1],\n",
              " [0.8875058655159452, 0.5556993040480454, -1]]"
            ]
          },
          "metadata": {
            "tags": []
          },
          "execution_count": 4
        }
      ]
    },
    {
      "cell_type": "markdown",
      "metadata": {
        "id": "yXabL9FB5Qe1",
        "colab_type": "text"
      },
      "source": [
        "\n",
        "\n",
        "---\n",
        "\n",
        "\n",
        "**Train a SVM classifier using gradient descent and return a Weight Matrix which is a numpy array of length (N + 1) where N is dimension of training samples. You can refer to Fig. 1 in [this](https://www.cs.huji.ac.il/~shais/papers/ShalevSiSrCo10.pdf) paper for implementation. You can add arguments to svm_function according to your implementation.**\n",
        "\n",
        "\n",
        "---\n",
        "\n"
      ]
    },
    {
      "cell_type": "code",
      "metadata": {
        "id": "LpSHX3lT5VDt",
        "colab_type": "code",
        "colab": {}
      },
      "source": [
        "def svm_function(x, y, epoch, l_rate):\n",
        "    ###################################\n",
        "    ######## write your code here #####\n",
        "    ###################################\n",
        "    xnew=np.column_stack((x,(np.ones(len(x)))))    \n",
        "    w=np.zeros(xnew.shape[1])\n",
        "    for _ in range(epoch):\n",
        "      i=np.random.randint(len(x))\n",
        "      if((y[i]*(xnew[i]@w))<1):\n",
        "          w=w-l_rate*(-2*(1/epoch)* w-y[i]*xnew[i])\n",
        "      else:\n",
        "          w=w-l_rate*w*(-2*(1/epoch))\n",
        "    return w"
      ],
      "execution_count": 0,
      "outputs": []
    },
    {
      "cell_type": "markdown",
      "metadata": {
        "id": "-GMSHqOB5Y7n",
        "colab_type": "text"
      },
      "source": [
        "\n",
        "\n",
        "---\n",
        "\n",
        "\n",
        "**Run SVM Classifier**\n",
        "\n",
        "\n",
        "---\n",
        "\n"
      ]
    },
    {
      "cell_type": "code",
      "metadata": {
        "id": "MY2AcFkZ5d2a",
        "colab_type": "code",
        "outputId": "4bf09571-6968-445d-9d0b-1a281b3e804d",
        "colab": {
          "base_uri": "https://localhost:8080/",
          "height": 34
        }
      },
      "source": [
        "data = np.asarray(data)\n",
        "X = data[:,:2]\n",
        "Y = data[:,2]\n",
        "w = svm_function(X, Y, 10000, 0.01)\n",
        "print(w)"
      ],
      "execution_count": 6,
      "outputs": [
        {
          "output_type": "stream",
          "text": [
            "[-3.82836637  6.66724786 -1.25699617]\n"
          ],
          "name": "stdout"
        }
      ]
    },
    {
      "cell_type": "code",
      "metadata": {
        "id": "pT6aYHk-QGvb",
        "colab_type": "code",
        "colab": {
          "base_uri": "https://localhost:8080/",
          "height": 187
        },
        "outputId": "66010f52-41c7-4e4e-d7f5-bad6f4aa7e2e"
      },
      "source": [
        "X"
      ],
      "execution_count": 7,
      "outputs": [
        {
          "output_type": "execute_result",
          "data": {
            "text/plain": [
              "array([[0.65103917, 0.25715944],\n",
              "       [0.51063349, 0.20202592],\n",
              "       [0.62367307, 0.85272674],\n",
              "       [0.08825006, 0.39052055],\n",
              "       [0.68737687, 0.57872442],\n",
              "       [0.87785767, 0.84367224],\n",
              "       [0.01519722, 0.07799139],\n",
              "       [0.2807316 , 0.4445827 ],\n",
              "       [0.81175011, 0.4635855 ],\n",
              "       [0.88750587, 0.5556993 ]])"
            ]
          },
          "metadata": {
            "tags": []
          },
          "execution_count": 7
        }
      ]
    },
    {
      "cell_type": "code",
      "metadata": {
        "id": "wjqRwXzLBAfQ",
        "colab_type": "code",
        "colab": {
          "base_uri": "https://localhost:8080/",
          "height": 51
        },
        "outputId": "cc11a851-2d9a-47ce-8544-264e6f1b6783"
      },
      "source": [
        "xx=np.column_stack((X,np.ones(len(X))))\n",
        "xx@w"
      ],
      "execution_count": 8,
      "outputs": [
        {
          "output_type": "execute_result",
          "data": {
            "text/plain": [
              "array([-2.03486687, -1.86493139,  2.04069537,  1.00884754, -0.03002753,\n",
              "        1.00721495, -0.79518875,  0.63240344, -1.27383354, -0.94970878])"
            ]
          },
          "metadata": {
            "tags": []
          },
          "execution_count": 8
        }
      ]
    },
    {
      "cell_type": "code",
      "metadata": {
        "id": "QFYuqGWOBNlr",
        "colab_type": "code",
        "colab": {
          "base_uri": "https://localhost:8080/",
          "height": 34
        },
        "outputId": "7d275501-fe69-46c7-e40a-a72544d25af4"
      },
      "source": [
        "Y"
      ],
      "execution_count": 9,
      "outputs": [
        {
          "output_type": "execute_result",
          "data": {
            "text/plain": [
              "array([-1., -1.,  1.,  1., -1.,  1., -1.,  1., -1., -1.])"
            ]
          },
          "metadata": {
            "tags": []
          },
          "execution_count": 9
        }
      ]
    },
    {
      "cell_type": "markdown",
      "metadata": {
        "id": "4t6lPISE5h4e",
        "colab_type": "text"
      },
      "source": [
        "# **Visualize the classifier**\n",
        "\n",
        "\n",
        "---\n",
        "\n",
        "Write a code to draw a lines corrosponding to 'w' vector you got as output from svm_function and for a line from which actual data was generated (0.5*x - y + 0.25). \n",
        "\n",
        "---\n",
        "\n"
      ]
    },
    {
      "cell_type": "code",
      "metadata": {
        "id": "wrCLTSVx5mBF",
        "colab_type": "code",
        "colab": {
          "base_uri": "https://localhost:8080/",
          "height": 269
        },
        "outputId": "37e5f709-255e-4192-894c-ce4817a9ae57"
      },
      "source": [
        "###################################\n",
        "###### write your code here########\n",
        "###################################\n",
        "for x, y, l in data:\n",
        "  if l == 1: \n",
        "    clr = 'red'\n",
        "  else: \n",
        "    clr = 'blue'\n",
        "  plt.scatter(x, y, c=clr)\n",
        "  plt.xlim(0,1)\n",
        "  plt.ylim(0,1)\n",
        "\n",
        "xx = np.linspace(0,1,1000)\n",
        "y_pred1 = (-w[0]*xx - w[2])/w[1] + 1/LA.norm(w)\n",
        "plt.plot(xx, y_pred1, label = '1st Support Vector',color='red')\n",
        "\n",
        "y=(-w[0]*xx - w[2])/w[1]\n",
        "plt.plot(xx, y, label = 'Prediction Boundary',color='black')\n",
        "\n",
        "y_pred2 = (-w[0]*xx - w[2])/w[1] - 1/LA.norm(w)\n",
        "plt.plot(xx, y_pred2, label = '2nd Support Vector',color='blue')\n",
        "plt.legend()\n",
        "plt.show()\n",
        "\n"
      ],
      "execution_count": 10,
      "outputs": [
        {
          "output_type": "display_data",
          "data": {
            "image/png": "[encoded data removed]",
            "text/plain": [
              "<Figure size 432x288 with 1 Axes>"
            ]
          },
          "metadata": {
            "tags": [],
            "needs_background": "light"
          }
        }
      ]
    },
    {
      "cell_type": "code",
      "metadata": {
        "id": "ryjg3-MVMknr",
        "colab_type": "code",
        "colab": {
          "base_uri": "https://localhost:8080/",
          "height": 34
        },
        "outputId": "ea4f2da7-ea8f-4e46-dc10-428e1bc1b9b8"
      },
      "source": [
        "len(Y)"
      ],
      "execution_count": 11,
      "outputs": [
        {
          "output_type": "execute_result",
          "data": {
            "text/plain": [
              "10"
            ]
          },
          "metadata": {
            "tags": []
          },
          "execution_count": 11
        }
      ]
    },
    {
      "cell_type": "markdown",
      "metadata": {
        "id": "zSQ2B6IK7pRq",
        "colab_type": "text"
      },
      "source": [
        "#**Linearly Non-separable Data**"
      ]
    },
    {
      "cell_type": "code",
      "metadata": {
        "id": "kZ5Mt_3Z73WS",
        "colab_type": "code",
        "outputId": "81da03f1-1934-4190-8d65-d07aa3a44f28",
        "colab": {
          "base_uri": "https://localhost:8080/",
          "height": 279
        }
      },
      "source": [
        "from sklearn.datasets import make_circles\n",
        "from matplotlib import pyplot\n",
        "from pandas import DataFrame\n",
        "\n",
        "# generate 2d classification dataset\n",
        "X, Y = make_circles(n_samples=100, noise=0.05)\n",
        "# scatter plot, dots colored by class value\n",
        "df = DataFrame(dict(x=X[:,0], y=X[:,1], label=Y))\n",
        "colors = {0:'red', 1:'blue'}\n",
        "fig, ax = pyplot.subplots()\n",
        "grouped = df.groupby('label')\n",
        "for key, group in grouped:\n",
        "    group.plot(ax=ax, kind='scatter', x='x', y='y', label=key, color=colors[key])\n",
        "pyplot.show()\n"
      ],
      "execution_count": 12,
      "outputs": [
        {
          "output_type": "display_data",
          "data": {
            "image/png": "[encoded data removed]",
            "text/plain": [
              "<Figure size 432x288 with 1 Axes>"
            ]
          },
          "metadata": {
            "tags": [],
            "needs_background": "light"
          }
        }
      ]
    },
    {
      "cell_type": "markdown",
      "metadata": {
        "id": "SDtuOIuy6xPL",
        "colab_type": "text"
      },
      "source": [
        "\n",
        "\n",
        "---\n",
        "\n",
        "\n",
        "**Train a SVM classifier on the linearly non-separable data by appropriate features crafted from input data For linearly non-separable data, you need to transform the data in a space where it can be linearly seprable.\n",
        "These features can be exponential, polynomial, trignometric or any other function of actual input features.\n",
        "For example, if your input data is (x1, x2) you can have hand-crafted features as (sin(x1), cos(x1), cos(x2), x1-x2).\n",
        "Here you need to think of which hand-crafted features can be best suited for data given to you.\n",
        "Write a function to convert input features to hand-crafted features. Use these features to train a SVM using svm_function.\n",
        "Note that, if you choose to have L hand-crafted features, SVM will return L+1 dimensional 'w'.**\n",
        "\n",
        "\n",
        "---\n",
        "\n"
      ]
    },
    {
      "cell_type": "code",
      "metadata": {
        "id": "PmaMDy0PJeZZ",
        "colab_type": "code",
        "colab": {
          "base_uri": "https://localhost:8080/",
          "height": 34
        },
        "outputId": "c83bfe2e-0a56-475b-81ca-67a9740c3e37"
      },
      "source": [
        "len(Y)"
      ],
      "execution_count": 13,
      "outputs": [
        {
          "output_type": "execute_result",
          "data": {
            "text/plain": [
              "100"
            ]
          },
          "metadata": {
            "tags": []
          },
          "execution_count": 13
        }
      ]
    },
    {
      "cell_type": "code",
      "metadata": {
        "id": "BZ4jtb9BGWM7",
        "colab_type": "code",
        "colab": {}
      },
      "source": [
        "def cart2pol(x, y):\n",
        "    r = np.sqrt(x**2 + y**2)\n",
        "    theta = np.arctan2(y, x)\n",
        "    return r, theta\n",
        "\n",
        "def pol2cart(r, theta):\n",
        "    x = r * np.cos(theta)\n",
        "    y = r * np.sin(theta)\n",
        "    return x, y"
      ],
      "execution_count": 0,
      "outputs": []
    },
    {
      "cell_type": "code",
      "metadata": {
        "id": "rZF4nHvz6-2I",
        "colab_type": "code",
        "colab": {}
      },
      "source": [
        "#####################################\n",
        "######## write your code here########\n",
        "#####################################\n",
        "a=np.array(df.iloc[:,:2])"
      ],
      "execution_count": 0,
      "outputs": []
    },
    {
      "cell_type": "code",
      "metadata": {
        "id": "dJYv1tYjG0iP",
        "colab_type": "code",
        "colab": {}
      },
      "source": [
        "pol=cart2pol(a[:,0],a[:,1])"
      ],
      "execution_count": 0,
      "outputs": []
    },
    {
      "cell_type": "code",
      "metadata": {
        "id": "jxeICDhUPWWH",
        "colab_type": "code",
        "colab": {
          "base_uri": "https://localhost:8080/",
          "height": 34
        },
        "outputId": "06fe3e7c-8e2d-4237-82cd-c2e3fcf1110f"
      },
      "source": [
        "len(pol)"
      ],
      "execution_count": 17,
      "outputs": [
        {
          "output_type": "execute_result",
          "data": {
            "text/plain": [
              "2"
            ]
          },
          "metadata": {
            "tags": []
          },
          "execution_count": 17
        }
      ]
    },
    {
      "cell_type": "code",
      "metadata": {
        "id": "PzuS_ucgPAqg",
        "colab_type": "code",
        "colab": {}
      },
      "source": [
        "pol=np.column_stack((pol[0],pol[1]))"
      ],
      "execution_count": 0,
      "outputs": []
    },
    {
      "cell_type": "code",
      "metadata": {
        "id": "NvCcPjw5PefP",
        "colab_type": "code",
        "colab": {
          "base_uri": "https://localhost:8080/",
          "height": 1000
        },
        "outputId": "95153083-2c71-4a9d-9a1b-ba36ae2fc88d"
      },
      "source": [
        "pol"
      ],
      "execution_count": 19,
      "outputs": [
        {
          "output_type": "execute_result",
          "data": {
            "text/plain": [
              "array([[ 1.02950371,  2.43248257],\n",
              "       [ 0.9177651 ,  2.95725255],\n",
              "       [ 1.08064087, -0.38546578],\n",
              "       [ 1.02507014,  2.04421237],\n",
              "       [ 0.99776999, -1.11717049],\n",
              "       [ 0.70478958, -1.60152963],\n",
              "       [ 0.82827358,  0.44665145],\n",
              "       [ 0.88226777,  1.51612513],\n",
              "       [ 0.79105489,  2.16447502],\n",
              "       [ 0.96776268,  1.03911484],\n",
              "       [ 0.88489325, -0.99844478],\n",
              "       [ 0.72743862,  0.14790344],\n",
              "       [ 0.74466616, -2.01855074],\n",
              "       [ 0.73080423,  1.86778169],\n",
              "       [ 0.87792307, -2.98772204],\n",
              "       [ 0.9762404 ,  0.47315234],\n",
              "       [ 0.92683212,  1.19408211],\n",
              "       [ 0.8506052 , -2.57262444],\n",
              "       [ 0.77966293,  0.47653865],\n",
              "       [ 1.05478731, -1.5378899 ],\n",
              "       [ 0.7949967 ,  1.1858042 ],\n",
              "       [ 1.03028466,  1.89365648],\n",
              "       [ 1.0258875 ,  1.26814734],\n",
              "       [ 1.00727809, -0.86594316],\n",
              "       [ 1.13910512, -1.65508818],\n",
              "       [ 0.8185543 , -2.71612785],\n",
              "       [ 0.98718956, -0.71478238],\n",
              "       [ 0.94519175,  0.04300221],\n",
              "       [ 0.81951744, -2.91352944],\n",
              "       [ 0.77350776,  3.10397952],\n",
              "       [ 0.81027342,  1.41107531],\n",
              "       [ 0.93158387, -0.51985186],\n",
              "       [ 0.83445426, -2.23581165],\n",
              "       [ 0.96713367,  1.70822571],\n",
              "       [ 0.80002633, -3.00639892],\n",
              "       [ 0.96681209,  2.65625854],\n",
              "       [ 1.01184119, -2.75998599],\n",
              "       [ 1.04212672,  3.08777427],\n",
              "       [ 0.79849837, -0.37911378],\n",
              "       [ 0.83006304,  0.25410593],\n",
              "       [ 0.75537673,  1.26026243],\n",
              "       [ 0.85189197,  0.54146281],\n",
              "       [ 0.76065271,  1.56370855],\n",
              "       [ 1.11285045,  2.07700616],\n",
              "       [ 0.81157797, -0.14537204],\n",
              "       [ 0.81301618, -0.51701248],\n",
              "       [ 0.98464395,  0.18373454],\n",
              "       [ 0.80053224,  3.09293801],\n",
              "       [ 0.77390012,  0.68754882],\n",
              "       [ 0.76533093,  2.56712593],\n",
              "       [ 0.96579881,  0.60937011],\n",
              "       [ 0.96126958, -2.07914324],\n",
              "       [ 0.75342774, -2.45905371],\n",
              "       [ 0.80030919, -0.81151873],\n",
              "       [ 1.07370672, -1.88381752],\n",
              "       [ 0.97629539, -1.31512549],\n",
              "       [ 1.0146149 , -2.02777689],\n",
              "       [ 0.8509762 , -0.78469212],\n",
              "       [ 0.8089661 , -0.10347609],\n",
              "       [ 0.81792486, -1.14237323],\n",
              "       [ 1.0221132 , -1.36435816],\n",
              "       [ 1.02282039,  2.25766022],\n",
              "       [ 1.06651331,  2.79484148],\n",
              "       [ 0.74803936, -1.72433528],\n",
              "       [ 0.89776266,  2.75420598],\n",
              "       [ 0.83141525, -0.61887556],\n",
              "       [ 0.98011837,  0.28514793],\n",
              "       [ 0.87052962, -0.98410706],\n",
              "       [ 0.78122718, -2.43413724],\n",
              "       [ 1.01560056,  1.56935875],\n",
              "       [ 1.01079944, -1.75828214],\n",
              "       [ 0.73269665,  2.32102905],\n",
              "       [ 0.97115248, -2.56443685],\n",
              "       [ 0.95068265,  0.85980115],\n",
              "       [ 0.7796472 ,  1.86002899],\n",
              "       [ 0.87788545,  1.78196111],\n",
              "       [ 0.72005739, -1.25986415],\n",
              "       [ 0.79108331, -1.50878546],\n",
              "       [ 1.01832249, -0.68741451],\n",
              "       [ 1.00053868,  1.45165705],\n",
              "       [ 0.98377206, -2.9370727 ],\n",
              "       [ 0.90576825, -0.11398383],\n",
              "       [ 0.97729474,  0.35026785],\n",
              "       [ 1.00745702,  2.40177094],\n",
              "       [ 0.96147631, -2.70315252],\n",
              "       [ 0.79416   , -1.17998043],\n",
              "       [ 0.83256245, -1.84760845],\n",
              "       [ 1.04487173,  2.79101704],\n",
              "       [ 0.85995643, -0.23291513],\n",
              "       [ 0.97312407,  0.7195043 ],\n",
              "       [ 0.95739316,  1.81114827],\n",
              "       [ 0.87781097,  1.05690655],\n",
              "       [ 0.74259898,  0.94159847],\n",
              "       [ 1.04739367, -2.36736388],\n",
              "       [ 0.76462064, -2.08847541],\n",
              "       [ 0.84783315,  2.80466219],\n",
              "       [ 1.0117788 , -2.37405921],\n",
              "       [ 0.77005824,  2.16102691],\n",
              "       [ 0.8159321 ,  2.8624248 ],\n",
              "       [ 0.86403969, -0.06306102]])"
            ]
          },
          "metadata": {
            "tags": []
          },
          "execution_count": 19
        }
      ]
    },
    {
      "cell_type": "code",
      "metadata": {
        "id": "6-LGkwx_HeGU",
        "colab_type": "code",
        "colab": {
          "base_uri": "https://localhost:8080/",
          "height": 71
        },
        "outputId": "cedcf338-d5d4-4750-fd44-6ab437284216"
      },
      "source": [
        "import seaborn as sns"
      ],
      "execution_count": 20,
      "outputs": [
        {
          "output_type": "stream",
          "text": [
            "/usr/local/lib/python3.6/dist-packages/statsmodels/tools/_testing.py:19: FutureWarning: pandas.util.testing is deprecated. Use the functions in the public API at pandas.testing instead.\n",
            "  import pandas.util.testing as tm\n"
          ],
          "name": "stderr"
        }
      ]
    },
    {
      "cell_type": "code",
      "metadata": {
        "id": "L7Y5EPEuJjuf",
        "colab_type": "code",
        "colab": {}
      },
      "source": [
        "Y[Y==0]=-1\n",
        "Y[Y==1]=1"
      ],
      "execution_count": 0,
      "outputs": []
    },
    {
      "cell_type": "code",
      "metadata": {
        "id": "Q4X0ZX94Pj1L",
        "colab_type": "code",
        "colab": {
          "base_uri": "https://localhost:8080/",
          "height": 34
        },
        "outputId": "0b9c2e34-d0d0-49c5-f01e-159de258448a"
      },
      "source": [
        "len(Y)"
      ],
      "execution_count": 22,
      "outputs": [
        {
          "output_type": "execute_result",
          "data": {
            "text/plain": [
              "100"
            ]
          },
          "metadata": {
            "tags": []
          },
          "execution_count": 22
        }
      ]
    },
    {
      "cell_type": "code",
      "metadata": {
        "id": "N10uPY8vPqGi",
        "colab_type": "code",
        "colab": {
          "base_uri": "https://localhost:8080/",
          "height": 34
        },
        "outputId": "ebc80e06-52e2-4bdb-f5ad-788960c4b6f5"
      },
      "source": [
        "len(pol)"
      ],
      "execution_count": 23,
      "outputs": [
        {
          "output_type": "execute_result",
          "data": {
            "text/plain": [
              "100"
            ]
          },
          "metadata": {
            "tags": []
          },
          "execution_count": 23
        }
      ]
    },
    {
      "cell_type": "code",
      "metadata": {
        "id": "FPUO5A4fHaN_",
        "colab_type": "code",
        "colab": {
          "base_uri": "https://localhost:8080/",
          "height": 282
        },
        "outputId": "d62a3d7d-c8c1-457a-ef32-25f3c7562bc6"
      },
      "source": [
        "sns.scatterplot(x=pol[:,0],y=pol[:,1],hue=Y)"
      ],
      "execution_count": 24,
      "outputs": [
        {
          "output_type": "execute_result",
          "data": {
            "text/plain": [
              "<matplotlib.axes._subplots.AxesSubplot at 0x7f1745709d68>"
            ]
          },
          "metadata": {
            "tags": []
          },
          "execution_count": 24
        },
        {
          "output_type": "display_data",
          "data": {
            "image/png": "[encoded data removed]",
            "text/plain": [
              "<Figure size 432x288 with 1 Axes>"
            ]
          },
          "metadata": {
            "tags": [],
            "needs_background": "light"
          }
        }
      ]
    },
    {
      "cell_type": "markdown",
      "metadata": {
        "id": "k9RC8lVS81F8",
        "colab_type": "text"
      },
      "source": [
        "\n",
        "\n",
        "---\n",
        "\n",
        "\n",
        "**Visualize the data points in the new feature space \"if possible\" to see whether they got separated or not.**\n",
        "\n",
        "\n",
        "---\n",
        "\n"
      ]
    },
    {
      "cell_type": "code",
      "metadata": {
        "id": "9wSXpQbkIFj3",
        "colab_type": "code",
        "colab": {
          "base_uri": "https://localhost:8080/",
          "height": 119
        },
        "outputId": "b208b8e8-aa06-4da6-c0e4-5eb8716f8692"
      },
      "source": [
        "Y"
      ],
      "execution_count": 25,
      "outputs": [
        {
          "output_type": "execute_result",
          "data": {
            "text/plain": [
              "array([-1, -1, -1, -1, -1,  1,  1,  1,  1, -1,  1,  1,  1,  1, -1, -1, -1,\n",
              "        1,  1, -1,  1, -1, -1, -1, -1,  1, -1, -1,  1,  1,  1, -1,  1, -1,\n",
              "        1, -1, -1, -1,  1,  1,  1,  1,  1, -1,  1,  1, -1,  1,  1,  1, -1,\n",
              "       -1,  1,  1, -1, -1, -1,  1,  1,  1, -1, -1, -1,  1,  1,  1, -1, -1,\n",
              "        1, -1, -1,  1, -1, -1,  1,  1,  1,  1, -1, -1, -1, -1, -1, -1, -1,\n",
              "        1,  1, -1, -1, -1, -1,  1,  1, -1,  1,  1, -1,  1,  1,  1])"
            ]
          },
          "metadata": {
            "tags": []
          },
          "execution_count": 25
        }
      ]
    },
    {
      "cell_type": "code",
      "metadata": {
        "id": "jJ-K3e7HIGG_",
        "colab_type": "code",
        "colab": {}
      },
      "source": [
        "wnew=svm_function(pol,Y, 10000, 0.1)"
      ],
      "execution_count": 0,
      "outputs": []
    },
    {
      "cell_type": "code",
      "metadata": {
        "id": "Ig1vd1BnIWpG",
        "colab_type": "code",
        "colab": {
          "base_uri": "https://localhost:8080/",
          "height": 265
        },
        "outputId": "e26d9b36-7d57-4000-df44-f59c4ad988ca"
      },
      "source": [
        "sns.scatterplot(x=pol[:,0],y=pol[:,1],hue=Y,alpha=1)\n",
        "xx = np.linspace(0.9,0.93,150)\n",
        "y_pred1 = (-wnew[0]*xx - wnew[2])/wnew[1] + 1/LA.norm(wnew)\n",
        "plt.plot(xx, y_pred1, label = '1st Support Vector',color='red')\n",
        "\n",
        "y=(-wnew[0]*xx - wnew[2])/wnew[1]\n",
        "plt.plot(xx.T, y, label = 'Prediction Boundary',color='black')\n",
        "\n",
        "y_pred2 = (-wnew[0]*xx - wnew[2])/wnew[1] - 1/LA.norm(wnew)\n",
        "plt.plot(xx, y_pred2, label = '2nd Support Vector',color='blue')\n",
        "plt.legend(loc='best')\n",
        "plt.show()\n"
      ],
      "execution_count": 57,
      "outputs": [
        {
          "output_type": "display_data",
          "data": {
            "image/png": "[encoded data removed]",
            "text/plain": [
              "<Figure size 432x288 with 1 Axes>"
            ]
          },
          "metadata": {
            "tags": [],
            "needs_background": "light"
          }
        }
      ]
    },
    {
      "cell_type": "code",
      "metadata": {
        "id": "u-ahqrbvIzpF",
        "colab_type": "code",
        "colab": {}
      },
      "source": [
        "cart=pol2cart(xx,(-wnew[0]*xx - wnew[2])/wnew[1])"
      ],
      "execution_count": 0,
      "outputs": []
    },
    {
      "cell_type": "code",
      "metadata": {
        "id": "R3N5RNBdUbbn",
        "colab_type": "code",
        "colab": {}
      },
      "source": [
        "cart=np.column_stack((cart[0],cart[1]))"
      ],
      "execution_count": 0,
      "outputs": []
    },
    {
      "cell_type": "code",
      "metadata": {
        "id": "PnIqSTn8VLeU",
        "colab_type": "code",
        "colab": {
          "base_uri": "https://localhost:8080/",
          "height": 285
        },
        "outputId": "d1218c82-72d7-41fa-9e76-c42f2552a63d"
      },
      "source": [
        "plt.scatter(x=cart[:,0],y=cart[:,1], label = 'Prediction Boundary',color='red',marker='*')"
      ],
      "execution_count": 60,
      "outputs": [
        {
          "output_type": "execute_result",
          "data": {
            "text/plain": [
              "<matplotlib.collections.PathCollection at 0x7f17450b1048>"
            ]
          },
          "metadata": {
            "tags": []
          },
          "execution_count": 60
        },
        {
          "output_type": "display_data",
          "data": {
            "image/png": "[encoded data removed]",
            "text/plain": [
              "<Figure size 432x288 with 1 Axes>"
            ]
          },
          "metadata": {
            "tags": [],
            "needs_background": "light"
          }
        }
      ]
    },
    {
      "cell_type": "code",
      "metadata": {
        "id": "9-7OoKJiUFp7",
        "colab_type": "code",
        "colab": {
          "base_uri": "https://localhost:8080/",
          "height": 265
        },
        "outputId": "e2fd6e28-d5ed-4637-8876-ecded1707c1b"
      },
      "source": [
        "sns.scatterplot(x=a[:,0],y=a[:,1],hue=Y,alpha=1)\n",
        "\n",
        "plt.scatter(x=cart[:,0],y=cart[:,1], label = 'Prediction Boundary',color='red',marker='*',linewidth=0.001)\n",
        "\n",
        "\n",
        "plt.legend(loc='best')\n",
        "plt.show()"
      ],
      "execution_count": 61,
      "outputs": [
        {
          "output_type": "display_data",
          "data": {
            "image/png": "[encoded data removed]",
            "text/plain": [
              "<Figure size 432x288 with 1 Axes>"
            ]
          },
          "metadata": {
            "tags": [],
            "needs_background": "light"
          }
        }
      ]
    }
  ]
}
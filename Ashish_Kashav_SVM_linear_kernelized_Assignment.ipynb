{
  "nbformat": 4,
  "nbformat_minor": 0,
  "metadata": {
    "colab": {
      "name": "Ashish_Kashav_SVM_linear_kernelized_Assignment.ipynb",
      "provenance": [],
      "collapsed_sections": [],
      "include_colab_link": true
    },
    "kernelspec": {
      "name": "python3",
      "display_name": "Python 3"
    }
  },
  "cells": [
    {
      "cell_type": "markdown",
      "metadata": {
        "id": "view-in-github",
        "colab_type": "text"
      },
      "source": [
        "<a href=\"https://colab.research.google.com/github/ashish244co/SHALA2020/blob/master/Ashish_Kashav_SVM_linear_kernelized_Assignment.ipynb\" target=\"_parent\"><img src=\"https://colab.research.google.com/assets/colab-badge.svg\" alt=\"Open In Colab\"/></a>"
      ]
    },
    {
      "cell_type": "markdown",
      "metadata": {
        "id": "arLDVfoh4rOg",
        "colab_type": "text"
      },
      "source": [
        "#**SVM**"
      ]
    },
    {
      "cell_type": "code",
      "metadata": {
        "id": "MEEp0sf04pIP",
        "colab_type": "code",
        "colab": {}
      },
      "source": [
        "import numpy as np\n",
        "import matplotlib.pyplot as plt\n",
        "import random\n",
        "from numpy import linalg as LA"
      ],
      "execution_count": 0,
      "outputs": []
    },
    {
      "cell_type": "markdown",
      "metadata": {
        "id": "vJ2o5DL4478w",
        "colab_type": "text"
      },
      "source": [
        "\n",
        "\n",
        "---\n",
        "\n",
        "\n",
        "**Generating Random linearly separable data**\n",
        "\n",
        "\n",
        "---\n",
        "\n"
      ]
    },
    {
      "cell_type": "code",
      "metadata": {
        "id": "UbaJAhdL5BLA",
        "colab_type": "code",
        "colab": {}
      },
      "source": [
        "data = [[np.random.rand(), np.random.rand()] for i in range(10)]\n",
        "\n",
        "for i, point in enumerate(data):\n",
        "  x, y = point\n",
        "  if 0.5*x - y + 0.25 > 0:\n",
        "    data[i].append(-1)\n",
        "  else:\n",
        "    data[i].append(1)\n",
        "\n"
      ],
      "execution_count": 0,
      "outputs": []
    },
    {
      "cell_type": "markdown",
      "metadata": {
        "id": "S3afrVhJ5FSS",
        "colab_type": "text"
      },
      "source": [
        "\n",
        "\n",
        "---\n",
        "\n",
        "\n",
        "**Visualizing the above data**\n",
        "\n",
        "\n",
        "---\n",
        "\n"
      ]
    },
    {
      "cell_type": "code",
      "metadata": {
        "id": "6x0FkJik5LPi",
        "colab_type": "code",
        "outputId": "139b02ce-9a7a-489e-decf-77bbbdf069c8",
        "colab": {
          "base_uri": "https://localhost:8080/",
          "height": 269
        }
      },
      "source": [
        "for x, y, l in data:\n",
        "  if l == 1: \n",
        "    clr = 'red'\n",
        "  else: \n",
        "    clr = 'blue'\n",
        "  plt.scatter(x, y, c=clr)\n",
        "  plt.xlim(0,1)\n",
        "  plt.ylim(0,1)"
      ],
      "execution_count": 3,
      "outputs": [
        {
          "output_type": "display_data",
          "data": {
            "image/png": "[encoded data removed]",
            "text/plain": [
              "<Figure size 432x288 with 1 Axes>"
            ]
          },
          "metadata": {
            "tags": [],
            "needs_background": "light"
          }
        }
      ]
    },
    {
      "cell_type": "code",
      "metadata": {
        "id": "zr4JzkcKmsd6",
        "colab_type": "code",
        "colab": {
          "base_uri": "https://localhost:8080/",
          "height": 187
        },
        "outputId": "0fc65ab6-6d8b-4a8d-85c4-f7f07274a44c"
      },
      "source": [
        "data"
      ],
      "execution_count": 4,
      "outputs": [
        {
          "output_type": "execute_result",
          "data": {
            "text/plain": [
              "[[0.6491721525816438, 0.78291415937429, 1],\n",
              " [0.49109777229439056, 0.0038104813040545915, -1],\n",
              " [0.08418348238580775, 0.2659543111408226, -1],\n",
              " [0.6198615070839143, 0.8389027673725736, 1],\n",
              " [0.8854508208712404, 0.49233244679636756, -1],\n",
              " [0.7450760457956264, 0.06613054526784712, -1],\n",
              " [0.5745955479941124, 0.23611232666412652, -1],\n",
              " [0.1284376822492025, 0.26726772033262947, -1],\n",
              " [0.833759284962227, 0.796093161942441, 1],\n",
              " [0.4542107608901902, 0.5746176597948031, 1]]"
            ]
          },
          "metadata": {
            "tags": []
          },
          "execution_count": 4
        }
      ]
    },
    {
      "cell_type": "markdown",
      "metadata": {
        "id": "yXabL9FB5Qe1",
        "colab_type": "text"
      },
      "source": [
        "\n",
        "\n",
        "---\n",
        "\n",
        "\n",
        "**Train a SVM classifier using gradient descent and return a Weight Matrix which is a numpy array of length (N + 1) where N is dimension of training samples. You can refer to Fig. 1 in [this](https://www.cs.huji.ac.il/~shais/papers/ShalevSiSrCo10.pdf) paper for implementation. You can add arguments to svm_function according to your implementation.**\n",
        "\n",
        "\n",
        "---\n",
        "\n"
      ]
    },
    {
      "cell_type": "code",
      "metadata": {
        "id": "LpSHX3lT5VDt",
        "colab_type": "code",
        "colab": {}
      },
      "source": [
        "def svm_function(x, y, epoch, l_rate):\n",
        "    ###################################\n",
        "    ######## write your code here #####\n",
        "    ###################################\n",
        "    xnew=np.column_stack((x,(np.ones(len(x)))))    \n",
        "    w=np.zeros(xnew.shape[1])\n",
        "    for _ in range(epoch):\n",
        "      i=np.random.randint(len(x))\n",
        "      if((y[i]*(xnew[i]@w))<1):\n",
        "          w=w-l_rate*(-2*(1/epoch)* w-y[i]*xnew[i])\n",
        "      else:\n",
        "          w=w-l_rate*w*(-2*(1/epoch))\n",
        "    return w"
      ],
      "execution_count": 0,
      "outputs": []
    },
    {
      "cell_type": "markdown",
      "metadata": {
        "id": "-GMSHqOB5Y7n",
        "colab_type": "text"
      },
      "source": [
        "\n",
        "\n",
        "---\n",
        "\n",
        "\n",
        "**Run SVM Classifier**\n",
        "\n",
        "\n",
        "---\n",
        "\n"
      ]
    },
    {
      "cell_type": "code",
      "metadata": {
        "id": "MY2AcFkZ5d2a",
        "colab_type": "code",
        "outputId": "9ba26d6e-2be8-44c7-f88d-db23ccd6f624",
        "colab": {
          "base_uri": "https://localhost:8080/",
          "height": 34
        }
      },
      "source": [
        "data = np.asarray(data)\n",
        "X = data[:,:2]\n",
        "Y = data[:,2]\n",
        "w = svm_function(X, Y, 10000, 0.01)\n",
        "print(w)"
      ],
      "execution_count": 6,
      "outputs": [
        {
          "output_type": "stream",
          "text": [
            "[-1.27006063  5.55941117 -2.37928051]\n"
          ],
          "name": "stdout"
        }
      ]
    },
    {
      "cell_type": "code",
      "metadata": {
        "id": "pT6aYHk-QGvb",
        "colab_type": "code",
        "colab": {
          "base_uri": "https://localhost:8080/",
          "height": 187
        },
        "outputId": "17d0e3b2-5800-4453-81bd-fe126eaf10b7"
      },
      "source": [
        "X"
      ],
      "execution_count": 7,
      "outputs": [
        {
          "output_type": "execute_result",
          "data": {
            "text/plain": [
              "array([[0.64917215, 0.78291416],\n",
              "       [0.49109777, 0.00381048],\n",
              "       [0.08418348, 0.26595431],\n",
              "       [0.61986151, 0.83890277],\n",
              "       [0.88545082, 0.49233245],\n",
              "       [0.74507605, 0.06613055],\n",
              "       [0.57459555, 0.23611233],\n",
              "       [0.12843768, 0.26726772],\n",
              "       [0.83375928, 0.79609316],\n",
              "       [0.45421076, 0.57461766]])"
            ]
          },
          "metadata": {
            "tags": []
          },
          "execution_count": 7
        }
      ]
    },
    {
      "cell_type": "code",
      "metadata": {
        "id": "wjqRwXzLBAfQ",
        "colab_type": "code",
        "colab": {
          "base_uri": "https://localhost:8080/",
          "height": 51
        },
        "outputId": "12ee7095-0401-4061-84c3-3f4428eec80d"
      },
      "source": [
        "xx=np.column_stack((X,np.ones(len(X))))\n",
        "xx@w"
      ],
      "execution_count": 8,
      "outputs": [
        {
          "output_type": "execute_result",
          "data": {
            "text/plain": [
              "array([ 1.14877322, -2.98182042, -1.00764927,  1.49726321, -0.76677824,\n",
              "       -2.95792537, -1.79640619, -1.056553  ,  0.98760386,  0.23838012])"
            ]
          },
          "metadata": {
            "tags": []
          },
          "execution_count": 8
        }
      ]
    },
    {
      "cell_type": "code",
      "metadata": {
        "id": "QFYuqGWOBNlr",
        "colab_type": "code",
        "colab": {
          "base_uri": "https://localhost:8080/",
          "height": 34
        },
        "outputId": "c7520788-8a13-488c-a956-b020888e5fab"
      },
      "source": [
        "Y"
      ],
      "execution_count": 9,
      "outputs": [
        {
          "output_type": "execute_result",
          "data": {
            "text/plain": [
              "array([ 1., -1., -1.,  1., -1., -1., -1., -1.,  1.,  1.])"
            ]
          },
          "metadata": {
            "tags": []
          },
          "execution_count": 9
        }
      ]
    },
    {
      "cell_type": "markdown",
      "metadata": {
        "id": "4t6lPISE5h4e",
        "colab_type": "text"
      },
      "source": [
        "# **Visualize the classifier**\n",
        "\n",
        "\n",
        "---\n",
        "\n",
        "Write a code to draw a lines corrosponding to 'w' vector you got as output from svm_function and for a line from which actual data was generated (0.5*x - y + 0.25). \n",
        "\n",
        "---\n",
        "\n"
      ]
    },
    {
      "cell_type": "code",
      "metadata": {
        "id": "wrCLTSVx5mBF",
        "colab_type": "code",
        "colab": {
          "base_uri": "https://localhost:8080/",
          "height": 269
        },
        "outputId": "91c6f514-b520-40bc-e21a-0d7ff8a5fc7c"
      },
      "source": [
        "###################################\n",
        "###### write your code here########\n",
        "###################################\n",
        "for x, y, l in data:\n",
        "  if l == 1: \n",
        "    clr = 'red'\n",
        "  else: \n",
        "    clr = 'blue'\n",
        "  plt.scatter(x, y, c=clr)\n",
        "  plt.xlim(0,1)\n",
        "  plt.ylim(0,1)\n",
        "\n",
        "xx = np.linspace(0,1,1000)\n",
        "y_pred1 = (-w[0]*xx - w[2])/w[1] + 1/LA.norm(w)\n",
        "plt.plot(xx, y_pred1, label = '1st Support Vector',color='red')\n",
        "\n",
        "y=(-w[0]*xx - w[2])/w[1]\n",
        "plt.plot(xx, y, label = 'Prediction Boundary',color='black')\n",
        "\n",
        "y_pred2 = (-w[0]*xx - w[2])/w[1] - 1/LA.norm(w)\n",
        "plt.plot(xx, y_pred2, label = '2nd Support Vector',color='blue')\n",
        "plt.legend()\n",
        "plt.show()\n",
        "\n"
      ],
      "execution_count": 10,
      "outputs": [
        {
          "output_type": "display_data",
          "data": {
            "image/png": "[encoded data removed]",
            "text/plain": [
              "<Figure size 432x288 with 1 Axes>"
            ]
          },
          "metadata": {
            "tags": [],
            "needs_background": "light"
          }
        }
      ]
    },
    {
      "cell_type": "code",
      "metadata": {
        "id": "ryjg3-MVMknr",
        "colab_type": "code",
        "colab": {
          "base_uri": "https://localhost:8080/",
          "height": 34
        },
        "outputId": "b20a2bb4-b033-4da3-f161-8df8cae403c3"
      },
      "source": [
        "len(Y)"
      ],
      "execution_count": 11,
      "outputs": [
        {
          "output_type": "execute_result",
          "data": {
            "text/plain": [
              "10"
            ]
          },
          "metadata": {
            "tags": []
          },
          "execution_count": 11
        }
      ]
    },
    {
      "cell_type": "markdown",
      "metadata": {
        "id": "zSQ2B6IK7pRq",
        "colab_type": "text"
      },
      "source": [
        "#**Linearly Non-separable Data**"
      ]
    },
    {
      "cell_type": "code",
      "metadata": {
        "id": "kZ5Mt_3Z73WS",
        "colab_type": "code",
        "outputId": "a72aaf86-462f-4a81-c7df-4886630befe0",
        "colab": {
          "base_uri": "https://localhost:8080/",
          "height": 279
        }
      },
      "source": [
        "from sklearn.datasets import make_circles\n",
        "from matplotlib import pyplot\n",
        "from pandas import DataFrame\n",
        "\n",
        "# generate 2d classification dataset\n",
        "X, Y = make_circles(n_samples=100, noise=0.05)\n",
        "# scatter plot, dots colored by class value\n",
        "df = DataFrame(dict(x=X[:,0], y=X[:,1], label=Y))\n",
        "colors = {0:'red', 1:'blue'}\n",
        "fig, ax = pyplot.subplots()\n",
        "grouped = df.groupby('label')\n",
        "for key, group in grouped:\n",
        "    group.plot(ax=ax, kind='scatter', x='x', y='y', label=key, color=colors[key])\n",
        "pyplot.show()\n"
      ],
      "execution_count": 12,
      "outputs": [
        {
          "output_type": "display_data",
          "data": {
            "image/png": "[encoded data removed]",
            "text/plain": [
              "<Figure size 432x288 with 1 Axes>"
            ]
          },
          "metadata": {
            "tags": [],
            "needs_background": "light"
          }
        }
      ]
    },
    {
      "cell_type": "markdown",
      "metadata": {
        "id": "SDtuOIuy6xPL",
        "colab_type": "text"
      },
      "source": [
        "\n",
        "\n",
        "---\n",
        "\n",
        "\n",
        "**Train a SVM classifier on the linearly non-separable data by appropriate features crafted from input data For linearly non-separable data, you need to transform the data in a space where it can be linearly seprable.\n",
        "These features can be exponential, polynomial, trignometric or any other function of actual input features.\n",
        "For example, if your input data is (x1, x2) you can have hand-crafted features as (sin(x1), cos(x1), cos(x2), x1-x2).\n",
        "Here you need to think of which hand-crafted features can be best suited for data given to you.\n",
        "Write a function to convert input features to hand-crafted features. Use these features to train a SVM using svm_function.\n",
        "Note that, if you choose to have L hand-crafted features, SVM will return L+1 dimensional 'w'.**\n",
        "\n",
        "\n",
        "---\n",
        "\n"
      ]
    },
    {
      "cell_type": "code",
      "metadata": {
        "id": "PmaMDy0PJeZZ",
        "colab_type": "code",
        "colab": {
          "base_uri": "https://localhost:8080/",
          "height": 34
        },
        "outputId": "d194d7a0-b1c2-463e-8220-671648dbbb12"
      },
      "source": [
        "len(Y)"
      ],
      "execution_count": 13,
      "outputs": [
        {
          "output_type": "execute_result",
          "data": {
            "text/plain": [
              "100"
            ]
          },
          "metadata": {
            "tags": []
          },
          "execution_count": 13
        }
      ]
    },
    {
      "cell_type": "code",
      "metadata": {
        "id": "BZ4jtb9BGWM7",
        "colab_type": "code",
        "colab": {}
      },
      "source": [
        "def cart2pol(x, y):\n",
        "    r = np.sqrt(x**2 + y**2)\n",
        "    theta = np.arctan2(y, x)\n",
        "    return r, theta\n",
        "\n",
        "def pol2cart(r, theta):\n",
        "    x = r * np.cos(theta)\n",
        "    y = r * np.sin(theta)\n",
        "    return x, y"
      ],
      "execution_count": 0,
      "outputs": []
    },
    {
      "cell_type": "code",
      "metadata": {
        "id": "rZF4nHvz6-2I",
        "colab_type": "code",
        "colab": {}
      },
      "source": [
        "#####################################\n",
        "######## write your code here########\n",
        "#####################################\n",
        "a=np.array(df.iloc[:,:2])"
      ],
      "execution_count": 0,
      "outputs": []
    },
    {
      "cell_type": "code",
      "metadata": {
        "id": "dJYv1tYjG0iP",
        "colab_type": "code",
        "colab": {}
      },
      "source": [
        "pol=cart2pol(a[:,0],a[:,1])"
      ],
      "execution_count": 0,
      "outputs": []
    },
    {
      "cell_type": "code",
      "metadata": {
        "id": "jxeICDhUPWWH",
        "colab_type": "code",
        "colab": {
          "base_uri": "https://localhost:8080/",
          "height": 34
        },
        "outputId": "ec07c9eb-27fd-4737-9862-84baac023601"
      },
      "source": [
        "len(pol)"
      ],
      "execution_count": 17,
      "outputs": [
        {
          "output_type": "execute_result",
          "data": {
            "text/plain": [
              "2"
            ]
          },
          "metadata": {
            "tags": []
          },
          "execution_count": 17
        }
      ]
    },
    {
      "cell_type": "code",
      "metadata": {
        "id": "PzuS_ucgPAqg",
        "colab_type": "code",
        "colab": {}
      },
      "source": [
        "pol=np.column_stack((pol[0],pol[1]))"
      ],
      "execution_count": 0,
      "outputs": []
    },
    {
      "cell_type": "code",
      "metadata": {
        "id": "NvCcPjw5PefP",
        "colab_type": "code",
        "colab": {
          "base_uri": "https://localhost:8080/",
          "height": 1000
        },
        "outputId": "04882946-b492-4932-898e-a25ee2aeeb5a"
      },
      "source": [
        "pol"
      ],
      "execution_count": 19,
      "outputs": [
        {
          "output_type": "execute_result",
          "data": {
            "text/plain": [
              "array([[ 0.85038148,  0.77104775],\n",
              "       [ 1.02869442, -0.70274445],\n",
              "       [ 1.00671606,  1.49105976],\n",
              "       [ 0.81007002,  0.35054214],\n",
              "       [ 0.82647903, -2.98119994],\n",
              "       [ 0.85643403, -1.93036913],\n",
              "       [ 0.9128084 ,  1.19751225],\n",
              "       [ 1.05236695,  2.8911966 ],\n",
              "       [ 1.02133905, -0.94894714],\n",
              "       [ 0.99450092,  0.20219709],\n",
              "       [ 1.01929872,  3.07508587],\n",
              "       [ 1.01111464,  0.0855734 ],\n",
              "       [ 0.89397577, -1.39638582],\n",
              "       [ 0.97880693, -1.27154797],\n",
              "       [ 0.85239364, -2.4742013 ],\n",
              "       [ 0.98037601,  2.69785597],\n",
              "       [ 0.87675034,  0.26761474],\n",
              "       [ 1.10072225,  0.54447405],\n",
              "       [ 0.8453371 ,  2.71258794],\n",
              "       [ 0.850402  ,  2.58259471],\n",
              "       [ 1.02472279, -2.8687019 ],\n",
              "       [ 0.99254198,  1.7287287 ],\n",
              "       [ 0.72223682, -1.24514609],\n",
              "       [ 0.75077485, -0.7819286 ],\n",
              "       [ 1.0027975 , -1.00580329],\n",
              "       [ 0.96410652, -1.57367102],\n",
              "       [ 0.78957743,  1.03673649],\n",
              "       [ 0.77969921,  2.96466209],\n",
              "       [ 0.97328112, -2.22677633],\n",
              "       [ 0.75356855,  1.3515549 ],\n",
              "       [ 1.00764819,  2.65000156],\n",
              "       [ 0.84818548, -1.65742954],\n",
              "       [ 0.83576122, -2.54666756],\n",
              "       [ 1.06574501,  0.07780619],\n",
              "       [ 1.06804244, -2.31490107],\n",
              "       [ 0.72730742,  0.16713714],\n",
              "       [ 0.79264583,  0.58758032],\n",
              "       [ 0.91568114,  2.00590575],\n",
              "       [ 0.85124859,  0.03848137],\n",
              "       [ 1.0196889 ,  2.41289402],\n",
              "       [ 1.0399574 , -0.88931451],\n",
              "       [ 0.97849069, -1.90929438],\n",
              "       [ 0.98221835,  0.38706663],\n",
              "       [ 0.79605322, -0.72632522],\n",
              "       [ 0.86730278, -1.47776369],\n",
              "       [ 0.85920192,  2.61851255],\n",
              "       [ 0.73595245, -1.13533871],\n",
              "       [ 0.83447968, -1.79836067],\n",
              "       [ 0.7167587 , -3.12090366],\n",
              "       [ 1.04170016,  1.30240433],\n",
              "       [ 0.9473517 , -3.02761201],\n",
              "       [ 1.04921975, -1.4847879 ],\n",
              "       [ 0.77184827, -0.1778029 ],\n",
              "       [ 0.89930265,  1.11080661],\n",
              "       [ 0.99459959, -2.77955961],\n",
              "       [ 0.66339777,  2.15592342],\n",
              "       [ 0.73609581,  2.23742431],\n",
              "       [ 0.74224258,  3.02474947],\n",
              "       [ 0.76739937,  1.41629605],\n",
              "       [ 0.7208857 ,  1.62301705],\n",
              "       [ 0.74159217, -2.36663607],\n",
              "       [ 0.74627073,  0.82169989],\n",
              "       [ 0.91994159,  1.31695908],\n",
              "       [ 0.95632192,  0.57756648],\n",
              "       [ 0.82850764, -3.11949346],\n",
              "       [ 1.04397278, -0.57979099],\n",
              "       [ 0.97207721,  2.54383342],\n",
              "       [ 0.91364239,  1.90850662],\n",
              "       [ 0.76705711, -2.13210812],\n",
              "       [ 1.03477593,  1.00489378],\n",
              "       [ 0.96622891, -1.34280016],\n",
              "       [ 0.76459065,  2.28628973],\n",
              "       [ 1.05142758,  2.23811706],\n",
              "       [ 0.99588354, -2.13194336],\n",
              "       [ 1.00493243, -2.01946681],\n",
              "       [ 0.79109101,  1.28943835],\n",
              "       [ 0.95870119, -2.57121147],\n",
              "       [ 1.08297383,  1.77574207],\n",
              "       [ 0.78143999, -0.89576969],\n",
              "       [ 0.94814087, -0.33215492],\n",
              "       [ 1.00509686, -0.08008147],\n",
              "       [ 0.78821599, -2.84871423],\n",
              "       [ 0.98225563, -1.72961627],\n",
              "       [ 0.78432733, -0.45083469],\n",
              "       [ 0.79723563, -0.61749016],\n",
              "       [ 0.9610468 ,  3.0251668 ],\n",
              "       [ 0.78789418, -2.21848458],\n",
              "       [ 0.96919547,  2.15709656],\n",
              "       [ 1.00063641,  0.92609075],\n",
              "       [ 1.04928725, -0.272236  ],\n",
              "       [ 1.07701835, -2.49650354],\n",
              "       [ 0.98564101, -0.58755654],\n",
              "       [ 0.75116299,  1.75563514],\n",
              "       [ 1.02893325,  0.86129133],\n",
              "       [ 1.07022912,  1.89320243],\n",
              "       [ 0.80996122,  0.00583338],\n",
              "       [ 0.95267776,  0.44090293],\n",
              "       [ 0.79192894, -0.27963608],\n",
              "       [ 0.80216123, -1.99701433],\n",
              "       [ 0.79044016,  1.92487079]])"
            ]
          },
          "metadata": {
            "tags": []
          },
          "execution_count": 19
        }
      ]
    },
    {
      "cell_type": "code",
      "metadata": {
        "id": "6-LGkwx_HeGU",
        "colab_type": "code",
        "colab": {
          "base_uri": "https://localhost:8080/",
          "height": 71
        },
        "outputId": "e61079c9-a21c-4137-8f34-d2d8b0e4fa71"
      },
      "source": [
        "import seaborn as sns"
      ],
      "execution_count": 20,
      "outputs": [
        {
          "output_type": "stream",
          "text": [
            "/usr/local/lib/python3.6/dist-packages/statsmodels/tools/_testing.py:19: FutureWarning: pandas.util.testing is deprecated. Use the functions in the public API at pandas.testing instead.\n",
            "  import pandas.util.testing as tm\n"
          ],
          "name": "stderr"
        }
      ]
    },
    {
      "cell_type": "code",
      "metadata": {
        "id": "L7Y5EPEuJjuf",
        "colab_type": "code",
        "colab": {}
      },
      "source": [
        "Y[Y==0]=-1\n",
        "Y[Y==1]=1"
      ],
      "execution_count": 0,
      "outputs": []
    },
    {
      "cell_type": "code",
      "metadata": {
        "id": "Q4X0ZX94Pj1L",
        "colab_type": "code",
        "colab": {
          "base_uri": "https://localhost:8080/",
          "height": 34
        },
        "outputId": "21e81e6f-d543-42cf-87c0-5227fcda73fa"
      },
      "source": [
        "len(Y)"
      ],
      "execution_count": 22,
      "outputs": [
        {
          "output_type": "execute_result",
          "data": {
            "text/plain": [
              "100"
            ]
          },
          "metadata": {
            "tags": []
          },
          "execution_count": 22
        }
      ]
    },
    {
      "cell_type": "code",
      "metadata": {
        "id": "N10uPY8vPqGi",
        "colab_type": "code",
        "colab": {
          "base_uri": "https://localhost:8080/",
          "height": 34
        },
        "outputId": "21123528-b69c-4850-e649-d299b470ff0f"
      },
      "source": [
        "len(pol)"
      ],
      "execution_count": 23,
      "outputs": [
        {
          "output_type": "execute_result",
          "data": {
            "text/plain": [
              "100"
            ]
          },
          "metadata": {
            "tags": []
          },
          "execution_count": 23
        }
      ]
    },
    {
      "cell_type": "code",
      "metadata": {
        "id": "FPUO5A4fHaN_",
        "colab_type": "code",
        "colab": {
          "base_uri": "https://localhost:8080/",
          "height": 282
        },
        "outputId": "2f555230-c170-42d3-c495-918d1dc49773"
      },
      "source": [
        "sns.scatterplot(x=pol[:,0],y=pol[:,1],hue=Y)"
      ],
      "execution_count": 24,
      "outputs": [
        {
          "output_type": "execute_result",
          "data": {
            "text/plain": [
              "<matplotlib.axes._subplots.AxesSubplot at 0x7fb46dd07c50>"
            ]
          },
          "metadata": {
            "tags": []
          },
          "execution_count": 24
        },
        {
          "output_type": "display_data",
          "data": {
            "image/png": "[encoded data removed]",
            "text/plain": [
              "<Figure size 432x288 with 1 Axes>"
            ]
          },
          "metadata": {
            "tags": [],
            "needs_background": "light"
          }
        }
      ]
    },
    {
      "cell_type": "markdown",
      "metadata": {
        "id": "k9RC8lVS81F8",
        "colab_type": "text"
      },
      "source": [
        "\n",
        "\n",
        "---\n",
        "\n",
        "\n",
        "**Visualize the data points in the new feature space \"if possible\" to see whether they got separated or not.**\n",
        "\n",
        "\n",
        "---\n",
        "\n"
      ]
    },
    {
      "cell_type": "code",
      "metadata": {
        "id": "9wSXpQbkIFj3",
        "colab_type": "code",
        "colab": {
          "base_uri": "https://localhost:8080/",
          "height": 119
        },
        "outputId": "6910a905-c850-4eb2-9242-c5dfd14d6213"
      },
      "source": [
        "Y"
      ],
      "execution_count": 25,
      "outputs": [
        {
          "output_type": "execute_result",
          "data": {
            "text/plain": [
              "array([ 1, -1, -1,  1,  1,  1, -1, -1, -1, -1, -1, -1,  1, -1,  1, -1,  1,\n",
              "       -1,  1,  1, -1, -1,  1,  1, -1, -1,  1,  1, -1,  1, -1,  1,  1, -1,\n",
              "       -1,  1,  1, -1,  1, -1, -1, -1, -1,  1,  1,  1,  1,  1,  1, -1, -1,\n",
              "       -1,  1,  1, -1,  1,  1,  1,  1,  1,  1,  1, -1, -1,  1, -1, -1,  1,\n",
              "        1, -1, -1,  1, -1, -1, -1,  1, -1, -1,  1, -1, -1,  1, -1,  1,  1,\n",
              "       -1,  1, -1, -1, -1, -1, -1,  1, -1, -1,  1,  1,  1,  1,  1])"
            ]
          },
          "metadata": {
            "tags": []
          },
          "execution_count": 25
        }
      ]
    },
    {
      "cell_type": "code",
      "metadata": {
        "id": "jJ-K3e7HIGG_",
        "colab_type": "code",
        "colab": {}
      },
      "source": [
        "wnew=svm_function(pol,Y, 1000, 1)"
      ],
      "execution_count": 0,
      "outputs": []
    },
    {
      "cell_type": "code",
      "metadata": {
        "id": "Ig1vd1BnIWpG",
        "colab_type": "code",
        "colab": {
          "base_uri": "https://localhost:8080/",
          "height": 265
        },
        "outputId": "d08677c9-3ef5-4975-af6a-5387a2edd7a7"
      },
      "source": [
        "sns.scatterplot(x=pol[:,0],y=pol[:,1],hue=Y,alpha=1)\n",
        "xx = np.linspace(0.8,1,150)\n",
        "y_pred1 = (-wnew[0]*xx - wnew[2])/wnew[1] + 1/LA.norm(wnew)\n",
        "plt.plot(xx, y_pred1, label = '1st Support Vector',color='red')\n",
        "\n",
        "y=(-wnew[0]*xx - wnew[2])/wnew[1]\n",
        "plt.plot(xx.T, y, label = 'Prediction Boundary',color='black')\n",
        "\n",
        "y_pred2 = (-wnew[0]*xx - wnew[2])/wnew[1] - 1/LA.norm(wnew)\n",
        "plt.plot(xx, y_pred2, label = '2nd Support Vector',color='blue')\n",
        "plt.legend(loc='best')\n",
        "plt.show()\n"
      ],
      "execution_count": 27,
      "outputs": [
        {
          "output_type": "display_data",
          "data": {
            "image/png": "[encoded data removed]",
            "text/plain": [
              "<Figure size 432x288 with 1 Axes>"
            ]
          },
          "metadata": {
            "tags": [],
            "needs_background": "light"
          }
        }
      ]
    },
    {
      "cell_type": "code",
      "metadata": {
        "id": "u-ahqrbvIzpF",
        "colab_type": "code",
        "colab": {}
      },
      "source": [
        "cart=pol2cart(xx,(-wnew[0]*xx - wnew[2])/wnew[1])"
      ],
      "execution_count": 0,
      "outputs": []
    },
    {
      "cell_type": "code",
      "metadata": {
        "id": "R3N5RNBdUbbn",
        "colab_type": "code",
        "colab": {}
      },
      "source": [
        "cart=np.column_stack((cart[0],cart[1]))"
      ],
      "execution_count": 0,
      "outputs": []
    },
    {
      "cell_type": "code",
      "metadata": {
        "id": "PnIqSTn8VLeU",
        "colab_type": "code",
        "colab": {
          "base_uri": "https://localhost:8080/",
          "height": 282
        },
        "outputId": "a3a7f3b9-f733-4699-d6ca-d4fa3d67202e"
      },
      "source": [
        "plt.scatter(x=cart[:,0],y=cart[:,1], label = 'Prediction Boundary',color='red',marker='*')"
      ],
      "execution_count": 30,
      "outputs": [
        {
          "output_type": "execute_result",
          "data": {
            "text/plain": [
              "<matplotlib.collections.PathCollection at 0x7fb46dbd1588>"
            ]
          },
          "metadata": {
            "tags": []
          },
          "execution_count": 30
        },
        {
          "output_type": "display_data",
          "data": {
            "image/png": "[encoded data removed]",
            "text/plain": [
              "<Figure size 432x288 with 1 Axes>"
            ]
          },
          "metadata": {
            "tags": [],
            "needs_background": "light"
          }
        }
      ]
    },
    {
      "cell_type": "code",
      "metadata": {
        "id": "9-7OoKJiUFp7",
        "colab_type": "code",
        "colab": {
          "base_uri": "https://localhost:8080/",
          "height": 265
        },
        "outputId": "4e6dabb7-11e4-46bf-9335-2ff6eaa1f419"
      },
      "source": [
        "sns.scatterplot(x=a[:,0],y=a[:,1],hue=Y,alpha=1)\n",
        "\n",
        "plt.scatter(x=cart[:,0],y=cart[:,1], label = 'Prediction Boundary',color='red',marker='*',linewidth=0.001)\n",
        "\n",
        "\n",
        "plt.legend(loc='best')\n",
        "plt.show()"
      ],
      "execution_count": 31,
      "outputs": [
        {
          "output_type": "display_data",
          "data": {
            "image/png": "[encoded data removed]",
            "text/plain": [
              "<Figure size 432x288 with 1 Axes>"
            ]
          },
          "metadata": {
            "tags": [],
            "needs_background": "light"
          }
        }
      ]
    }
  ]
}